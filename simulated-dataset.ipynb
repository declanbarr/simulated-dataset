{
 "cells": [
  {
   "cell_type": "markdown",
   "metadata": {},
   "source": [
    "# A Simulated Dataset of a Real-World Phenomenom"
   ]
  },
  {
   "cell_type": "markdown",
   "metadata": {},
   "source": [
    "## Introduction\n",
    "\n",
    "The real-world phenomenom that I will be looking at is the relationship between obesity and increased mortaility. Obesity grades 2 and 3 (BMI >/= 35) is associated with an aproximate 30% increase in all-cause mortality https://www.ncbi.nlm.nih.gov/pmc/articles/PMC4855514/. \n",
    "\n",
    "This dataset can be used to predict the number of people in a population that will suffer from obesity and therefore an increase in all-cause mortality.\n",
    "\n",
    "(include underweight as well - https://www.ncbi.nlm.nih.gov/pmc/articles/PMC4021191/)\n",
    "\n",
    "(Define all-cause mortality)\n"
   ]
  },
  {
   "cell_type": "markdown",
   "metadata": {},
   "source": [
    "## Investigation\n",
    "Variables to look at:\n",
    "Sex (What is the proportion of males to females?)\n",
    "Weight (Average weight by sex and the standard deviation)\n",
    "Height (Average height and standard deviation)\n",
    "BMI \n",
    "BMI Category \n",
    "Risk of all-cause mortality\n",
    "\n",
    "For sex, there are different average weights and heights for males and females.\n",
    "\n",
    "\n",
    "\n",
    "(What kind of variables are being used - discrete, continuous, categorical etc - https://www.statisticshowto.datasciencecentral.com/types-variables/)"
   ]
  },
  {
   "cell_type": "markdown",
   "metadata": {},
   "source": [
    "We'll start by importing some libraries"
   ]
  },
  {
   "cell_type": "code",
   "execution_count": 1,
   "metadata": {},
   "outputs": [],
   "source": [
    "import numpy as np\n",
    "import pandas as pd\n",
    "import matplotlib.pyplot as plt"
   ]
  },
  {
   "cell_type": "markdown",
   "metadata": {},
   "source": [
    "### Age"
   ]
  },
  {
   "cell_type": "code",
   "execution_count": 2,
   "metadata": {},
   "outputs": [
    {
     "data": {
      "text/plain": [
       "3102575"
      ]
     },
     "execution_count": 2,
     "metadata": {},
     "output_type": "execute_result"
    }
   ],
   "source": [
    "adults15to24 = 301114 + 292055\n",
    "adults25to54 = 1087587 + 1077383 \n",
    "adults55to64 = 261650 + 260737\n",
    "\n",
    "adults18to24 = int(adults15to24 * 0.7)\n",
    "\n",
    "totalAdults18to64 = adults18to24 + adults25to54 + adults55to64 \n",
    "\n",
    "totalAdults18to64"
   ]
  },
  {
   "cell_type": "code",
   "execution_count": 3,
   "metadata": {},
   "outputs": [
    {
     "name": "stdout",
     "output_type": "stream",
     "text": [
      "Proportion of adults aged 15 to 24: 0.13383012497683375\n",
      "Proportion of adults aged 25 to 54: 0.6977977969912089\n",
      "Proportion of adults aged 55 to 64: 0.16837207803195733\n"
     ]
    }
   ],
   "source": [
    "proportion18to24 = adults18to24/totalAdults18to64\n",
    "proportion25to54 = adults25to54/totalAdults18to64\n",
    "proportion55to64 = adults55to64/totalAdults18to64\n",
    "\n",
    "print(f\"Proportion of adults aged 15 to 24: {proportion18to24}\")\n",
    "print(f\"Proportion of adults aged 25 to 54: {proportion25to54}\")\n",
    "print(f\"Proportion of adults aged 55 to 64: {proportion55to64}\")"
   ]
  },
  {
   "cell_type": "markdown",
   "metadata": {},
   "source": [
    "### Sex ratio\n",
    "\n",
    "The ratio of males to females in Ireland are:\n",
    "Aged 15 to 24: 301,114 males and 292,055 females (1.03 m/f)\n",
    "Aged 25 to 54: 1,087,587 males and 1,077,383 females (1.01 m/f)\n",
    "Aged 55 to 64: 261,650 males and 260,737 females (1 m/f)\n",
    "\n",
    "(Reference - https://www.indexmundi.com/ireland/demographics_profile.html)"
   ]
  },
  {
   "cell_type": "code",
   "execution_count": 4,
   "metadata": {},
   "outputs": [
    {
     "name": "stdout",
     "output_type": "stream",
     "text": [
      "The number of males aged 15 to 64 in Ireland is 1650351\n",
      "The number of females aged 15 to 64 in Ireland is 1630175\n",
      "The total number of males and females aged 15 to 64 in Ireland is 3280526\n"
     ]
    }
   ],
   "source": [
    "# Number of males and females in Ireland aged 15 to 64 years old\n",
    "males = 301114 + 1087587 + 261650\n",
    "females = 292055 + 1077383 + 260737\n",
    "\n",
    "# Total number of adults in Ireland aged 15 to 64 years old\n",
    "total = males + females\n",
    "\n",
    "print(f\"The number of males aged 15 to 64 in Ireland is {males}\")\n",
    "print(f\"The number of females aged 15 to 64 in Ireland is {females}\")\n",
    "print(f\"The total number of males and females aged 15 to 64 in Ireland is {total}\")\n",
    "      "
   ]
  },
  {
   "cell_type": "code",
   "execution_count": 5,
   "metadata": {},
   "outputs": [
    {
     "name": "stdout",
     "output_type": "stream",
     "text": [
      "0.5030751166123969\n",
      "0.4969248833876031\n"
     ]
    }
   ],
   "source": [
    "# Ratio of males to females in Ireland aged 15 to 64\n",
    "\n",
    "ratioOfMales = males/ total\n",
    "ratioOfFemales = females/ total\n",
    "\n",
    "print(ratioOfMales)\n",
    "print(ratioOfFemales)"
   ]
  },
  {
   "cell_type": "markdown",
   "metadata": {},
   "source": [
    "The figures below for weight and height are for 18 to 64 year olds. Here an assumption will be made that the ratio for males to females in Ireland aged 18 to 64 year olds will be the same as 15 to 64 year olds. However, as can be seen from the ratios above, the number of males to females decreases as age increases (1.03 for 15 to 24 year olds, 1.01 for 25 to 54 and 1.00 55 to 64 years).\n",
    "\n",
    "We can now create a random sample of 1000 people which will have the same ratio of males to females as was found above"
   ]
  },
  {
   "cell_type": "code",
   "execution_count": 6,
   "metadata": {},
   "outputs": [
    {
     "data": {
      "text/plain": [
       "(array(['female', 'male'],\n",
       "       dtype='<U6'), array([ 983, 1017], dtype=int64))"
      ]
     },
     "execution_count": 6,
     "metadata": {},
     "output_type": "execute_result"
    }
   ],
   "source": [
    "# Creating a 1D array with male and female as the elements\n",
    "\n",
    "sex =[\"male\", \"female\"]\n",
    "\n",
    "sampleSize = 2000\n",
    "\n",
    "sexArray = np.random.choice(sex, sampleSize, p=[ratioOfMales, ratioOfFemales])\n",
    "\n",
    "np.unique(sexArray, return_counts=True)"
   ]
  },
  {
   "cell_type": "markdown",
   "metadata": {},
   "source": [
    "### Weight\n",
    "\n",
    "Mean adult (18 to 64 years old) male body weight is 86.2 kg with a standard deviation of 15.0 kg. (Reference - https://irp-cdn.multiscreensite.com/46a7ad27/files/uploaded/The%20National%20Adult%20Nutrition%20Survey%20%282008-2010%29.pdf)\n",
    "\n",
    "Mean adult (18 to 64 years old) female bodyweight is 70.0 kg with a standard deviation of 13.7 kg. (Reference - https://irp-cdn.multiscreensite.com/46a7ad27/files/uploaded/The%20National%20Adult%20Nutrition%20Survey%20%282008-2010%29.pdf)"
   ]
  },
  {
   "cell_type": "code",
   "execution_count": 7,
   "metadata": {},
   "outputs": [],
   "source": [
    "# Assigning variables for weight\n",
    "\n",
    "meanMaleWeight, maleWeightSD = 86.2, 15.0\n",
    "meanFemaleWeight, femaleWeightSD = 70.0, 13.7"
   ]
  },
  {
   "cell_type": "markdown",
   "metadata": {},
   "source": [
    "The median values for males and females are 85.1 kg and 67.5 kg respectively. The distributions for weight for males and females are therefore are both positively skewed. We can also see this by examining the 5th and 95th percentiles. For males these are 64.0 kg and 112.6 kg, respectively(Reference - https://irp-cdn.multiscreensite.com/46a7ad27/files/uploaded/The%20National%20Adult%20Nutrition%20Survey%20%282008-2010%29.pdf). For females, these are 52.2 kg and 96.3 kg respectively(Reference - https://irp-cdn.multiscreensite.com/46a7ad27/files/uploaded/The%20National%20Adult%20Nutrition%20Survey%20%282008-2010%29.pdf). \n",
    "\n",
    "The differences between these and their respective medians can be calculated as follows:"
   ]
  },
  {
   "cell_type": "code",
   "execution_count": 8,
   "metadata": {},
   "outputs": [
    {
     "name": "stdout",
     "output_type": "stream",
     "text": [
      "The difference between the median body weight for males and the 5th and 95th percentiles are:\n",
      "5th percentile: 21.099999999999994\n",
      "95th percentile: 27.5\n",
      "The difference between the median body weight for females and the 5th and 95th percentiles are:\n",
      "5th percentile: 15.299999999999997\n",
      "95th percentile: 28.799999999999997\n"
     ]
    }
   ],
   "source": [
    "# Assigning median, 5th perentile and 95th percentiles\n",
    "\n",
    "maleMedian, male5th, male95th = 85.1, 64.0, 112.6\n",
    "femaleMedian, female5th, female95th = 67.5, 52.2, 96.3\n",
    "\n",
    "# Calculating difference between medians and 5th and 95th percentiles\n",
    "male5thdiff = maleMedian - male5th\n",
    "male95thdiff = male95th - maleMedian\n",
    "\n",
    "female5thdiff = femaleMedian - female5th\n",
    "female95thdiff = female95th - femaleMedian\n",
    "\n",
    "print(f\"The difference between the median body weight for males and the 5th and 95th percentiles are:\")\n",
    "print(f\"5th percentile: {male5thdiff}\")\n",
    "print(f\"95th percentile: {male95thdiff}\")\n",
    "\n",
    "print(f\"The difference between the median body weight for females and the 5th and 95th percentiles are:\")\n",
    "print(f\"5th percentile: {female5thdiff}\")\n",
    "print(f\"95th percentile: {female95thdiff}\")"
   ]
  },
  {
   "cell_type": "markdown",
   "metadata": {},
   "source": [
    "This also shows that body weight is not normally distributed but is instead positively skewed.\n",
    "\n",
    "A study of German, Norwegian and Austrian conscripts also found that body weight is not normally distributed. \n",
    "\n",
    "(Reference - https://www.ncbi.nlm.nih.gov/pubmed/11673780)\n",
    "\n",
    "There may be a diproportionately larger number of obese people than underweight (therefore leading to the positive skewness) due to the fact that the more a person weighs the easier it then is for them to gain even more weight. (Reference - https://www.researchgate.net/publication/7006581_The_Changing_Shape_of_the_Body_Mass_Index_Distribution_Curve_in_the_Population_Implications_for_Public_Health_Policy_to_Reduce_the_Prevalence_of_Adult_Obesity)\n",
    "\n",
    "Firstly we will create a normal distribution for male and female weights"
   ]
  },
  {
   "cell_type": "code",
   "execution_count": 9,
   "metadata": {},
   "outputs": [
    {
     "data": {
      "text/plain": [
       "(array([  13.,   39.,   85.,  121.,  202.,  236.,  166.,   84.,   40.,   14.]),\n",
       " array([  31.28712492,   38.86078105,   46.43443717,   54.0080933 ,\n",
       "          61.58174943,   69.15540556,   76.72906168,   84.30271781,\n",
       "          91.87637394,   99.45003007,  107.0236862 ]),\n",
       " <a list of 10 Patch objects>)"
      ]
     },
     "execution_count": 9,
     "metadata": {},
     "output_type": "execute_result"
    },
    {
     "data": {
      "image/png": "[encoded data removed]",
      "text/plain": [
       "<matplotlib.figure.Figure at 0x1e55f583550>"
      ]
     },
     "metadata": {
      "needs_background": "light"
     },
     "output_type": "display_data"
    }
   ],
   "source": [
    "# Creating a random Normally distributed array for male and female weight\n",
    "maleWeightDist = np.random.normal(meanMaleWeight, maleWeightSD, 1000)\n",
    "femaleWeightDist = np.random.normal(meanFemaleWeight, femaleWeightSD, 1000)\n",
    "\n",
    "\n",
    "# Displaying the male and female weights on a histogram\n",
    "plt.subplot(121)\n",
    "plt.hist(maleWeightDist)\n",
    "\n",
    "plt.subplot(122)\n",
    "plt.hist(femaleWeightDist)"
   ]
  },
  {
   "cell_type": "markdown",
   "metadata": {},
   "source": [
    "From above in the https://irp-cdn.multiscreensite.com/46a7ad27/files/uploaded/The%20National%20Adult%20Nutrition%20Survey%20%282008-2010%29.pdf it was found that the male 5th and 95th percentiles were 64.0 and 112.6 respectively. We can view what these values are for the normally distributed male weight distribution:"
   ]
  },
  {
   "cell_type": "code",
   "execution_count": 10,
   "metadata": {},
   "outputs": [
    {
     "name": "stdout",
     "output_type": "stream",
     "text": [
      "The 5th percentile for normally distributed male weight is: 60.56611067437662 (difference from real value is: 3.433889325623383)\n",
      "The 95th percentile for normally distributed male weight is: 110.93727583890654 (difference from real value is: 1.6627241610934504)\n",
      "The 5th percentile for normally distributed female weight is: 46.36706566390569 (difference from real value is: 5.832934336094311)\n",
      "The 95th percentile for normally distributed female weight is: 92.57385954423619 (difference from real value is: 3.7261404557638116)\n"
     ]
    }
   ],
   "source": [
    "# Assigning the 5th percentile for normally distributed male and female weight\n",
    "male5thNormal = np.percentile(maleWeightDist, 5)\n",
    "female5thNormal = np.percentile(femaleWeightDist, 5)\n",
    "\n",
    "# Assigning the 95th percentile for normally distributed male and female weight\n",
    "male95thNormal = np.percentile(maleWeightDist, 95)\n",
    "female95thNormal = np.percentile(femaleWeightDist, 95)\n",
    "\n",
    "# Printing the 5th and 95th percentiles for normally distributed male and female weight\n",
    "print(f\"The 5th percentile for normally distributed male weight is: {male5thNormal} (difference from real value is: {male5th-male5thNormal})\")\n",
    "print(f\"The 95th percentile for normally distributed male weight is: {male95thNormal} (difference from real value is: {male95th-male95thNormal})\")\n",
    "\n",
    "print(f\"The 5th percentile for normally distributed female weight is: {female5thNormal} (difference from real value is: {female5th-female5thNormal})\")\n",
    "print(f\"The 95th percentile for normally distributed female weight is: {female95thNormal} (difference from real value is: {female95th-female95thNormal})\")"
   ]
  },
  {
   "cell_type": "markdown",
   "metadata": {},
   "source": [
    "As would be expected, the results are lower than the positively skewed real values. Also the female values are more skewed than the male values."
   ]
  },
  {
   "cell_type": "markdown",
   "metadata": {},
   "source": [
    "We can create a positively skewed distribution using the following code:"
   ]
  },
  {
   "cell_type": "code",
   "execution_count": 11,
   "metadata": {},
   "outputs": [
    {
     "name": "stdout",
     "output_type": "stream",
     "text": [
      "The 5th percentile for the skewed normal distribution for males is: 61.69407457208271 (real is: 64.0)\n",
      "The 95th percentile for the skewed normal distribution for males is: 113.84194585091015 (real is: 112.6)\n",
      "The 5th percentile for the skewed normal distribution for females is: 52.81742669714446 (real is: 52.2)\n",
      "The 95th percentile for the skewed normal distribution for females is: 95.72242059590421 (real is: 96.3)\n"
     ]
    }
   ],
   "source": [
    "# Importing the skewnorm function from scipy.stats \n",
    "# From https://docs.scipy.org/doc/scipy/reference/generated/scipy.stats.skewnorm.html#scipy.stats.skewnorm \n",
    "from scipy.stats import skewnorm\n",
    "\n",
    "# Creating a skewed normal distribution for male weight with a skewness factor of 0.1\n",
    "maleWeightSkewedDist = skewnorm.rvs(0.1, loc=meanMaleWeight, scale=maleWeightSD, size=1000)\n",
    "\n",
    "# Creating a skewed normal distribution for female weight with a skewness factor of 0.4\n",
    "femaleWeightSkewedDist = skewnorm.rvs(0.4, loc=meanFemaleWeight, scale=femaleWeightSD, size=1000)\n",
    "\n",
    "# Assigning the 5th percentile for the skewed normal weight distribution for males and females\n",
    "male5thSkewed = np.percentile(maleWeightSkewedDist, 5)\n",
    "female5thSkewed = np.percentile(femaleWeightSkewedDist, 5)\n",
    "\n",
    "# Assigning the 95th percentile for the skewed normal weight distribution for male and females\n",
    "male95thSkewed = np.percentile(maleWeightSkewedDist, 95)\n",
    "female95thSkewed = np.percentile(femaleWeightSkewedDist, 95)\n",
    "\n",
    "\n",
    "print(f\"The 5th percentile for the skewed normal distribution for males is: {male5thSkewed} (real is: {male5th})\")\n",
    "print(f\"The 95th percentile for the skewed normal distribution for males is: {male95thSkewed} (real is: {male95th})\")\n",
    "\n",
    "print(f\"The 5th percentile for the skewed normal distribution for females is: {female5thSkewed} (real is: {female5th})\")\n",
    "print(f\"The 95th percentile for the skewed normal distribution for females is: {female95thSkewed} (real is: {female95th})\")"
   ]
  },
  {
   "cell_type": "code",
   "execution_count": 12,
   "metadata": {},
   "outputs": [
    {
     "data": {
      "text/plain": [
       "(array([   2.,   15.,   54.,  141.,  236.,  240.,  189.,   93.,   25.,    5.]),\n",
       " array([  28.3164615 ,   37.00059231,   45.68472312,   54.36885394,\n",
       "          63.05298475,   71.73711556,   80.42124638,   89.10537719,\n",
       "          97.78950801,  106.47363882,  115.15776963]),\n",
       " <a list of 10 Patch objects>)"
      ]
     },
     "execution_count": 12,
     "metadata": {},
     "output_type": "execute_result"
    },
    {
     "data": {
      "image/png": "[encoded data removed]",
      "text/plain": [
       "<matplotlib.figure.Figure at 0x1e55f4dbe48>"
      ]
     },
     "metadata": {
      "needs_background": "light"
     },
     "output_type": "display_data"
    }
   ],
   "source": [
    "# Plotting the skewed normal male and female weight distributions\n",
    "\n",
    "plt.subplot(121)\n",
    "plt.hist(maleWeightSkewedDist)\n",
    "\n",
    "plt.subplot(122)\n",
    "plt.hist(femaleWeightSkewedDist)"
   ]
  },
  {
   "cell_type": "markdown",
   "metadata": {},
   "source": [
    "### Height\n",
    "\n",
    "Human height is normally distributed (Ref - https://www.johndcook.com/blog/2008/07/20/why-heights-are-normally-distributed/). The reason for this is that there are many genetic and envirnomental factors that are involved in height which leads to the large variation (Ref https://www.johndcook.com/blog/2008/07/20/why-heights-are-normally-distributed/).\n",
    "\n",
    "Mean adult (18 to 64 years old) male height is 1.77 m with a standard deviation of 0.07 m. (Ref - https://irp-cdn.multiscreensite.com/46a7ad27/files/uploaded/The%20National%20Adult%20Nutrition%20Survey%20%282008-2010%29.pdf)\n",
    "Mean adult (18 to 64 years old) female height is 1.63 m with a standard deviation of 0.06 m. (Ref - https://irp-cdn.multiscreensite.com/46a7ad27/files/uploaded/The%20National%20Adult%20Nutrition%20Survey%20%282008-2010%29.pdf)"
   ]
  },
  {
   "cell_type": "code",
   "execution_count": 13,
   "metadata": {},
   "outputs": [],
   "source": [
    "# Setting height variables\n",
    "maleHeight, femaleHeight = 1.77, 1.63\n",
    "maleHeightSD, femaleHeightSD = 0.07, 0.06"
   ]
  },
  {
   "cell_type": "code",
   "execution_count": 14,
   "metadata": {},
   "outputs": [
    {
     "data": {
      "text/plain": [
       "(array([   9.,   36.,   90.,  199.,  248.,  216.,  134.,   53.,   13.,    2.]),\n",
       " array([ 1.4583326 ,  1.49522126,  1.53210992,  1.56899859,  1.60588725,\n",
       "         1.64277592,  1.67966458,  1.71655324,  1.75344191,  1.79033057,\n",
       "         1.82721924]),\n",
       " <a list of 10 Patch objects>)"
      ]
     },
     "execution_count": 14,
     "metadata": {},
     "output_type": "execute_result"
    },
    {
     "data": {
      "image/png": "[encoded data removed]",
      "text/plain": [
       "<matplotlib.figure.Figure at 0x1e561515cc0>"
      ]
     },
     "metadata": {
      "needs_background": "light"
     },
     "output_type": "display_data"
    }
   ],
   "source": [
    "# Creating height distributions\n",
    "maleHeightDist = np.random.normal(maleHeight, maleHeightSD, 1000)\n",
    "femaleHeightDist = np.random.normal(femaleHeight, femaleHeightSD, 1000)\n",
    "\n",
    "# Plotting distributions on a histogram\n",
    "plt.subplot(121)\n",
    "plt.hist(maleHeightDist)\n",
    "\n",
    "plt.subplot(122)\n",
    "plt.hist(femaleHeightDist)"
   ]
  },
  {
   "cell_type": "markdown",
   "metadata": {},
   "source": [
    "### BMI\n",
    "\n",
    "BMI is calculated using the following formula weight(kg)/height(m)^2 (Ref - https://journals.lww.com/nutritiontodayonline/Fulltext/2015/05000/Body_Mass_Index__Obesity,_BMI,_and_Health_A.5.aspx) (Expand on this - Why is height squared ??????)\n",
    "\n",
    "(include limitations of BMI - https://en.wikipedia.org/wiki/Body_mass_index)\n",
    "\n"
   ]
  },
  {
   "cell_type": "code",
   "execution_count": 15,
   "metadata": {},
   "outputs": [],
   "source": [
    "# Creating BMI variable for males from weight and height distributions\n",
    "maleBMI = maleWeightSkewedDist/maleHeightDist**2\n",
    "\n",
    "# Creating BMI variable for females from weight and height distributions\n",
    "femaleBMI = femaleWeightSkewedDist/femaleHeightDist**2"
   ]
  },
  {
   "cell_type": "markdown",
   "metadata": {},
   "source": [
    "### BMI Categories\n",
    "\n",
    "There are 11 different BMI categories ( Ref - https://en.wikipedia.org/wiki/Body_mass_index.)\n",
    "\n",
    "For this data set we will only look at 6:\n",
    "* Underweight (BMI of <18.5)\n",
    "* Normal (BMI of 18.5-<25.0)\n",
    "* Overweight (BMI of 25.0-<30.0)\n",
    "* Obese 1 (BMI of 30.0-<35.0)\n",
    "* Obese 2 (BMI of 35.0-<40.0)\n",
    "* Obese 3 (BMI of >/=40.0)"
   ]
  },
  {
   "cell_type": "code",
   "execution_count": 16,
   "metadata": {},
   "outputs": [
    {
     "data": {
      "text/plain": [
       "(0           Normal\n",
       " 1          Obese 2\n",
       " 2       Overweight\n",
       " 3       Overweight\n",
       " 4          Obese 1\n",
       " 5          Obese 1\n",
       " 6       Overweight\n",
       " 7           Normal\n",
       " 8       Overweight\n",
       " 9           Normal\n",
       " 10     Underweight\n",
       " 11      Overweight\n",
       " 12         Obese 1\n",
       " 13      Overweight\n",
       " 14      Overweight\n",
       " 15          Normal\n",
       " 16      Overweight\n",
       " 17     Underweight\n",
       " 18      Overweight\n",
       " 19      Overweight\n",
       " 20         Obese 1\n",
       " 21      Overweight\n",
       " 22          Normal\n",
       " 23          Normal\n",
       " 24          Normal\n",
       " 25      Overweight\n",
       " 26         Obese 1\n",
       " 27         Obese 2\n",
       " 28         Obese 1\n",
       " 29         Obese 1\n",
       "           ...     \n",
       " 970     Overweight\n",
       " 971     Overweight\n",
       " 972     Overweight\n",
       " 973        Obese 1\n",
       " 974     Overweight\n",
       " 975        Obese 1\n",
       " 976        Obese 1\n",
       " 977         Normal\n",
       " 978        Obese 1\n",
       " 979     Overweight\n",
       " 980     Overweight\n",
       " 981         Normal\n",
       " 982     Overweight\n",
       " 983         Normal\n",
       " 984     Overweight\n",
       " 985        Obese 1\n",
       " 986         Normal\n",
       " 987     Overweight\n",
       " 988    Underweight\n",
       " 989        Obese 1\n",
       " 990     Overweight\n",
       " 991        Obese 1\n",
       " 992     Overweight\n",
       " 993     Overweight\n",
       " 994     Overweight\n",
       " 995        Obese 2\n",
       " 996        Obese 1\n",
       " 997     Overweight\n",
       " 998         Normal\n",
       " 999         Normal\n",
       " Name: BMI, Length: 1000, dtype: category\n",
       " Categories (6, object): [Underweight < Normal < Overweight < Obese 1 < Obese 2 < Obese 3],\n",
       " array([    0. ,    18.5,    25. ,    30. ,    35. ,    40. ,  1000. ]))"
      ]
     },
     "execution_count": 16,
     "metadata": {},
     "output_type": "execute_result"
    }
   ],
   "source": [
    "# Creating categorical array from a continuous array\n",
    "# Adapted from https://pandas.pydata.org/pandas-docs/stable/generated/pandas.cut.html#pandas.cut\n",
    "# and from https://pandas.pydata.org/pandas-docs/stable/categorical.html\n",
    "\n",
    "df = pd.DataFrame({'BMI': maleBMI})\n",
    "\n",
    "BMICategories = [\"Underweight\", \"Normal\", \"Overweight\", \"Obese 1\", \"Obese 2\", \"Obese 3\"]\n",
    "\n",
    "BMIArray = pd.cut(df.BMI, [0.0, 18.5, 25.0, 30.0, 35.0, 40.0, 1000.0], labels=BMICategories, retbins=True, right=False)\n",
    "\n",
    "BMIArray"
   ]
  },
  {
   "cell_type": "code",
   "execution_count": 17,
   "metadata": {},
   "outputs": [
    {
     "data": {
      "text/plain": [
       "array([ 21.98682464,  36.17288005,  29.50079084,  27.85820805,\n",
       "        33.94234648,  32.77883545,  28.10597939,  23.86678075,\n",
       "        28.74744203,  21.88609006,  18.4320921 ,  29.45052178,\n",
       "        32.19565103,  26.6890388 ,  28.44429052,  24.96399164,\n",
       "        28.3770736 ,  13.72090795,  27.28250857,  26.66155778,\n",
       "        33.73621862,  29.50493155,  23.9900204 ,  19.77301515,\n",
       "        24.11832765,  27.95535755,  31.42165354,  36.86752755,\n",
       "        32.7542946 ,  33.0652585 ,  18.97043307,  35.14859269,\n",
       "        31.82142472,  28.64538244,  17.80998402,  20.41679081,\n",
       "        26.68091777,  26.11906835,  22.66867426,  21.2745746 ,\n",
       "        29.98691508,  28.97642994,  32.67468147,  34.00012725,\n",
       "        35.9554947 ,  32.94954246,  27.48307011,  19.54604059,\n",
       "        18.96617639,  33.80740517,  30.95618652,  31.75435656,\n",
       "        28.16685619,  29.51155181,  34.00953435,  28.80091044,\n",
       "        28.18691342,  26.19437474,  31.06959924,  31.14337876,\n",
       "        23.47994599,  40.17240334,  38.48831013,  24.19318141,\n",
       "        29.59433305,  31.33638691,  29.93104859,  27.45826103,\n",
       "        23.84904573,  26.81855607,  27.99224   ,  34.77560687,\n",
       "        29.35494339,  30.59210286,  36.26457187,  23.25939899,\n",
       "        26.27059238,  31.21322976,  25.73839313,  37.00721501,\n",
       "        31.41296852,  32.92529946,  21.75488823,  25.5769606 ,\n",
       "        27.60027224,  20.12283719,  28.06703428,  30.57482212,\n",
       "        24.60614482,  31.26035007,  21.57412582,  21.5712372 ,\n",
       "        25.04696696,  25.32718464,  31.80861179,  15.4918674 ,\n",
       "        32.01598027,  28.87954059,  42.43245549,  22.52951985,\n",
       "        26.60687043,  39.64814611,  17.4455708 ,  25.38955844,\n",
       "        20.57356996,  40.46070782,  24.90278179,  27.8924922 ,\n",
       "        29.70774438,  26.78298945,  21.00496176,  28.27244497,\n",
       "        17.76012406,  37.61961483,  22.1383128 ,  23.37654688,\n",
       "        11.16011369,  28.31476928,  21.86986038,  18.94816155,\n",
       "        31.76136321,  32.07636268,  30.87435445,  26.27163467,\n",
       "        26.3995456 ,  45.75136418,  28.41216848,  26.66115567,\n",
       "        23.03621983,  29.80082082,  28.99596198,  23.56804548,\n",
       "        33.75523721,  26.22307087,  35.40457052,  19.12602654,\n",
       "        26.79927399,  29.89306459,  18.60025644,  28.40372707,\n",
       "        21.7321139 ,  27.7968536 ,  24.22675464,  26.89580199,\n",
       "        28.49182633,  12.30721597,  23.15616604,  31.25949322,\n",
       "        24.4902637 ,  35.67377112,  24.98182203,  24.64403787,\n",
       "        21.03182619,  25.24930557,  29.71160112,  31.0306827 ,\n",
       "        20.30920372,  33.93984579,  19.35976932,  25.60026893,\n",
       "        27.91833572,  21.41686323,  24.10565789,  27.76150223,\n",
       "        32.07020847,  25.82456228,  27.62985999,  28.5530505 ,\n",
       "        28.07710976,  37.08360199,  28.69947136,  40.60110272,\n",
       "        34.8001984 ,  29.30549267,  27.16727229,  27.16630723,\n",
       "        27.79785793,  27.56746177,  21.85062826,  21.93880317,\n",
       "        26.45891865,  25.46788888,  25.68065572,  21.75732851,\n",
       "        26.52116792,  25.70554806,  26.39101752,  27.0895683 ,\n",
       "        18.30256244,  31.25629865,  34.00491149,  21.27154685,\n",
       "        34.94307449,  22.27842636,  28.03465937,  36.60506739,\n",
       "        37.19976017,  22.46229227,  26.40033898,  31.47361299,\n",
       "        30.4539718 ,  24.84105792,  28.58588652,  34.81828681,\n",
       "        35.37571732,  24.91627253,  35.35139731,  29.99397614,\n",
       "        36.09687255,  23.64290018,  32.37078189,  28.87727061,\n",
       "        22.50787455,  36.49635805,  25.81917665,  19.04674587,\n",
       "        23.01800247,  24.91871336,  29.44306318,  19.59969247,\n",
       "        28.19551917,  25.16614056,  25.82147352,  28.91298653,\n",
       "        39.95565307,  24.63551333,  24.7119553 ,  25.85609657,\n",
       "        27.9968522 ,  24.52670821,  19.64109703,  18.3680569 ,\n",
       "        19.96241787,  27.9642009 ,  26.27597622,  20.27813293,\n",
       "        29.85109404,  33.15798659,  36.00963415,  33.42052805,\n",
       "        24.15195235,  31.53119188,  35.8817549 ,  37.9344553 ,\n",
       "        31.87764504,  29.80516397,  19.45198711,  24.60172248,\n",
       "        22.34563326,  24.73931337,  34.21837408,  23.24918576,\n",
       "        28.79288939,  19.11579298,  21.34583671,  22.52956759,\n",
       "        38.07465918,  32.26289655,  31.19956251,  29.17818245,\n",
       "        25.38238618,  31.68200262,  23.81696681,  25.03999098,\n",
       "        20.95364363,  21.94587623,  27.27597309,  22.67104322,\n",
       "        25.01218602,  35.16943623,  31.50217423,  30.54810751,\n",
       "        31.9275577 ,  34.03151719,  26.83095949,  26.9105451 ,\n",
       "        24.91006567,  33.85420047,  39.91176763,  18.95466288,\n",
       "        26.34911297,  26.40817376,  38.30386448,  22.55028002,\n",
       "        36.48005346,  27.87258744,  29.24627465,  25.69427655,\n",
       "        24.32045502,  28.46620599,  34.65272534,  36.54755321,\n",
       "        22.54743828,  20.39494863,  32.34598245,  34.76479611,\n",
       "        26.10526903,  37.59838547,  28.63133446,  23.33075171,\n",
       "        21.57684166,  27.41210184,  23.67228162,  35.31769502,\n",
       "        24.51168725,  31.94164848,  32.11057426,  27.94766423,\n",
       "        30.16886774,  27.7053189 ,  28.3728241 ,  23.40038459,\n",
       "        24.74719015,  32.12249742,  28.257016  ,  32.7067006 ,\n",
       "        33.17348016,  30.70527229,  23.76885817,  39.13560339,\n",
       "        27.22531257,  28.63564064,  27.30512056,  19.25927911,\n",
       "        20.99389352,  26.41466372,  24.45016655,  23.12834601,\n",
       "        30.42961883,  34.09870164,  30.77488606,  39.98390358,\n",
       "        23.75978618,  20.15266088,  29.83785767,  39.10982548,\n",
       "        28.09060318,  34.68315133,  26.57781047,  28.24944124,\n",
       "        18.42100451,  33.75337408,  23.82898938,  26.88213474,\n",
       "        26.59248594,  31.9854828 ,  28.37204806,  27.0296368 ,\n",
       "        31.98956209,  25.58411389,  25.91985438,  30.07481413,\n",
       "        33.65845623,  28.36693016,  32.69286708,  30.72474339,\n",
       "        22.41081172,  16.0033445 ,  24.34111144,  30.52230353,\n",
       "        23.70096386,  27.98118932,  26.32836546,  34.58072383,\n",
       "        27.86366287,  32.15229012,  17.01596306,  42.15909361,\n",
       "        31.73108602,  25.26839021,  36.2550798 ,  34.544261  ,\n",
       "        31.09951188,  34.46763028,  24.69058354,  28.92754116,\n",
       "        27.84978338,  32.93941325,  24.15713044,  34.87316713,\n",
       "        22.81823149,  24.61172818,  20.98474186,  30.31437943,\n",
       "        27.16131902,  29.06410719,  34.84128973,  32.5939792 ,\n",
       "        37.57662985,  21.40056994,  27.72408339,  20.85338754,\n",
       "        27.52116424,  29.25515404,  32.29603618,  29.53527687,\n",
       "        34.52992436,  28.80623789,  20.8262899 ,  19.68963833,\n",
       "        30.57782126,  19.08035841,  31.10885016,  33.08780525,\n",
       "        35.25664791,  23.5150055 ,  19.5497954 ,  27.59885866,\n",
       "        26.11984111,  30.88434293,  26.55468393,  22.15040812,\n",
       "        18.11940984,  32.67295155,  25.40922916,  27.2514668 ,\n",
       "        27.50963407,  23.18845087,  32.9831615 ,  24.31609706,\n",
       "        25.62651597,  23.48192736,  32.44247984,  26.14043267,\n",
       "        32.16362159,  22.37554312,  20.68697105,  36.38375839,\n",
       "        32.27385502,  32.66615428,  23.34715802,  21.02588283,\n",
       "        34.89488389,  34.0410808 ,  29.64179713,  32.35254979,\n",
       "        18.3815728 ,  27.77994905,  27.94100894,  26.81072851,\n",
       "        25.27744101,  25.32168024,  27.68118218,  26.89992331,\n",
       "        31.04124787,  13.06540114,  38.89134516,  23.18068871,\n",
       "        30.28217791,  23.32324986,  31.23665285,  29.21218739,\n",
       "        33.23628009,  29.10990251,  36.68159037,  19.83766435,\n",
       "        20.68080248,  37.21710875,  25.67008113,  31.10982281,\n",
       "        33.56507825,  25.20220646,  16.57533677,  19.36912133,\n",
       "        29.3354357 ,  26.70781631,  29.1855217 ,  45.2155736 ,\n",
       "        20.2986876 ,  30.57137029,  32.37051858,  29.22817039,\n",
       "        35.2163931 ,  24.1857614 ,  27.57872289,  31.77352041,\n",
       "        25.54370257,  26.19681403,  18.76886671,  18.59618588,\n",
       "        34.60333435,  33.35748034,  23.41457903,  30.68212723,\n",
       "        27.54291622,  33.81054516,  33.92911254,  26.49896998,\n",
       "        34.87844998,  30.20072837,  32.54363759,  19.50888312,\n",
       "        33.51409081,  22.96083215,  25.89207573,  26.67148386,\n",
       "        21.21727971,  30.22405094,  15.13043492,  24.96715674,\n",
       "        24.46634957,  25.57561594,  30.70400035,  30.70556163,\n",
       "        22.23464533,  24.89949885,  24.39905487,  27.02566409,\n",
       "        24.36071499,  27.25643405,  30.99412395,  40.72565284,\n",
       "        27.60624651,  31.45950384,  21.88307699,  30.69639055,\n",
       "        34.15835783,  34.05282999,  24.04957329,  19.86390233,\n",
       "        31.50074678,  30.41041406,  28.28793042,  23.39929653,\n",
       "        25.35704813,  32.06216651,  24.37550253,  23.72032174,\n",
       "        33.46198624,  29.59149778,  30.93331419,  25.15514001,\n",
       "        39.59392073,  27.35408934,  30.14817433,  32.35844134,\n",
       "        30.00220025,  28.47989313,  29.8048943 ,  27.93845069,\n",
       "        31.77030857,  24.27364223,  21.30823256,  26.19472676,\n",
       "        26.97847378,  17.61496169,  22.42139512,  28.34576232,\n",
       "        28.37075823,  18.37304606,  15.93549275,  35.66527114,\n",
       "        30.15295021,  27.45134465,  29.00958125,  35.00578936,\n",
       "        34.25449076,  25.14819219,  27.25380075,  24.19690891,\n",
       "        24.32537814,  33.00103349,  23.92633713,  30.49914838,\n",
       "        26.00636392,  29.45691963,  29.27359794,  23.79164134,\n",
       "        20.25268087,  26.43455553,  29.53212804,  25.05977894,\n",
       "        38.321019  ,  30.85380882,  24.89454536,  27.3786637 ,\n",
       "        26.03290449,  23.66690605,  32.87008762,  34.84359784,\n",
       "        20.57836594,  30.75563915,  21.82845779,  27.48605322,\n",
       "        41.53065872,  21.24510167,  28.81818972,  30.1416411 ,\n",
       "        27.28998753,  24.559257  ,  27.019409  ,  16.27692461,\n",
       "        33.12256732,  48.00707053,  27.4933198 ,  26.21129862,\n",
       "        33.66636913,  36.4422527 ,  17.07172218,  29.20912153,\n",
       "        27.75398824,  28.33414847,  41.80453915,  26.27566126,\n",
       "        34.13545061,  26.07257635,  25.28538527,  28.28157914,\n",
       "        33.59797067,  29.84640145,  27.22885399,  36.76883273,\n",
       "        29.04348342,  30.47088564,  24.52373494,  24.26769881,\n",
       "        24.20034875,  30.30238805,  27.22378514,  19.67786171,\n",
       "        25.27969689,  29.70094668,  19.10756366,  30.0922563 ,\n",
       "        24.3594225 ,  20.39962455,  26.82889058,  28.69046968,\n",
       "        18.19531988,  23.26149587,  18.98616033,  30.51600936,\n",
       "        29.63652735,  21.01159388,  17.4562268 ,  29.24105719,\n",
       "        25.83520594,  20.86384976,  20.98078843,  33.95268119,\n",
       "        32.05688509,  27.66677285,  27.56536773,  22.37837996,\n",
       "        40.16005613,  21.95415671,  18.54656181,  35.19453362,\n",
       "        22.96268235,  39.08312916,  38.06738392,  32.0490442 ,\n",
       "        32.36494877,  29.47765445,  33.61209506,  23.31584445,\n",
       "        32.0119033 ,  27.39870732,  23.82655243,  35.68785557,\n",
       "        30.3870415 ,  24.18085166,  28.53407601,  29.81373153,\n",
       "        25.44575546,  24.11284047,  34.02458625,  22.82682621,\n",
       "        24.49488177,  25.11785069,  26.97930165,  27.31828241,\n",
       "        25.75720329,  33.25913982,  33.71339996,  40.10549185,\n",
       "        30.72926505,  30.93478093,  37.04352084,  22.7023577 ,\n",
       "        27.39229519,  29.51539751,  31.11035845,  27.07546206,\n",
       "        25.54344225,  30.19409954,  31.56960907,  28.80845441,\n",
       "        20.15740969,  32.36590305,  33.27260576,  32.49074422,\n",
       "        28.07347494,  26.10354551,  30.13484025,  27.02083977,\n",
       "        34.73543306,  28.06511502,  15.60795622,  28.77631931,\n",
       "        34.86639526,  20.09951167,  21.9572353 ,  25.91227412,\n",
       "        31.56803083,  41.04860109,  37.78790154,  22.89832355,\n",
       "        24.60839174,  27.16253681,  27.61288505,  21.53182065,\n",
       "        29.04249135,  25.51583588,  24.17379013,  28.19351498,\n",
       "        26.09320512,  29.83918575,  22.86765359,  25.13372492,\n",
       "        28.42026283,  36.01454506,  21.77288225,  21.63282975,\n",
       "        22.1394411 ,  23.0970094 ,  26.83410933,  33.41529099,\n",
       "        31.40063621,  32.75538427,  25.62728899,  32.52544024,\n",
       "        28.66168704,  22.47713795,  34.47545427,  27.61652067,\n",
       "        22.77835927,  25.53901894,  29.81645594,  31.48265097,\n",
       "        29.64866559,  24.61177112,  21.29509884,  25.31700482,\n",
       "        19.30528201,  29.17689043,  34.83987154,  26.43652024,\n",
       "        28.62252858,  27.1879743 ,  33.05821391,  28.77900451,\n",
       "        32.66176036,  31.51529705,  30.43871851,  21.15472182,\n",
       "        35.599744  ,  29.34872503,  22.86038172,  19.3728335 ,\n",
       "        30.59709958,  29.51459204,  18.52046048,  29.76264657,\n",
       "        30.58045127,  31.50503143,  28.97702226,  29.85039422,\n",
       "        26.72025517,  40.44199784,  26.25021847,  29.04033369,\n",
       "        32.958399  ,  31.39031677,  29.88810574,  19.74252089,\n",
       "        19.02196697,  18.5994997 ,  23.76898799,  20.061723  ,\n",
       "        33.78117265,  29.39482855,  31.45132707,  29.96738467,\n",
       "        32.92911448,  19.63700139,  41.48800003,  26.76057599,\n",
       "        22.91844149,  36.59194347,  33.60652997,  24.20555773,\n",
       "        30.4024496 ,  20.50388193,  22.80459503,  30.4661278 ,\n",
       "        30.64668568,  23.28420149,  14.49633264,  31.46825757,\n",
       "        27.45576163,  27.38787804,  27.64506517,  28.02866975,\n",
       "        30.09171191,  32.1213498 ,  23.69343996,  28.9065078 ,\n",
       "        30.05665626,  23.88038868,  24.98910558,  24.74280267,\n",
       "        29.92356165,  28.12979838,  33.59706428,  31.70601277,\n",
       "        38.83130952,  29.68200828,  24.67938166,  30.83954967,\n",
       "        30.60641807,  34.19941024,  19.16062194,  28.58925906,\n",
       "        27.05622692,  24.71284671,  26.76294483,  30.00331341,\n",
       "        34.25842011,  33.76428707,  25.83181474,  30.12498526,\n",
       "        25.62215248,  26.82222302,  28.0896982 ,  41.79430732,\n",
       "        31.43946006,  31.91557848,  31.85641125,  22.68396972,\n",
       "        28.05125187,  33.50157906,  26.55413553,  33.27752544,\n",
       "        45.02310195,  31.68456136,  23.65693044,  28.97933654,\n",
       "        21.90573343,  24.20765763,  25.35377146,  29.30853534,\n",
       "        30.65322657,  30.92079072,  18.78847008,  23.04052904,\n",
       "        37.25256292,  22.87545551,  31.16132541,  23.12742473,\n",
       "        26.7895947 ,  27.65948029,  24.44700284,  30.24670214,\n",
       "        33.85590428,  26.89820852,  26.23233388,  35.77809586,\n",
       "        24.32614855,  27.45598162,  22.13524732,  23.61629823,\n",
       "        32.68660882,  26.49584757,  32.06881875,  27.30325076,\n",
       "        43.40930191,  44.97174916,  23.3098964 ,  29.02998735,\n",
       "        16.15948412,  24.50426723,  24.99353564,  29.67870464,\n",
       "        32.22575883,  20.52045812,  27.01231431,  31.10504439,\n",
       "        34.02545615,  35.12230826,  29.75710819,  32.08982615,\n",
       "        34.43534395,  33.39283418,  35.88254537,  26.72945579,\n",
       "        26.46702219,  34.3725547 ,  28.24042116,  29.53247862,\n",
       "        25.05898792,  32.84144109,  27.28093039,  30.39868231,\n",
       "        25.41124   ,  38.54653797,  30.73358324,  34.47181799,\n",
       "        23.87760179,  41.67431674,  30.32506341,  34.27199949,\n",
       "        32.00747175,  28.64815308,  23.81898417,  29.11171859,\n",
       "        38.37129939,  32.50579608,  26.88945687,  19.2993111 ,\n",
       "        16.89304433,  33.37251281,  33.08474243,  33.56726982,\n",
       "        35.98656429,  20.83564926,  39.40452086,  19.49346309,\n",
       "        24.83324718,  19.53366771,  22.97263232,  29.50728288,\n",
       "        28.29551354,  23.48754799,  29.70605899,  26.59127773,\n",
       "        27.15561188,  30.796481  ,  24.14368771,  28.54899363,\n",
       "        39.05185115,  16.76598089,  37.89655371,  23.55795831,\n",
       "        25.28154983,  38.36191079,  23.33464773,  27.2906442 ,\n",
       "        32.82482895,  24.50408292,  25.87869789,  30.39593083,\n",
       "        23.67598686,  38.480973  ,  21.57233812,  31.13956755,\n",
       "        27.94044574,  27.36716027,  18.06447417,  26.6751915 ,\n",
       "        33.79468659,  28.22255751,  29.81599452,  33.30762614,\n",
       "        35.40130152,  22.95820762,  26.34268709,  26.59445727,\n",
       "        21.75911404,  32.3455053 ,  29.90598479,  26.04717423,\n",
       "        26.95437273,  31.24555345,  26.13600318,  32.35507963,\n",
       "        32.1629786 ,  19.83040819,  34.83913663,  29.53324272,\n",
       "        29.92255926,  23.73569969,  29.17056128,  18.72094043,\n",
       "        28.04838003,  34.49312541,  24.82966497,  25.25072701,\n",
       "        17.35670645,  33.13816456,  26.46832923,  30.730608  ,\n",
       "        25.84823609,  27.0616522 ,  26.96095557,  35.86372318,\n",
       "        31.01586305,  29.42416997,  23.81013035,  21.50234644])"
      ]
     },
     "execution_count": 17,
     "metadata": {},
     "output_type": "execute_result"
    }
   ],
   "source": [
    "maleBMI"
   ]
  },
  {
   "cell_type": "markdown",
   "metadata": {},
   "source": [
    "### All-Cause Mortality Hazard Ratios\n",
    "\n",
    "The hazard ratios for all-cause mortality have been studied for people who are overweight, obese and underweight. The hazard ratio for these weight categories are relative to normal weight (Ref - https://www.ncbi.nlm.nih.gov/pmc/articles/PMC4855514/ and https://www.ncbi.nlm.nih.gov/pmc/articles/PMC4021191/). The hazard ratios are as follows:\n",
    "Underweight = 1.37 (Ref - https://www.ncbi.nlm.nih.gov/pmc/articles/PMC4021191/)\n",
    "Normal = 1 (hazard ratios are relative to normal so this will have a HR of 1)\n",
    "Overweight = 0.94 (ref - https://www.ncbi.nlm.nih.gov/pmc/articles/PMC4855514/)\n",
    "Obese 1 = 0.95 (ref - https://www.ncbi.nlm.nih.gov/pmc/articles/PMC4855514/)\n",
    "Obese 2 and above = 1.29 (ref - https://www.ncbi.nlm.nih.gov/pmc/articles/PMC4855514/)\n",
    "\n",
    "For Obese 1 the value is below 1, therefore it might be assumed that this represents a reduction in all-cause mortality. However, this value is within the margin of error (ref - https://www.ncbi.nlm.nih.gov/pmc/articles/PMC4855514/).\n",
    "\n",
    "Surprisingly, being overweight was found to be significantly associated with a lower risk of all cause mortality relative to normal weight. (Ref - https://www.ncbi.nlm.nih.gov/pmc/articles/PMC4855514/)"
   ]
  },
  {
   "cell_type": "code",
   "execution_count": 18,
   "metadata": {},
   "outputs": [
    {
     "data": {
      "text/plain": [
       "([1.00, 1.29, 0.94, 0.94, 0.95, ..., 1.29, 0.95, 0.94, 1.00, 1.00]\n",
       " Length: 1000\n",
       " Categories (5, float64): [1.37 < 1.00 < 0.94 < 0.95 < 1.29],\n",
       " array([    0. ,    18.5,    25. ,    30. ,    35. ,  1000. ]))"
      ]
     },
     "execution_count": 18,
     "metadata": {},
     "output_type": "execute_result"
    }
   ],
   "source": [
    "# Creating categorical array from a continuous array\n",
    "# Adapted from https://pandas.pydata.org/pandas-docs/stable/generated/pandas.cut.html#pandas.cut\n",
    "# and from https://pandas.pydata.org/pandas-docs/stable/categorical.html\n",
    "\n",
    "HRCategories = [1.37, 1, 0.94, 0.95, 1.29]\n",
    "\n",
    "HRArray = pd.cut(maleBMI, [0.0, 18.5, 25.0, 30.0, 35.0, 1000.0], labels=HRCategories, retbins=True, right=False)\n",
    "\n",
    "HRArray"
   ]
  },
  {
   "cell_type": "markdown",
   "metadata": {},
   "source": [
    "Percentage in ireland with obesity\n",
    "\n",
    "https://www.safefood.eu/SafeFood/media/SafeFoodLibrary/Documents/Professional/Nutrition/Adult-and-children-obesity-trends-ROI.pdf\n",
    "\n"
   ]
  },
  {
   "cell_type": "markdown",
   "metadata": {},
   "source": [
    "## Simulating the Dataset\n",
    "\n",
    "Finallly we will simulate the entire dataset adding each array created above."
   ]
  },
  {
   "cell_type": "code",
   "execution_count": 22,
   "metadata": {},
   "outputs": [
    {
     "data": {
      "text/html": [
       "<div>\n",
       "<style>\n",
       "    .dataframe thead tr:only-child th {\n",
       "        text-align: right;\n",
       "    }\n",
       "\n",
       "    .dataframe thead th {\n",
       "        text-align: left;\n",
       "    }\n",
       "\n",
       "    .dataframe tbody tr th {\n",
       "        vertical-align: top;\n",
       "    }\n",
       "</style>\n",
       "<table border=\"1\" class=\"dataframe\">\n",
       "  <thead>\n",
       "    <tr style=\"text-align: right;\">\n",
       "      <th></th>\n",
       "      <th>Sex</th>\n",
       "    </tr>\n",
       "  </thead>\n",
       "  <tbody>\n",
       "    <tr>\n",
       "      <th>0</th>\n",
       "      <td>female</td>\n",
       "    </tr>\n",
       "    <tr>\n",
       "      <th>1</th>\n",
       "      <td>male</td>\n",
       "    </tr>\n",
       "    <tr>\n",
       "      <th>2</th>\n",
       "      <td>male</td>\n",
       "    </tr>\n",
       "    <tr>\n",
       "      <th>3</th>\n",
       "      <td>male</td>\n",
       "    </tr>\n",
       "    <tr>\n",
       "      <th>4</th>\n",
       "      <td>female</td>\n",
       "    </tr>\n",
       "    <tr>\n",
       "      <th>5</th>\n",
       "      <td>male</td>\n",
       "    </tr>\n",
       "    <tr>\n",
       "      <th>6</th>\n",
       "      <td>male</td>\n",
       "    </tr>\n",
       "    <tr>\n",
       "      <th>7</th>\n",
       "      <td>male</td>\n",
       "    </tr>\n",
       "    <tr>\n",
       "      <th>8</th>\n",
       "      <td>female</td>\n",
       "    </tr>\n",
       "    <tr>\n",
       "      <th>9</th>\n",
       "      <td>female</td>\n",
       "    </tr>\n",
       "  </tbody>\n",
       "</table>\n",
       "</div>"
      ],
      "text/plain": [
       "      Sex\n",
       "0  female\n",
       "1    male\n",
       "2    male\n",
       "3    male\n",
       "4  female\n",
       "5    male\n",
       "6    male\n",
       "7    male\n",
       "8  female\n",
       "9  female"
      ]
     },
     "execution_count": 22,
     "metadata": {},
     "output_type": "execute_result"
    }
   ],
   "source": [
    "# Creating the DataFrame and adding the Sex column with data from the sexArray\n",
    "\n",
    "simdf = pd.DataFrame({\"Sex\": sexArray})\n",
    "\n",
    "simdf.head(10)"
   ]
  },
  {
   "cell_type": "markdown",
   "metadata": {},
   "source": [
    "## Conclusion"
   ]
  },
  {
   "cell_type": "code",
   "execution_count": null,
   "metadata": {},
   "outputs": [],
   "source": []
  }
 ],
 "metadata": {
  "kernelspec": {
   "display_name": "Python 3",
   "language": "python",
   "name": "python3"
  },
  "language_info": {
   "codemirror_mode": {
    "name": "ipython",
    "version": 3
   },
   "file_extension": ".py",
   "mimetype": "text/x-python",
   "name": "python",
   "nbconvert_exporter": "python",
   "pygments_lexer": "ipython3",
   "version": "3.6.7"
  }
 },
 "nbformat": 4,
 "nbformat_minor": 2
}
