{
 "cells": [
  {
   "cell_type": "markdown",
   "metadata": {},
   "source": [
    "# A Simulated Dataset of a Real-World Phenomenom"
   ]
  },
  {
   "cell_type": "markdown",
   "metadata": {},
   "source": [
    "## Introduction\n",
    "\n",
    "The real-world phenomenom that I will be looking at is the relationship between all-cause mortality and either obesity or underweight. Obesity grades 2 and 3 (BMI >/= 35) is associated with an aproximate 30% increase in all-cause mortality compared to normal weight (Ref - https://www.ncbi.nlm.nih.gov/pmc/articles/PMC4855514/). Underweight is associated with a 37% increase in all-cause mortality compared to normal weight (Ref - https://www.ncbi.nlm.nih.gov/pmc/articles/PMC4021191/). All-cause mortality is any cause of death, not just those caused by the specific condition being examined (in this case obesity or underweight) ( Ref - https://www.verywellhealth.com/what-is-all-cause-mortality-2223349). \n",
    "\n",
    "\n",
    "Underweight is associated with an increase in mortality due to external factors such as drug and alcohol abuse, smoking and fraility, with smoking being a particular risk factor (Ref - https://www.ncbi.nlm.nih.gov/pmc/articles/PMC4021191/).\n",
    "\n",
    "\n",
    "\n",
    "\n",
    "\n",
    "This dataset can be used to predict the number of people in a population that will suffer from obesity or underweight and therefore an increase in all-cause mortality."
   ]
  },
  {
   "cell_type": "markdown",
   "metadata": {},
   "source": [
    "## Investigation\n",
    "\n",
    "The variables examined here are as follows:\n",
    "* Sex (categorical)\n",
    "* Weight (continuous)\n",
    "* Height (continuous)\n",
    "* BMI (continuous)\n",
    "* BMI Category (categorical)\n",
    "* Risk of all-cause mortality (categorical)\n",
    "\n",
    "For sex, there are different mean average weights and heights for males and females. Males on average are heavier and taller than females (Ref - https://irp-cdn.multiscreensite.com/46a7ad27/files/uploaded/The%20National%20Adult%20Nutrition%20Survey%20%282008-2010%29.pdf). However due to the fact that BMI is calculated from weight/ height^2, the BMI differences between males and females is small (27.5 for males compared to 26.4 for females) (Ref - https://irp-cdn.multiscreensite.com/46a7ad27/files/uploaded/The%20National%20Adult%20Nutrition%20Survey%20%282008-2010%29.pdf)\n",
    "\n",
    "\n"
   ]
  },
  {
   "cell_type": "markdown",
   "metadata": {},
   "source": [
    "We'll start by importing some libraries"
   ]
  },
  {
   "cell_type": "code",
   "execution_count": 1,
   "metadata": {},
   "outputs": [],
   "source": [
    "# Numpy will be used to generate pseudo random distributions \n",
    "import numpy as np\n",
    "\n",
    "# Pandas will be used to create final data set\n",
    "import pandas as pd\n",
    "\n",
    "# Matplotlib will be used to plot the distributions\n",
    "import matplotlib.pyplot as plt\n",
    "\n",
    "# Skewnorm function from scipy.stats can create skewed normal distributions \n",
    "# From https://docs.scipy.org/doc/scipy/reference/generated/scipy.stats.skewnorm.html#scipy.stats.skewnorm \n",
    "from scipy.stats import skewnorm"
   ]
  },
  {
   "cell_type": "markdown",
   "metadata": {},
   "source": [
    "### Sex ratio\n",
    "\n",
    "The ratio of males to females in Ireland are:\n",
    "\n",
    "Aged 15 to 24: 301,114 males and 292,055 females (1.03 m/f)(Reference - https://www.indexmundi.com/ireland/demographics_profile.html)\n",
    "\n",
    "Aged 25 to 54: 1,087,587 males and 1,077,383 females (1.01 m/f)(Reference - https://www.indexmundi.com/ireland/demographics_profile.html)\n",
    "\n",
    "Aged 55 to 64: 261,650 males and 260,737 females (1 m/f)(Reference - https://www.indexmundi.com/ireland/demographics_profile.html)\n",
    "\n",
    "\n",
    "Young males out number young females due to the fact that female mortality during pregnancy is higher than for males (Ref - https://www.pnas.org/content/112/16/E2102). The ratio of males to females reduces as age increaeses due to factors such as war and health (Ref - https://en.wikipedia.org/wiki/Human_sex_ratio#Factors_affecting_sex_ratio_in_humans).\n"
   ]
  },
  {
   "cell_type": "code",
   "execution_count": 2,
   "metadata": {},
   "outputs": [
    {
     "name": "stdout",
     "output_type": "stream",
     "text": [
      "The number of males aged 15 to 64 in Ireland is 1650351\n",
      "The number of females aged 15 to 64 in Ireland is 1630175\n",
      "The total number of males and females aged 15 to 64 in Ireland is 3280526\n"
     ]
    }
   ],
   "source": [
    "# Number of males and females in Ireland aged 15 to 64 years old\n",
    "males = 301114 + 1087587 + 261650\n",
    "females = 292055 + 1077383 + 260737\n",
    "\n",
    "# Total number of adults in Ireland aged 15 to 64 years old\n",
    "total = males + females\n",
    "\n",
    "# Displaying the results\n",
    "print(f\"The number of males aged 15 to 64 in Ireland is {males}\")\n",
    "print(f\"The number of females aged 15 to 64 in Ireland is {females}\")\n",
    "print(f\"The total number of males and females aged 15 to 64 in Ireland is {total}\")      "
   ]
  },
  {
   "cell_type": "code",
   "execution_count": 3,
   "metadata": {},
   "outputs": [
    {
     "name": "stdout",
     "output_type": "stream",
     "text": [
      "The proportion of males is 0.5030751166123969\n",
      "The proportion of females is 0.4969248833876031\n"
     ]
    }
   ],
   "source": [
    "# Proportion of males in Ireland aged 15 to 64\n",
    "proportionOfMales = males/total\n",
    "\n",
    "# Proportion of females in Ireland aged 15 to 64\n",
    "proportionOfFemales = females/total\n",
    "\n",
    "# Displaying the proportion of males\n",
    "print(f\"The proportion of males is {proportionOfMales}\")\n",
    "\n",
    "# Displaying the proportion of females\n",
    "print(f\"The proportion of females is {proportionOfFemales}\")"
   ]
  },
  {
   "cell_type": "markdown",
   "metadata": {},
   "source": [
    "The figures below for weight and height are for 18 to 64 year olds. Here an assumption will be made that the ratio for males to females in Ireland aged 18 to 64 year olds will be the same as 15 to 64 year olds. However, as can be seen from the ratios above, the number of males to females decreases as age increases (1.03 for 15 to 24 year olds, 1.01 for 25 to 54 and 1.00 55 to 64 years).\n",
    "\n",
    "We can now create a random sample of 1000 people which will have the same ratio of males to females as was found above"
   ]
  },
  {
   "cell_type": "code",
   "execution_count": 4,
   "metadata": {},
   "outputs": [
    {
     "name": "stdout",
     "output_type": "stream",
     "text": [
      "The unique elements in the array are: ['female' 'male']\n",
      "There are 976 females and 1024 males\n"
     ]
    }
   ],
   "source": [
    "# Creating a 1D array with male and female as the elements\n",
    "\n",
    "sex =[\"male\", \"female\"]\n",
    "\n",
    "sampleSize = 2000\n",
    "\n",
    "sexArray = np.random.choice(sex, sampleSize, p=[proportionOfMales, proportionOfFemales])\n",
    "\n",
    "unique, count = np.unique(sexArray, return_counts=True)\n",
    "\n",
    "femaleCount, maleCount = count[0], count[1]\n",
    "\n",
    "print(f\"The unique elements in the array are: {unique}\")\n",
    "print(f\"There are {femaleCount} females and {maleCount} males\")"
   ]
  },
  {
   "cell_type": "markdown",
   "metadata": {},
   "source": [
    "### Weight\n",
    "\n",
    "Mean adult (18 to 64 years old) male body weight is 86.2 kg with a standard deviation of 15.0 kg. (Reference - https://irp-cdn.multiscreensite.com/46a7ad27/files/uploaded/The%20National%20Adult%20Nutrition%20Survey%20%282008-2010%29.pdf)\n",
    "\n",
    "Mean adult (18 to 64 years old) female bodyweight is 70.0 kg with a standard deviation of 13.7 kg. (Reference - https://irp-cdn.multiscreensite.com/46a7ad27/files/uploaded/The%20National%20Adult%20Nutrition%20Survey%20%282008-2010%29.pdf)"
   ]
  },
  {
   "cell_type": "code",
   "execution_count": 5,
   "metadata": {},
   "outputs": [],
   "source": [
    "# Assigning variables for mean weight and standard deviation for males\n",
    "meanMaleWeight, maleWeightSD = 86.2, 15.0\n",
    "\n",
    "# Assigning variables for mean weight and standard deviation for females\n",
    "meanFemaleWeight, femaleWeightSD = 70.0, 13.7"
   ]
  },
  {
   "cell_type": "markdown",
   "metadata": {},
   "source": [
    "The median values for males and females are 85.1 kg and 67.5 kg respectively. The distributions for weight for males and females are therefore are both positively skewed. We can also see this by examining the 5th and 95th percentiles. For males these are 64.0 kg and 112.6 kg, respectively(Reference - https://irp-cdn.multiscreensite.com/46a7ad27/files/uploaded/The%20National%20Adult%20Nutrition%20Survey%20%282008-2010%29.pdf). For females, these are 52.2 kg and 96.3 kg respectively(Reference - https://irp-cdn.multiscreensite.com/46a7ad27/files/uploaded/The%20National%20Adult%20Nutrition%20Survey%20%282008-2010%29.pdf). \n",
    "\n",
    "The differences between these and their respective medians can be calculated as follows:"
   ]
  },
  {
   "cell_type": "code",
   "execution_count": 6,
   "metadata": {},
   "outputs": [
    {
     "name": "stdout",
     "output_type": "stream",
     "text": [
      "The difference between the median body weight for males and the 5th and 95th percentiles are:\n",
      "5th percentile: -21.099999999999994\n",
      "95th percentile: 27.5\n",
      "The difference between the median body weight for females and the 5th and 95th percentiles are:\n",
      "5th percentile: -15.299999999999997\n",
      "95th percentile: 28.799999999999997\n"
     ]
    }
   ],
   "source": [
    "# Assigning median, 5th perentile and 95th percentile\n",
    "maleMedian, male5th, male95th = 85.1, 64.0, 112.6\n",
    "femaleMedian, female5th, female95th = 67.5, 52.2, 96.3\n",
    "\n",
    "# Calculating difference between medians and 5th and 95th percentile\n",
    "male5thdiff = male5th - maleMedian\n",
    "male95thdiff = male95th - maleMedian\n",
    "\n",
    "female5thdiff =  female5th - femaleMedian\n",
    "female95thdiff = female95th - femaleMedian\n",
    "\n",
    "print(f\"The difference between the median body weight for males and the 5th and 95th percentiles are:\")\n",
    "print(f\"5th percentile: {male5thdiff}\")\n",
    "print(f\"95th percentile: {male95thdiff}\")\n",
    "\n",
    "print(f\"The difference between the median body weight for females and the 5th and 95th percentiles are:\")\n",
    "print(f\"5th percentile: {female5thdiff}\")\n",
    "print(f\"95th percentile: {female95thdiff}\")"
   ]
  },
  {
   "cell_type": "markdown",
   "metadata": {},
   "source": [
    "This also shows that body weight is not normally distributed but is instead positively skewed.\n",
    "\n",
    "A study of German, Norwegian and Austrian conscripts also found that body weight is not normally distributed. \n",
    "\n",
    "(Reference - https://www.ncbi.nlm.nih.gov/pubmed/11673780)\n",
    "\n",
    "There may be a diproportionately larger number of obese people than underweight (therefore leading to the positive skewness) due to the fact that the more a person weighs the easier it then is for them to gain even more weight. (Reference - https://www.researchgate.net/publication/7006581_The_Changing_Shape_of_the_Body_Mass_Index_Distribution_Curve_in_the_Population_Implications_for_Public_Health_Policy_to_Reduce_the_Prevalence_of_Adult_Obesity)\n",
    "\n",
    "The 5th and 95th percentile weights are important as these extremes are where underweight and obesity 2 and above are seen (underweight is the 0.7 percentile and obesity 2 and above is in the 94.4 percentile) (Ref - https://irp-cdn.multiscreensite.com/46a7ad27/files/uploaded/The%20National%20Adult%20Nutrition%20Survey%20%282008-2010%29.pdf)\n",
    "Firstly we will start by creating a function that will return the 5th and 95th percentiles so that we can compare these for normally distributed and skewed normally distributed."
   ]
  },
  {
   "cell_type": "code",
   "execution_count": 7,
   "metadata": {},
   "outputs": [],
   "source": [
    "# Creating a function to return the 5th and 95th percentiles for male and female weight distributions\n",
    "# and the difference from the real value\n",
    "\n",
    "def percentiles5and95(maleDist, femaleDist, typeOfDist):\n",
    "    # Assigning the 5th percentile for male and female weight distributions\n",
    "    male5thDist = np.percentile(maleDist, 5)\n",
    "    female5thDist = np.percentile(femaleDist, 5)\n",
    "    \n",
    "    #Assigning the 95th percentile for male and female weight distributions\n",
    "    male95thDist = np.percentile(maleDist, 95)\n",
    "    female95thDist = np.percentile(femaleDist, 95)\n",
    "    \n",
    "    # Displaying the results \n",
    "    print(f\"The 5th percentile for {typeOfDist} male weight is: {male5thDist}\")\n",
    "    print(f\"(difference from real value is: {male5thDist-male5th})\\n\")\n",
    "    \n",
    "    print(f\"The 95th percentile for {typeOfDist} male weight is: {male95thDist}\")\n",
    "    print(f\"(difference from real value is: {male95thDist-male95th})\\n\")\n",
    "    \n",
    "    print(f\"The 5th percentile for {typeOfDist} female weight is: {female5thDist}\")\n",
    "    print(f\"(difference from real value is: {female5thDist-female5th})\\n\")\n",
    "    \n",
    "    print(f\"The 95th percentile for {typeOfDist} female weight is: {female95thDist}\")\n",
    "    print(f\"(difference from real value is: {female95thDist-female95th})\")"
   ]
  },
  {
   "cell_type": "markdown",
   "metadata": {},
   "source": [
    "Now we will create a normal distribution for male and female weights:"
   ]
  },
  {
   "cell_type": "code",
   "execution_count": 8,
   "metadata": {},
   "outputs": [
    {
     "data": {
      "text/plain": [
       "(array([  16.,   36.,   75.,  160.,  196.,  197.,  152.,   82.,   45.,   17.]),\n",
       " array([  33.23619303,   40.53744319,   47.83869334,   55.13994349,\n",
       "          62.44119365,   69.7424438 ,   77.04369395,   84.34494411,\n",
       "          91.64619426,   98.94744441,  106.24869457]),\n",
       " <a list of 10 Patch objects>)"
      ]
     },
     "execution_count": 8,
     "metadata": {},
     "output_type": "execute_result"
    },
    {
     "data": {
      "image/png": "[encoded data removed]",
      "text/plain": [
       "<matplotlib.figure.Figure at 0x23fa44e8d30>"
      ]
     },
     "metadata": {
      "needs_background": "light"
     },
     "output_type": "display_data"
    }
   ],
   "source": [
    "# Creating a random Normally distributed array for male and female weight\n",
    "# The size of the distribution for each sex is equal to the count of males or females from the sexArray above\n",
    "maleWeightDist = np.random.normal(meanMaleWeight, maleWeightSD, maleCount)\n",
    "femaleWeightDist = np.random.normal(meanFemaleWeight, femaleWeightSD, femaleCount)\n",
    "\n",
    "\n",
    "# Displaying the male and female weights on a histogram\n",
    "plt.subplot(121)\n",
    "plt.hist(maleWeightDist)\n",
    "\n",
    "plt.subplot(122)\n",
    "plt.hist(femaleWeightDist)"
   ]
  },
  {
   "cell_type": "markdown",
   "metadata": {},
   "source": [
    "Calling the function created above to display the 5th and 95th percentiles shows how the extremes for these distributions differ from the real values:"
   ]
  },
  {
   "cell_type": "code",
   "execution_count": 9,
   "metadata": {},
   "outputs": [
    {
     "name": "stdout",
     "output_type": "stream",
     "text": [
      "The 5th percentile for normally distrubuted male weight is: 60.769278419664175\n",
      "(difference from real value is: -3.2307215803358247)\n",
      "\n",
      "The 95th percentile for normally distrubuted male weight is: 111.3405492789559\n",
      "(difference from real value is: -1.2594507210440895)\n",
      "\n",
      "The 5th percentile for normally distrubuted female weight is: 47.4939611001861\n",
      "(difference from real value is: -4.706038899813905)\n",
      "\n",
      "The 95th percentile for normally distrubuted female weight is: 92.6302965759686\n",
      "(difference from real value is: -3.669703424031397)\n"
     ]
    }
   ],
   "source": [
    "percentiles5and95(maleWeightDist, femaleWeightDist, \"normally distrubuted\")"
   ]
  },
  {
   "cell_type": "markdown",
   "metadata": {},
   "source": [
    "As would be expected, the results are lower than the positively skewed real values. Also the female values are more skewed than the male values.\n",
    "\n",
    "We can create a positively skewed distribution using the following code:"
   ]
  },
  {
   "cell_type": "code",
   "execution_count": 10,
   "metadata": {},
   "outputs": [
    {
     "data": {
      "text/plain": [
       "(array([   7.,   18.,   57.,  147.,  225.,  215.,  175.,   86.,   37.,    9.]),\n",
       " array([  31.30729896,   39.43537765,   47.56345633,   55.69153502,\n",
       "          63.81961371,   71.94769239,   80.07577108,   88.20384977,\n",
       "          96.33192845,  104.46000714,  112.58808583]),\n",
       " <a list of 10 Patch objects>)"
      ]
     },
     "execution_count": 10,
     "metadata": {},
     "output_type": "execute_result"
    },
    {
     "data": {
      "image/png": "[encoded data removed]",
      "text/plain": [
       "<matplotlib.figure.Figure at 0x23fa47075f8>"
      ]
     },
     "metadata": {
      "needs_background": "light"
     },
     "output_type": "display_data"
    }
   ],
   "source": [
    "# Creating a skewed normal distribution for male weight with a skewness factor of 0.1\n",
    "# The size of the distribution for males is equal to the count of males from the sexArray above\n",
    "maleWeightSkewedDist = skewnorm.rvs(0.1, loc=meanMaleWeight, scale=maleWeightSD, size=maleCount)\n",
    "\n",
    "# Creating a skewed normal distribution for female weight with a skewness factor of 0.4\n",
    "# The size of the distribution for females is equal to the count of females from the sexArray above\n",
    "femaleWeightSkewedDist = skewnorm.rvs(0.4, loc=meanFemaleWeight, scale=femaleWeightSD, size=femaleCount)\n",
    "\n",
    "# Plotting the skewed normal male and female weight distributions\n",
    "plt.subplot(121)\n",
    "plt.hist(maleWeightSkewedDist)\n",
    "\n",
    "plt.subplot(122)\n",
    "plt.hist(femaleWeightSkewedDist)"
   ]
  },
  {
   "cell_type": "markdown",
   "metadata": {},
   "source": [
    "Calling the function to display the 5th and 95th percentiles on the skewed normal distribution will give us results that are closer to the real results for the extremes of underweight and obesity 2 and above compared to the normal distribution:"
   ]
  },
  {
   "cell_type": "code",
   "execution_count": 11,
   "metadata": {},
   "outputs": [
    {
     "name": "stdout",
     "output_type": "stream",
     "text": [
      "The 5th percentile for skewed normally distrubuted male weight is: 62.449028762570634\n",
      "(difference from real value is: -1.5509712374293656)\n",
      "\n",
      "The 95th percentile for skewed normally distrubuted male weight is: 111.59880735940537\n",
      "(difference from real value is: -1.001192640594624)\n",
      "\n",
      "The 5th percentile for skewed normally distrubuted female weight is: 51.90218325720479\n",
      "(difference from real value is: -0.297816742795213)\n",
      "\n",
      "The 95th percentile for skewed normally distrubuted female weight is: 95.31952492283939\n",
      "(difference from real value is: -0.9804750771606052)\n"
     ]
    }
   ],
   "source": [
    "percentiles5and95(maleWeightSkewedDist, femaleWeightSkewedDist, \"skewed normally distrubuted\")"
   ]
  },
  {
   "cell_type": "markdown",
   "metadata": {},
   "source": [
    "### Height\n",
    "\n",
    "Human height is normally distributed (Ref - https://www.johndcook.com/blog/2008/07/20/why-heights-are-normally-distributed/). The reason for this is that there are many genetic and envirnomental factors that are involved in height which leads to the large variation (Ref https://www.johndcook.com/blog/2008/07/20/why-heights-are-normally-distributed/).\n",
    "\n",
    "Mean adult (18 to 64 years old) male height is 1.77 m with a standard deviation of 0.07 m. (Ref - https://irp-cdn.multiscreensite.com/46a7ad27/files/uploaded/The%20National%20Adult%20Nutrition%20Survey%20%282008-2010%29.pdf)\n",
    "Mean adult (18 to 64 years old) female height is 1.63 m with a standard deviation of 0.06 m. (Ref - https://irp-cdn.multiscreensite.com/46a7ad27/files/uploaded/The%20National%20Adult%20Nutrition%20Survey%20%282008-2010%29.pdf)"
   ]
  },
  {
   "cell_type": "code",
   "execution_count": 12,
   "metadata": {},
   "outputs": [],
   "source": [
    "# Setting height variables\n",
    "maleHeight, femaleHeight = 1.77, 1.63\n",
    "maleHeightSD, femaleHeightSD = 0.07, 0.06"
   ]
  },
  {
   "cell_type": "code",
   "execution_count": 13,
   "metadata": {},
   "outputs": [
    {
     "data": {
      "text/plain": [
       "(array([  11.,   36.,  108.,  163.,  242.,  183.,  129.,   72.,   25.,    7.]),\n",
       " array([ 1.4593844 ,  1.49490307,  1.53042174,  1.56594041,  1.60145908,\n",
       "         1.63697774,  1.67249641,  1.70801508,  1.74353375,  1.77905242,\n",
       "         1.81457109]),\n",
       " <a list of 10 Patch objects>)"
      ]
     },
     "execution_count": 13,
     "metadata": {},
     "output_type": "execute_result"
    },
    {
     "data": {
      "image/png": "[encoded data removed]",
      "text/plain": [
       "<matplotlib.figure.Figure at 0x23fa44be400>"
      ]
     },
     "metadata": {
      "needs_background": "light"
     },
     "output_type": "display_data"
    }
   ],
   "source": [
    "# Creating height distributions\n",
    "# The size of the distribution for males and females is equal to the count of males or females from the sexArray above\n",
    "maleHeightDist = np.random.normal(maleHeight, maleHeightSD, maleCount)\n",
    "femaleHeightDist = np.random.normal(femaleHeight, femaleHeightSD, femaleCount)\n",
    "\n",
    "# Plotting distributions on a histogram\n",
    "plt.subplot(121)\n",
    "plt.hist(maleHeightDist)\n",
    "\n",
    "plt.subplot(122)\n",
    "plt.hist(femaleHeightDist)"
   ]
  },
  {
   "cell_type": "markdown",
   "metadata": {},
   "source": [
    "### BMI\n",
    "\n",
    "BMI is calculated using the following formula weight(kg)/height(m)^2 (Ref - https://journals.lww.com/nutritiontodayonline/Fulltext/2015/05000/Body_Mass_Index__Obesity,_BMI,_and_Health_A.5.aspx) \n",
    "\n",
    "This formula was developed by Dr Quetelet in 1835 ( Ref - https://journals.lww.com/nutritiontodayonline/Fulltext/2015/05000/Body_Mass_Index__Obesity,_BMI,_and_Health_A.5.aspx). \n",
    "\n",
    "The reason why height is squared is that this reduces the effect of leg length which can reduce the weight/height ratio ( Ref - https://journals.lww.com/nutritiontodayonline/Fulltext/2015/05000/Body_Mass_Index__Obesity,_BMI,_and_Health_A.5.aspx)\n",
    "\n",
    "BMI has a number of limitations such as not differentiating between muscle mass and fat mass, and not scaling well for short and tall people ( Ref - https://en.wikipedia.org/wiki/Body_mass_index)\n",
    "\n",
    "We can create a BMI array from the weight array and height arrays above."
   ]
  },
  {
   "cell_type": "code",
   "execution_count": 14,
   "metadata": {},
   "outputs": [
    {
     "data": {
      "text/plain": [
       "(array([   7.,   28.,   88.,  177.,  241.,  197.,  145.,   66.,   21.,    6.]),\n",
       " array([ 11.86377247,  15.16469932,  18.46562616,  21.76655301,\n",
       "         25.06747985,  28.36840669,  31.66933354,  34.97026038,\n",
       "         38.27118723,  41.57211407,  44.87304092]),\n",
       " <a list of 10 Patch objects>)"
      ]
     },
     "execution_count": 14,
     "metadata": {},
     "output_type": "execute_result"
    },
    {
     "data": {
      "image/png": "[encoded data removed]",
      "text/plain": [
       "<matplotlib.figure.Figure at 0x23fa46324a8>"
      ]
     },
     "metadata": {
      "needs_background": "light"
     },
     "output_type": "display_data"
    }
   ],
   "source": [
    "# Creating BMI variable for males from weight and height distributions\n",
    "maleBMI = maleWeightSkewedDist/maleHeightDist**2\n",
    "\n",
    "# Creating BMI variable for females from weight and height distributions\n",
    "femaleBMI = femaleWeightSkewedDist/femaleHeightDist**2\n",
    "\n",
    "# Plotting BMI on a histogram\n",
    "plt.subplot(121)\n",
    "plt.hist(maleBMI)\n",
    "\n",
    "plt.subplot(122)\n",
    "plt.hist(femaleBMI)"
   ]
  },
  {
   "cell_type": "markdown",
   "metadata": {},
   "source": [
    "### BMI Categories\n",
    "\n",
    "There are 11 different BMI categories ( Ref - https://en.wikipedia.org/wiki/Body_mass_index.)\n",
    "\n",
    "For this data set we will only look at 6:\n",
    "* Underweight (BMI of <18.5)\n",
    "* Normal (BMI of 18.5-<25.0)\n",
    "* Overweight (BMI of 25.0-<30.0)\n",
    "* Obese 1 (BMI of 30.0-<35.0)\n",
    "* Obese 2 (BMI of 35.0-<40.0)\n",
    "* Obese 3 (BMI of >/=40.0)"
   ]
  },
  {
   "cell_type": "code",
   "execution_count": 15,
   "metadata": {},
   "outputs": [
    {
     "data": {
      "text/html": [
       "<div>\n",
       "<style>\n",
       "    .dataframe thead tr:only-child th {\n",
       "        text-align: right;\n",
       "    }\n",
       "\n",
       "    .dataframe thead th {\n",
       "        text-align: left;\n",
       "    }\n",
       "\n",
       "    .dataframe tbody tr th {\n",
       "        vertical-align: top;\n",
       "    }\n",
       "</style>\n",
       "<table border=\"1\" class=\"dataframe\">\n",
       "  <thead>\n",
       "    <tr style=\"text-align: right;\">\n",
       "      <th></th>\n",
       "      <th>maleBMI</th>\n",
       "      <th>maleBMICat</th>\n",
       "    </tr>\n",
       "  </thead>\n",
       "  <tbody>\n",
       "    <tr>\n",
       "      <th>0</th>\n",
       "      <td>42.690644</td>\n",
       "      <td>Obese 3</td>\n",
       "    </tr>\n",
       "    <tr>\n",
       "      <th>1</th>\n",
       "      <td>20.746849</td>\n",
       "      <td>Normal</td>\n",
       "    </tr>\n",
       "    <tr>\n",
       "      <th>2</th>\n",
       "      <td>18.996096</td>\n",
       "      <td>Normal</td>\n",
       "    </tr>\n",
       "    <tr>\n",
       "      <th>3</th>\n",
       "      <td>28.025166</td>\n",
       "      <td>Overweight</td>\n",
       "    </tr>\n",
       "    <tr>\n",
       "      <th>4</th>\n",
       "      <td>32.817582</td>\n",
       "      <td>Obese 1</td>\n",
       "    </tr>\n",
       "  </tbody>\n",
       "</table>\n",
       "</div>"
      ],
      "text/plain": [
       "     maleBMI  maleBMICat\n",
       "0  42.690644     Obese 3\n",
       "1  20.746849      Normal\n",
       "2  18.996096      Normal\n",
       "3  28.025166  Overweight\n",
       "4  32.817582     Obese 1"
      ]
     },
     "execution_count": 15,
     "metadata": {},
     "output_type": "execute_result"
    }
   ],
   "source": [
    "# Creating categorical array from a continuous array\n",
    "# Adapted from https://pandas.pydata.org/pandas-docs/stable/generated/pandas.cut.html#pandas.cut\n",
    "# and from https://pandas.pydata.org/pandas-docs/stable/categorical.html\n",
    "\n",
    "# Creating a DataFrame with a column called Male BMI containing the maleBMI array created above\n",
    "df = pd.DataFrame({'maleBMI': maleBMI})\n",
    "\n",
    "# Creating an array which contains the 6 different BMI categories\n",
    "BMICategories = [\"Underweight\", \"Normal\", \"Overweight\", \"Obese 1\", \"Obese 2\", \"Obese 3\"]\n",
    "\n",
    "# Assigning the categories to their respective BMI ranges\n",
    "BMICatArray = pd.cut(df.maleBMI, [0.0, 18.5, 25.0, 30.0, 35.0, 40.0, 1000.0], labels=BMICategories, retbins=True, right=False)\n",
    "\n",
    "# Creating a new column in DataFrame called 'maleBMICat' and assigning it the BMICatArray\n",
    "df['maleBMICat'] =BMICatArray[0]\n",
    "\n",
    "# Displaying the top 5 values\n",
    "df.head(5)"
   ]
  },
  {
   "cell_type": "markdown",
   "metadata": {},
   "source": [
    "### All-Cause Mortality Hazard Ratios\n",
    "\n",
    "The hazard ratios for all-cause mortality have been studied for people who are overweight, obese and underweight. The hazard ratio for these weight categories are relative to normal weight (Ref - https://www.ncbi.nlm.nih.gov/pmc/articles/PMC4855514/ and https://www.ncbi.nlm.nih.gov/pmc/articles/PMC4021191/). The hazard ratios are as follows:\n",
    "Underweight = 1.37 (Ref - https://www.ncbi.nlm.nih.gov/pmc/articles/PMC4021191/)\n",
    "Normal = 1 (hazard ratios are relative to normal so this will have a HR of 1)\n",
    "Overweight = 0.94 (ref - https://www.ncbi.nlm.nih.gov/pmc/articles/PMC4855514/)\n",
    "Obese 1 = 0.95 (ref - https://www.ncbi.nlm.nih.gov/pmc/articles/PMC4855514/)\n",
    "Obese 2 and above = 1.29 (ref - https://www.ncbi.nlm.nih.gov/pmc/articles/PMC4855514/)\n",
    "\n",
    "For Obese 1 the value is below 1, therefore it might be assumed that this represents a reduction in all-cause mortality. However, this value is within the margin of error (ref - https://www.ncbi.nlm.nih.gov/pmc/articles/PMC4855514/).\n",
    "\n",
    "Surprisingly, being overweight was found to be significantly associated with a lower risk of all cause mortality relative to normal weight. (Ref - https://www.ncbi.nlm.nih.gov/pmc/articles/PMC4855514/)"
   ]
  },
  {
   "cell_type": "code",
   "execution_count": 16,
   "metadata": {},
   "outputs": [
    {
     "data": {
      "text/plain": [
       "([1.29, 1.00, 1.00, 0.94, 0.95, ..., 1.00, 1.29, 1.00, 0.94, 0.95]\n",
       " Length: 1024\n",
       " Categories (5, float64): [1.37 < 1.00 < 0.94 < 0.95 < 1.29],\n",
       " array([    0. ,    18.5,    25. ,    30. ,    35. ,  1000. ]))"
      ]
     },
     "execution_count": 16,
     "metadata": {},
     "output_type": "execute_result"
    }
   ],
   "source": [
    "# Creating categorical array from a continuous array\n",
    "# Adapted from https://pandas.pydata.org/pandas-docs/stable/generated/pandas.cut.html#pandas.cut\n",
    "# and from https://pandas.pydata.org/pandas-docs/stable/categorical.html\n",
    "\n",
    "# Creating array with Hazard Ratios\n",
    "HRCategories = [1.37, 1, 0.94, 0.95, 1.29]\n",
    "\n",
    "# Assigning the categories to their respective BMI ranges\n",
    "HRArray = pd.cut(maleBMI, [0.0, 18.5, 25.0, 30.0, 35.0, 1000.0], labels=HRCategories, retbins=True, right=False)\n",
    "\n",
    "# Displaying the array\n",
    "HRArray"
   ]
  },
  {
   "cell_type": "markdown",
   "metadata": {},
   "source": [
    "## Simulating the Dataset\n",
    "\n",
    "Finally we will simulate the entire dataset adding each array created above."
   ]
  },
  {
   "cell_type": "markdown",
   "metadata": {},
   "source": [
    "### Sex"
   ]
  },
  {
   "cell_type": "code",
   "execution_count": 17,
   "metadata": {},
   "outputs": [
    {
     "data": {
      "text/html": [
       "<div>\n",
       "<style>\n",
       "    .dataframe thead tr:only-child th {\n",
       "        text-align: right;\n",
       "    }\n",
       "\n",
       "    .dataframe thead th {\n",
       "        text-align: left;\n",
       "    }\n",
       "\n",
       "    .dataframe tbody tr th {\n",
       "        vertical-align: top;\n",
       "    }\n",
       "</style>\n",
       "<table border=\"1\" class=\"dataframe\">\n",
       "  <thead>\n",
       "    <tr style=\"text-align: right;\">\n",
       "      <th></th>\n",
       "      <th>Sex</th>\n",
       "    </tr>\n",
       "  </thead>\n",
       "  <tbody>\n",
       "    <tr>\n",
       "      <th>0</th>\n",
       "      <td>female</td>\n",
       "    </tr>\n",
       "    <tr>\n",
       "      <th>1</th>\n",
       "      <td>female</td>\n",
       "    </tr>\n",
       "    <tr>\n",
       "      <th>2</th>\n",
       "      <td>male</td>\n",
       "    </tr>\n",
       "    <tr>\n",
       "      <th>3</th>\n",
       "      <td>female</td>\n",
       "    </tr>\n",
       "    <tr>\n",
       "      <th>4</th>\n",
       "      <td>female</td>\n",
       "    </tr>\n",
       "  </tbody>\n",
       "</table>\n",
       "</div>"
      ],
      "text/plain": [
       "      Sex\n",
       "0  female\n",
       "1  female\n",
       "2    male\n",
       "3  female\n",
       "4  female"
      ]
     },
     "execution_count": 17,
     "metadata": {},
     "output_type": "execute_result"
    }
   ],
   "source": [
    "# Creating the DataFrame and adding the Sex column with data from the sexArray\n",
    "\n",
    "simdf = pd.DataFrame({\"Sex\": sexArray})\n",
    "\n",
    "simdf.head(5)"
   ]
  },
  {
   "cell_type": "markdown",
   "metadata": {},
   "source": [
    "### Weight"
   ]
  },
  {
   "cell_type": "code",
   "execution_count": 18,
   "metadata": {},
   "outputs": [
    {
     "name": "stderr",
     "output_type": "stream",
     "text": [
      "C:\\ProgramData\\Anaconda3\\lib\\site-packages\\pandas\\core\\indexing.py:179: SettingWithCopyWarning: \n",
      "A value is trying to be set on a copy of a slice from a DataFrame\n",
      "\n",
      "See the caveats in the documentation: http://pandas.pydata.org/pandas-docs/stable/indexing.html#indexing-view-versus-copy\n",
      "  self._setitem_with_indexer(indexer, value)\n"
     ]
    },
    {
     "data": {
      "text/html": [
       "<div>\n",
       "<style>\n",
       "    .dataframe thead tr:only-child th {\n",
       "        text-align: right;\n",
       "    }\n",
       "\n",
       "    .dataframe thead th {\n",
       "        text-align: left;\n",
       "    }\n",
       "\n",
       "    .dataframe tbody tr th {\n",
       "        vertical-align: top;\n",
       "    }\n",
       "</style>\n",
       "<table border=\"1\" class=\"dataframe\">\n",
       "  <thead>\n",
       "    <tr style=\"text-align: right;\">\n",
       "      <th></th>\n",
       "      <th>Sex</th>\n",
       "      <th>Weight</th>\n",
       "    </tr>\n",
       "  </thead>\n",
       "  <tbody>\n",
       "    <tr>\n",
       "      <th>0</th>\n",
       "      <td>female</td>\n",
       "      <td>86.666727</td>\n",
       "    </tr>\n",
       "    <tr>\n",
       "      <th>1</th>\n",
       "      <td>female</td>\n",
       "      <td>84.472507</td>\n",
       "    </tr>\n",
       "    <tr>\n",
       "      <th>2</th>\n",
       "      <td>male</td>\n",
       "      <td>121.516086</td>\n",
       "    </tr>\n",
       "    <tr>\n",
       "      <th>3</th>\n",
       "      <td>female</td>\n",
       "      <td>87.888801</td>\n",
       "    </tr>\n",
       "    <tr>\n",
       "      <th>4</th>\n",
       "      <td>female</td>\n",
       "      <td>67.073350</td>\n",
       "    </tr>\n",
       "  </tbody>\n",
       "</table>\n",
       "</div>"
      ],
      "text/plain": [
       "      Sex      Weight\n",
       "0  female   86.666727\n",
       "1  female   84.472507\n",
       "2    male  121.516086\n",
       "3  female   87.888801\n",
       "4  female   67.073350"
      ]
     },
     "execution_count": 18,
     "metadata": {},
     "output_type": "execute_result"
    }
   ],
   "source": [
    "# Adapted from https://stackoverflow.com/questions/46113078/pandas-add-value-at-specific-iloc-into-new-dataframe-column\n",
    "# and https://stackoverflow.com/questions/46113078/pandas-add-value-at-specific-iloc-into-new-dataframe-column\n",
    "\n",
    "# Creating a male subset\n",
    "maledf = simdf.loc[simdf['Sex'] == 'male']\n",
    "\n",
    "# Creating a female subset\n",
    "femaledf = simdf.loc[simdf['Sex'] == 'female']\n",
    "\n",
    "# Creating an index from the male subset\n",
    "maleRowIndex = maledf.index\n",
    "\n",
    "# Creating an index from the female subset\n",
    "femaleRowIndex = femaledf.index\n",
    "\n",
    "# Initialising Weight column\n",
    "simdf['Weight'] = 0\n",
    "\n",
    "# Adding male weights to male rows\n",
    "simdf['Weight'].loc[simdf['Sex'] == 'male'] = pd.Series(maleWeightSkewedDist, index=maleRowIndex)\n",
    "\n",
    "# Adding female weights to male rows\n",
    "simdf['Weight'].loc[simdf['Sex'] == 'female'] = pd.Series(femaleWeightSkewedDist, index=femaleRowIndex)\n",
    "\n",
    "simdf.head(5)"
   ]
  },
  {
   "cell_type": "markdown",
   "metadata": {},
   "source": [
    "### Height"
   ]
  },
  {
   "cell_type": "code",
   "execution_count": 19,
   "metadata": {},
   "outputs": [
    {
     "data": {
      "text/html": [
       "<div>\n",
       "<style>\n",
       "    .dataframe thead tr:only-child th {\n",
       "        text-align: right;\n",
       "    }\n",
       "\n",
       "    .dataframe thead th {\n",
       "        text-align: left;\n",
       "    }\n",
       "\n",
       "    .dataframe tbody tr th {\n",
       "        vertical-align: top;\n",
       "    }\n",
       "</style>\n",
       "<table border=\"1\" class=\"dataframe\">\n",
       "  <thead>\n",
       "    <tr style=\"text-align: right;\">\n",
       "      <th></th>\n",
       "      <th>Sex</th>\n",
       "      <th>Weight</th>\n",
       "      <th>Height</th>\n",
       "    </tr>\n",
       "  </thead>\n",
       "  <tbody>\n",
       "    <tr>\n",
       "      <th>0</th>\n",
       "      <td>female</td>\n",
       "      <td>86.666727</td>\n",
       "      <td>1.652032</td>\n",
       "    </tr>\n",
       "    <tr>\n",
       "      <th>1</th>\n",
       "      <td>female</td>\n",
       "      <td>84.472507</td>\n",
       "      <td>1.614780</td>\n",
       "    </tr>\n",
       "    <tr>\n",
       "      <th>2</th>\n",
       "      <td>male</td>\n",
       "      <td>121.516086</td>\n",
       "      <td>1.687138</td>\n",
       "    </tr>\n",
       "    <tr>\n",
       "      <th>3</th>\n",
       "      <td>female</td>\n",
       "      <td>87.888801</td>\n",
       "      <td>1.625213</td>\n",
       "    </tr>\n",
       "    <tr>\n",
       "      <th>4</th>\n",
       "      <td>female</td>\n",
       "      <td>67.073350</td>\n",
       "      <td>1.627871</td>\n",
       "    </tr>\n",
       "  </tbody>\n",
       "</table>\n",
       "</div>"
      ],
      "text/plain": [
       "      Sex      Weight    Height\n",
       "0  female   86.666727  1.652032\n",
       "1  female   84.472507  1.614780\n",
       "2    male  121.516086  1.687138\n",
       "3  female   87.888801  1.625213\n",
       "4  female   67.073350  1.627871"
      ]
     },
     "execution_count": 19,
     "metadata": {},
     "output_type": "execute_result"
    }
   ],
   "source": [
    "# Initialising height column\n",
    "simdf['Height'] = 0\n",
    "\n",
    "# Adding male heights to male rows\n",
    "simdf['Height'].loc[simdf['Sex'] == 'male'] = pd.Series(maleHeightDist, index=maleRowIndex)\n",
    "\n",
    "# Adding female heights to male rows\n",
    "simdf['Height'].loc[simdf['Sex'] == 'female'] = pd.Series(femaleHeightDist, index=femaleRowIndex)\n",
    "\n",
    "simdf.head(5)"
   ]
  },
  {
   "cell_type": "markdown",
   "metadata": {},
   "source": [
    "### BMI"
   ]
  },
  {
   "cell_type": "code",
   "execution_count": 20,
   "metadata": {},
   "outputs": [
    {
     "data": {
      "text/html": [
       "<div>\n",
       "<style>\n",
       "    .dataframe thead tr:only-child th {\n",
       "        text-align: right;\n",
       "    }\n",
       "\n",
       "    .dataframe thead th {\n",
       "        text-align: left;\n",
       "    }\n",
       "\n",
       "    .dataframe tbody tr th {\n",
       "        vertical-align: top;\n",
       "    }\n",
       "</style>\n",
       "<table border=\"1\" class=\"dataframe\">\n",
       "  <thead>\n",
       "    <tr style=\"text-align: right;\">\n",
       "      <th></th>\n",
       "      <th>Sex</th>\n",
       "      <th>Weight</th>\n",
       "      <th>Height</th>\n",
       "      <th>BMI</th>\n",
       "    </tr>\n",
       "  </thead>\n",
       "  <tbody>\n",
       "    <tr>\n",
       "      <th>0</th>\n",
       "      <td>female</td>\n",
       "      <td>86.666727</td>\n",
       "      <td>1.652032</td>\n",
       "      <td>31.755257</td>\n",
       "    </tr>\n",
       "    <tr>\n",
       "      <th>1</th>\n",
       "      <td>female</td>\n",
       "      <td>84.472507</td>\n",
       "      <td>1.614780</td>\n",
       "      <td>32.395783</td>\n",
       "    </tr>\n",
       "    <tr>\n",
       "      <th>2</th>\n",
       "      <td>male</td>\n",
       "      <td>121.516086</td>\n",
       "      <td>1.687138</td>\n",
       "      <td>42.690644</td>\n",
       "    </tr>\n",
       "    <tr>\n",
       "      <th>3</th>\n",
       "      <td>female</td>\n",
       "      <td>87.888801</td>\n",
       "      <td>1.625213</td>\n",
       "      <td>33.274590</td>\n",
       "    </tr>\n",
       "    <tr>\n",
       "      <th>4</th>\n",
       "      <td>female</td>\n",
       "      <td>67.073350</td>\n",
       "      <td>1.627871</td>\n",
       "      <td>25.311052</td>\n",
       "    </tr>\n",
       "  </tbody>\n",
       "</table>\n",
       "</div>"
      ],
      "text/plain": [
       "      Sex      Weight    Height        BMI\n",
       "0  female   86.666727  1.652032  31.755257\n",
       "1  female   84.472507  1.614780  32.395783\n",
       "2    male  121.516086  1.687138  42.690644\n",
       "3  female   87.888801  1.625213  33.274590\n",
       "4  female   67.073350  1.627871  25.311052"
      ]
     },
     "execution_count": 20,
     "metadata": {},
     "output_type": "execute_result"
    }
   ],
   "source": [
    "simdf['BMI'] = simdf['Weight']/(simdf['Height'])**2\n",
    "\n",
    "simdf.head(5)"
   ]
  },
  {
   "cell_type": "markdown",
   "metadata": {},
   "source": [
    "### BMI Category"
   ]
  },
  {
   "cell_type": "code",
   "execution_count": 21,
   "metadata": {},
   "outputs": [
    {
     "data": {
      "text/html": [
       "<div>\n",
       "<style>\n",
       "    .dataframe thead tr:only-child th {\n",
       "        text-align: right;\n",
       "    }\n",
       "\n",
       "    .dataframe thead th {\n",
       "        text-align: left;\n",
       "    }\n",
       "\n",
       "    .dataframe tbody tr th {\n",
       "        vertical-align: top;\n",
       "    }\n",
       "</style>\n",
       "<table border=\"1\" class=\"dataframe\">\n",
       "  <thead>\n",
       "    <tr style=\"text-align: right;\">\n",
       "      <th></th>\n",
       "      <th>Sex</th>\n",
       "      <th>Weight</th>\n",
       "      <th>Height</th>\n",
       "      <th>BMI</th>\n",
       "      <th>BMI Category</th>\n",
       "    </tr>\n",
       "  </thead>\n",
       "  <tbody>\n",
       "    <tr>\n",
       "      <th>0</th>\n",
       "      <td>female</td>\n",
       "      <td>86.666727</td>\n",
       "      <td>1.652032</td>\n",
       "      <td>31.755257</td>\n",
       "      <td>Obese 1</td>\n",
       "    </tr>\n",
       "    <tr>\n",
       "      <th>1</th>\n",
       "      <td>female</td>\n",
       "      <td>84.472507</td>\n",
       "      <td>1.614780</td>\n",
       "      <td>32.395783</td>\n",
       "      <td>Obese 1</td>\n",
       "    </tr>\n",
       "    <tr>\n",
       "      <th>2</th>\n",
       "      <td>male</td>\n",
       "      <td>121.516086</td>\n",
       "      <td>1.687138</td>\n",
       "      <td>42.690644</td>\n",
       "      <td>Obese 3</td>\n",
       "    </tr>\n",
       "    <tr>\n",
       "      <th>3</th>\n",
       "      <td>female</td>\n",
       "      <td>87.888801</td>\n",
       "      <td>1.625213</td>\n",
       "      <td>33.274590</td>\n",
       "      <td>Obese 1</td>\n",
       "    </tr>\n",
       "    <tr>\n",
       "      <th>4</th>\n",
       "      <td>female</td>\n",
       "      <td>67.073350</td>\n",
       "      <td>1.627871</td>\n",
       "      <td>25.311052</td>\n",
       "      <td>Overweight</td>\n",
       "    </tr>\n",
       "  </tbody>\n",
       "</table>\n",
       "</div>"
      ],
      "text/plain": [
       "      Sex      Weight    Height        BMI BMI Category\n",
       "0  female   86.666727  1.652032  31.755257      Obese 1\n",
       "1  female   84.472507  1.614780  32.395783      Obese 1\n",
       "2    male  121.516086  1.687138  42.690644      Obese 3\n",
       "3  female   87.888801  1.625213  33.274590      Obese 1\n",
       "4  female   67.073350  1.627871  25.311052   Overweight"
      ]
     },
     "execution_count": 21,
     "metadata": {},
     "output_type": "execute_result"
    }
   ],
   "source": [
    "BMICategories = [\"Underweight\", \"Normal\", \"Overweight\", \"Obese 1\", \"Obese 2\", \"Obese 3\"]\n",
    "\n",
    "BMICategoryArray = pd.cut(simdf.BMI, [0.0, 18.5, 25.0, 30.0, 35.0, 40.0, 1000.0], labels=BMICategories, retbins=True, right=False)\n",
    "\n",
    "simdf['BMI Category'] = BMICategoryArray[0]\n",
    "\n",
    "simdf.head(5)"
   ]
  },
  {
   "cell_type": "markdown",
   "metadata": {},
   "source": [
    "### Hazard Ratio Category"
   ]
  },
  {
   "cell_type": "code",
   "execution_count": 22,
   "metadata": {},
   "outputs": [
    {
     "data": {
      "text/html": [
       "<div>\n",
       "<style>\n",
       "    .dataframe thead tr:only-child th {\n",
       "        text-align: right;\n",
       "    }\n",
       "\n",
       "    .dataframe thead th {\n",
       "        text-align: left;\n",
       "    }\n",
       "\n",
       "    .dataframe tbody tr th {\n",
       "        vertical-align: top;\n",
       "    }\n",
       "</style>\n",
       "<table border=\"1\" class=\"dataframe\">\n",
       "  <thead>\n",
       "    <tr style=\"text-align: right;\">\n",
       "      <th></th>\n",
       "      <th>Sex</th>\n",
       "      <th>Weight</th>\n",
       "      <th>Height</th>\n",
       "      <th>BMI</th>\n",
       "      <th>BMI Category</th>\n",
       "      <th>Hazard Ratio</th>\n",
       "    </tr>\n",
       "  </thead>\n",
       "  <tbody>\n",
       "    <tr>\n",
       "      <th>0</th>\n",
       "      <td>female</td>\n",
       "      <td>86.666727</td>\n",
       "      <td>1.652032</td>\n",
       "      <td>31.755257</td>\n",
       "      <td>Obese 1</td>\n",
       "      <td>0.95</td>\n",
       "    </tr>\n",
       "    <tr>\n",
       "      <th>1</th>\n",
       "      <td>female</td>\n",
       "      <td>84.472507</td>\n",
       "      <td>1.614780</td>\n",
       "      <td>32.395783</td>\n",
       "      <td>Obese 1</td>\n",
       "      <td>0.95</td>\n",
       "    </tr>\n",
       "    <tr>\n",
       "      <th>2</th>\n",
       "      <td>male</td>\n",
       "      <td>121.516086</td>\n",
       "      <td>1.687138</td>\n",
       "      <td>42.690644</td>\n",
       "      <td>Obese 3</td>\n",
       "      <td>1.29</td>\n",
       "    </tr>\n",
       "    <tr>\n",
       "      <th>3</th>\n",
       "      <td>female</td>\n",
       "      <td>87.888801</td>\n",
       "      <td>1.625213</td>\n",
       "      <td>33.274590</td>\n",
       "      <td>Obese 1</td>\n",
       "      <td>0.95</td>\n",
       "    </tr>\n",
       "    <tr>\n",
       "      <th>4</th>\n",
       "      <td>female</td>\n",
       "      <td>67.073350</td>\n",
       "      <td>1.627871</td>\n",
       "      <td>25.311052</td>\n",
       "      <td>Overweight</td>\n",
       "      <td>0.94</td>\n",
       "    </tr>\n",
       "  </tbody>\n",
       "</table>\n",
       "</div>"
      ],
      "text/plain": [
       "      Sex      Weight    Height        BMI BMI Category Hazard Ratio\n",
       "0  female   86.666727  1.652032  31.755257      Obese 1         0.95\n",
       "1  female   84.472507  1.614780  32.395783      Obese 1         0.95\n",
       "2    male  121.516086  1.687138  42.690644      Obese 3         1.29\n",
       "3  female   87.888801  1.625213  33.274590      Obese 1         0.95\n",
       "4  female   67.073350  1.627871  25.311052   Overweight         0.94"
      ]
     },
     "execution_count": 22,
     "metadata": {},
     "output_type": "execute_result"
    }
   ],
   "source": [
    "HRCategories = [1.37, 1, 0.94, 0.95, 1.29]\n",
    "\n",
    "HRArray = pd.cut(simdf.BMI, [0.0, 18.5, 25.0, 30.0, 35.0, 1000.0], labels=HRCategories, retbins=True, right=False)\n",
    "\n",
    "# HRArray returns a 2D array, first row (index 0) contains the values\n",
    "simdf['Hazard Ratio'] = HRArray[0]\n",
    "\n",
    "simdf.head(5)"
   ]
  },
  {
   "cell_type": "markdown",
   "metadata": {},
   "source": [
    "## Conclusion"
   ]
  },
  {
   "cell_type": "markdown",
   "metadata": {},
   "source": [
    "Percentage in ireland with obesity\n",
    "\n",
    "https://www.safefood.eu/SafeFood/media/SafeFoodLibrary/Documents/Professional/Nutrition/Adult-and-children-obesity-trends-ROI.pdf\n"
   ]
  },
  {
   "cell_type": "code",
   "execution_count": null,
   "metadata": {},
   "outputs": [],
   "source": []
  }
 ],
 "metadata": {
  "kernelspec": {
   "display_name": "Python 3",
   "language": "python",
   "name": "python3"
  },
  "language_info": {
   "codemirror_mode": {
    "name": "ipython",
    "version": 3
   },
   "file_extension": ".py",
   "mimetype": "text/x-python",
   "name": "python",
   "nbconvert_exporter": "python",
   "pygments_lexer": "ipython3",
   "version": "3.6.7"
  }
 },
 "nbformat": 4,
 "nbformat_minor": 2
}
