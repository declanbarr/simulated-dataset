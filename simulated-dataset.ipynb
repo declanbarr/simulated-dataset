{
 "cells": [
  {
   "cell_type": "markdown",
   "metadata": {},
   "source": [
    "# A Simulated Dataset of a Real-World Phenomenom"
   ]
  },
  {
   "cell_type": "markdown",
   "metadata": {},
   "source": [
    "## Introduction\n",
    "\n",
    "The real-world phenomenom that I will be looking at is the relationship between obesity and increased mortaility. Obesity grades 2 and 3 (BMI >/= 35) is associated with an aproximate 30% increase in all-cause mortality https://www.ncbi.nlm.nih.gov/pmc/articles/PMC4855514/. \n",
    "\n",
    "This dataset can be used to predict the number of people in a population that will suffer from obesity and therefore an increase in all-cause mortality.\n",
    "\n",
    "(include underweight as well - https://www.ncbi.nlm.nih.gov/pmc/articles/PMC4021191/)\n"
   ]
  },
  {
   "cell_type": "markdown",
   "metadata": {},
   "source": [
    "## Investigation\n",
    "Variables to look at:\n",
    "Sex (What is the proportion of males to females?)\n",
    "Weight (Average weight by sex and the standard deviation)\n",
    "Height (Average height and standard deviation)\n",
    "BMI \n",
    "BMI Category \n",
    "Risk of all-cause mortality\n",
    "\n",
    "For sex, there are different average weights and heights for males and females.\n",
    "\n",
    "\n",
    "\n",
    "(What kind of variables are being used - discrete, continuous, categorical etc - https://www.statisticshowto.datasciencecentral.com/types-variables/)"
   ]
  },
  {
   "cell_type": "markdown",
   "metadata": {},
   "source": [
    "We'll start by importing some libraries"
   ]
  },
  {
   "cell_type": "code",
   "execution_count": 1,
   "metadata": {},
   "outputs": [],
   "source": [
    "import numpy as np\n",
    "import pandas as pd\n",
    "import matplotlib.pyplot as plt"
   ]
  },
  {
   "cell_type": "markdown",
   "metadata": {},
   "source": [
    "### Age"
   ]
  },
  {
   "cell_type": "code",
   "execution_count": 2,
   "metadata": {},
   "outputs": [
    {
     "data": {
      "text/plain": [
       "3102575"
      ]
     },
     "execution_count": 2,
     "metadata": {},
     "output_type": "execute_result"
    }
   ],
   "source": [
    "adults15to24 = 301114 + 292055\n",
    "adults25to54 = 1087587 + 1077383 \n",
    "adults55to64 = 261650 + 260737\n",
    "\n",
    "adults18to24 = int(adults15to24 * 0.7)\n",
    "\n",
    "totalAdults18to64 = adults18to24 + adults25to54 + adults55to64 \n",
    "\n",
    "totalAdults18to64"
   ]
  },
  {
   "cell_type": "code",
   "execution_count": 3,
   "metadata": {},
   "outputs": [
    {
     "name": "stdout",
     "output_type": "stream",
     "text": [
      "Proportion of adults aged 15 to 24: 0.13383012497683375\n",
      "Proportion of adults aged 25 to 54: 0.6977977969912089\n",
      "Proportion of adults aged 55 to 64: 0.16837207803195733\n"
     ]
    }
   ],
   "source": [
    "proportion18to24 = adults18to24/totalAdults18to64\n",
    "proportion25to54 = adults25to54/totalAdults18to64\n",
    "proportion55to64 = adults55to64/totalAdults18to64\n",
    "\n",
    "print(f\"Proportion of adults aged 15 to 24: {proportion18to24}\")\n",
    "print(f\"Proportion of adults aged 25 to 54: {proportion25to54}\")\n",
    "print(f\"Proportion of adults aged 55 to 64: {proportion55to64}\")"
   ]
  },
  {
   "cell_type": "markdown",
   "metadata": {},
   "source": [
    "### Sex ratio\n",
    "\n",
    "The ratio of males to females in Ireland are:\n",
    "Aged 15 to 24: 301,114 males and 292,055 females (1.03 m/f)\n",
    "Aged 25 to 54: 1,087,587 males and 1,077,383 females (1.01 m/f)\n",
    "Aged 55 to 64: 261,650 males and 260,737 females (1 m/f)\n",
    "\n",
    "(Reference - https://www.indexmundi.com/ireland/demographics_profile.html)"
   ]
  },
  {
   "cell_type": "code",
   "execution_count": 4,
   "metadata": {},
   "outputs": [
    {
     "name": "stdout",
     "output_type": "stream",
     "text": [
      "The number of males aged 15 to 64 in Ireland is 1650351\n",
      "The number of females aged 15 to 64 in Ireland is 1630175\n",
      "The total number of males and females aged 15 to 64 in Ireland is 3280526\n"
     ]
    }
   ],
   "source": [
    "# Number of males and females in Ireland aged 15 to 64 years old\n",
    "males = 301114 + 1087587 + 261650\n",
    "females = 292055 + 1077383 + 260737\n",
    "\n",
    "# Total number of adults in Ireland aged 15 to 64 years old\n",
    "total = males + females\n",
    "\n",
    "print(f\"The number of males aged 15 to 64 in Ireland is {males}\")\n",
    "print(f\"The number of females aged 15 to 64 in Ireland is {females}\")\n",
    "print(f\"The total number of males and females aged 15 to 64 in Ireland is {total}\")\n",
    "      "
   ]
  },
  {
   "cell_type": "code",
   "execution_count": 5,
   "metadata": {},
   "outputs": [
    {
     "name": "stdout",
     "output_type": "stream",
     "text": [
      "0.5030751166123969\n",
      "0.4969248833876031\n"
     ]
    }
   ],
   "source": [
    "# Ratio of males to females in Ireland aged 15 to 64\n",
    "\n",
    "ratioOfMales = males/ total\n",
    "ratioOfFemales = females/ total\n",
    "\n",
    "print(ratioOfMales)\n",
    "print(ratioOfFemales)"
   ]
  },
  {
   "cell_type": "markdown",
   "metadata": {},
   "source": [
    "The figures below for weight and height are for 18 to 64 year olds. Here an assumption will be made that the ratio for males to females in Ireland aged 18 to 64 year olds will be the same as 15 to 64 year olds. However, as can be seen from the ratios above, the number of males to females decreases as age increases (1.03 for 15 to 24 year olds, 1.01 for 25 to 54 and 1.00 55 to 64 years).\n",
    "\n",
    "We can now create a random sample of 1000 people which will have the same ratio of males to females as was found above"
   ]
  },
  {
   "cell_type": "code",
   "execution_count": 6,
   "metadata": {},
   "outputs": [
    {
     "data": {
      "text/plain": [
       "(array(['female', 'male'],\n",
       "       dtype='<U6'), array([481, 519], dtype=int64))"
      ]
     },
     "execution_count": 6,
     "metadata": {},
     "output_type": "execute_result"
    }
   ],
   "source": [
    "# Creating a 1D array with male and female as the elements\n",
    "\n",
    "sex =[\"male\", \"female\"]\n",
    "\n",
    "sampleSize = 1000\n",
    "\n",
    "sexArray = np.random.choice(sex, sampleSize, p=[ratioOfMales, ratioOfFemales])\n",
    "\n",
    "np.unique(sexArray, return_counts=True)"
   ]
  },
  {
   "cell_type": "markdown",
   "metadata": {},
   "source": [
    "### Weight\n",
    "\n",
    "Mean adult (18 to 64 years old) male body weight is 86.2 kg with a standard deviation of 15.0 kg. (Reference - https://irp-cdn.multiscreensite.com/46a7ad27/files/uploaded/The%20National%20Adult%20Nutrition%20Survey%20%282008-2010%29.pdf)\n",
    "\n",
    "Mean adult (18 to 64 years old) female bodyweight is 70.0 kg with a standard deviation of 13.7 kg. (Reference - https://irp-cdn.multiscreensite.com/46a7ad27/files/uploaded/The%20National%20Adult%20Nutrition%20Survey%20%282008-2010%29.pdf)"
   ]
  },
  {
   "cell_type": "code",
   "execution_count": 7,
   "metadata": {},
   "outputs": [],
   "source": [
    "# Assigning variables for weight\n",
    "\n",
    "meanMaleWeight, maleWeightSD = 86.2, 15.0\n",
    "meanFemaleWeight, femaleWeightSD = 70.0, 13.7"
   ]
  },
  {
   "cell_type": "markdown",
   "metadata": {},
   "source": [
    "The median values for males and females are 85.1 kg and 67.5 kg respectively. The distributions for weight for males and females are therefore are both positively skewed. We can also see this by examining the 5th and 95th percentiles. For males these are 64.0 kg and 112.6 kg, respectively(Reference - https://irp-cdn.multiscreensite.com/46a7ad27/files/uploaded/The%20National%20Adult%20Nutrition%20Survey%20%282008-2010%29.pdf). For females, these are 52.2 kg and 96.3 kg respectively(Reference - https://irp-cdn.multiscreensite.com/46a7ad27/files/uploaded/The%20National%20Adult%20Nutrition%20Survey%20%282008-2010%29.pdf). \n",
    "\n",
    "The differences between these and their respective medians can be calculated as follows:"
   ]
  },
  {
   "cell_type": "code",
   "execution_count": 8,
   "metadata": {},
   "outputs": [
    {
     "name": "stdout",
     "output_type": "stream",
     "text": [
      "The difference between the median body weight for males and the 5th and 95th percentiles are:\n",
      "5th percentile: 21.099999999999994\n",
      "95th percentile: 27.5\n",
      "The difference between the median body weight for females and the 5th and 95th percentiles are:\n",
      "5th percentile: 15.299999999999997\n",
      "95th percentile: 28.799999999999997\n"
     ]
    }
   ],
   "source": [
    "# Assigning median, 5th perentile and 95th percentiles\n",
    "\n",
    "maleMedian, male5th, male95th = 85.1, 64.0, 112.6\n",
    "femaleMedian, female5th, female95th = 67.5, 52.2, 96.3\n",
    "\n",
    "# Calculating difference between medians and 5th and 95th percentiles\n",
    "male5thdiff = maleMedian - male5th\n",
    "male95thdiff = male95th - maleMedian\n",
    "\n",
    "female5thdiff = femaleMedian - female5th\n",
    "female95thdiff = female95th - femaleMedian\n",
    "\n",
    "print(f\"The difference between the median body weight for males and the 5th and 95th percentiles are:\")\n",
    "print(f\"5th percentile: {male5thdiff}\")\n",
    "print(f\"95th percentile: {male95thdiff}\")\n",
    "\n",
    "print(f\"The difference between the median body weight for females and the 5th and 95th percentiles are:\")\n",
    "print(f\"5th percentile: {female5thdiff}\")\n",
    "print(f\"95th percentile: {female95thdiff}\")"
   ]
  },
  {
   "cell_type": "markdown",
   "metadata": {},
   "source": [
    "This also shows that body weight is not normally distributed but is instead positively skewed.\n",
    "\n",
    "A study of German, Norwegian and Austrian conscripts also found that body weight is not normally distributed. \n",
    "\n",
    "(Reference - https://www.ncbi.nlm.nih.gov/pubmed/11673780)\n",
    "\n",
    "There may be a diproportionately larger number of obese people than underweight (therefore leading to the positive skewness) due to the fact that the more a person weighs the easier it then is for them to gain even more weight. (Reference - https://www.researchgate.net/publication/7006581_The_Changing_Shape_of_the_Body_Mass_Index_Distribution_Curve_in_the_Population_Implications_for_Public_Health_Policy_to_Reduce_the_Prevalence_of_Adult_Obesity)\n",
    "\n",
    "Firstly we will create a normal distribution for male and female weights"
   ]
  },
  {
   "cell_type": "code",
   "execution_count": 9,
   "metadata": {},
   "outputs": [
    {
     "data": {
      "text/plain": [
       "(array([  11.,   46.,   90.,  180.,  255.,  193.,  151.,   54.,   18.,    2.]),\n",
       " array([  31.51661278,   39.78335882,   48.05010485,   56.31685089,\n",
       "          64.58359692,   72.85034296,   81.117089  ,   89.38383503,\n",
       "          97.65058107,  105.91732711,  114.18407314]),\n",
       " <a list of 10 Patch objects>)"
      ]
     },
     "execution_count": 9,
     "metadata": {},
     "output_type": "execute_result"
    },
    {
     "data": {
      "image/png": "[encoded data removed]",
      "text/plain": [
       "<matplotlib.figure.Figure at 0x173b2f9e4e0>"
      ]
     },
     "metadata": {
      "needs_background": "light"
     },
     "output_type": "display_data"
    }
   ],
   "source": [
    "# Creating a random Normally distributed array for male and female weight\n",
    "maleWeightDist = np.random.normal(meanMaleWeight, maleWeightSD, 1000)\n",
    "femaleWeightDist = np.random.normal(meanFemaleWeight, femaleWeightSD, 1000)\n",
    "\n",
    "\n",
    "# Displaying the male and female weights on a histogram\n",
    "plt.subplot(121)\n",
    "plt.hist(maleWeightDist)\n",
    "\n",
    "plt.subplot(122)\n",
    "plt.hist(femaleWeightDist)"
   ]
  },
  {
   "cell_type": "markdown",
   "metadata": {},
   "source": [
    "From above in the https://irp-cdn.multiscreensite.com/46a7ad27/files/uploaded/The%20National%20Adult%20Nutrition%20Survey%20%282008-2010%29.pdf it was found that the male 5th and 95th percentiles were 64.0 and 112.6 respectively. We can view what these values are for the normally distributed male weight distribution:"
   ]
  },
  {
   "cell_type": "code",
   "execution_count": 10,
   "metadata": {},
   "outputs": [
    {
     "name": "stdout",
     "output_type": "stream",
     "text": [
      "The 5th percentile for normally distributed male weight is: 60.80013066162681 (difference from real value is: 3.1998693383731904)\n",
      "The 95th percentile for normally distributed male weight is: 112.22471645728294 (difference from real value is: 0.37528354271705666)\n",
      "The 5th percentile for normally distributed female weight is: 47.40657263604108 (difference from real value is: 4.793427363958919)\n",
      "The 95th percentile for normally distributed female weight is: 91.72878070654866 (difference from real value is: 4.571219293451335)\n"
     ]
    }
   ],
   "source": [
    "# Assigning the 5th percentile for normally distributed male and female weight\n",
    "male5thNormal = np.percentile(maleWeightDist, 5)\n",
    "female5thNormal = np.percentile(femaleWeightDist, 5)\n",
    "\n",
    "# Assigning the 95th percentile for normally distributed male and female weight\n",
    "male95thNormal = np.percentile(maleWeightDist, 95)\n",
    "female95thNormal = np.percentile(femaleWeightDist, 95)\n",
    "\n",
    "# Printing the 5th and 95th percentiles for normally distributed male and female weight\n",
    "print(f\"The 5th percentile for normally distributed male weight is: {male5thNormal} (difference from real value is: {male5th-male5thNormal})\")\n",
    "print(f\"The 95th percentile for normally distributed male weight is: {male95thNormal} (difference from real value is: {male95th-male95thNormal})\")\n",
    "\n",
    "print(f\"The 5th percentile for normally distributed female weight is: {female5thNormal} (difference from real value is: {female5th-female5thNormal})\")\n",
    "print(f\"The 95th percentile for normally distributed female weight is: {female95thNormal} (difference from real value is: {female95th-female95thNormal})\")"
   ]
  },
  {
   "cell_type": "markdown",
   "metadata": {},
   "source": [
    "As would be expected, the results are lower than the positively skewed real values. Also the female values are more skewed than the male values."
   ]
  },
  {
   "cell_type": "markdown",
   "metadata": {},
   "source": [
    "We can create a positively skewed distribution using the following code:"
   ]
  },
  {
   "cell_type": "code",
   "execution_count": 11,
   "metadata": {},
   "outputs": [
    {
     "name": "stdout",
     "output_type": "stream",
     "text": [
      "The 5th percentile for the skewed normal distribution for males is: 63.63005018808791 (real is: 64.0)\n",
      "The 95th percentile for the skewed normal distribution for males is: 109.93580595136599 (real is: 112.6)\n",
      "The 5th percentile for the skewed normal distribution for females is: 51.477043933348796 (real is: 52.2)\n",
      "The 95th percentile for the skewed normal distribution for females is: 95.74817453607314 (real is: 96.3)\n"
     ]
    }
   ],
   "source": [
    "# Importing the skewnorm function from scipy.stats \n",
    "# From https://docs.scipy.org/doc/scipy/reference/generated/scipy.stats.skewnorm.html#scipy.stats.skewnorm \n",
    "from scipy.stats import skewnorm\n",
    "\n",
    "# Creating a skewed normal distribution for male weight with a skewness factor of 0.1\n",
    "maleWeightSkewedDist = skewnorm.rvs(0.1, loc=meanMaleWeight, scale=maleWeightSD, size=1000)\n",
    "\n",
    "# Creating a skewed normal distribution for female weight with a skewness factor of 0.4\n",
    "femaleWeightSkewedDist = skewnorm.rvs(0.4, loc=meanFemaleWeight, scale=femaleWeightSD, size=1000)\n",
    "\n",
    "# Assigning the 5th percentile for the skewed normal weight distribution for males and females\n",
    "male5thSkewed = np.percentile(maleWeightSkewedDist, 5)\n",
    "female5thSkewed = np.percentile(femaleWeightSkewedDist, 5)\n",
    "\n",
    "# Assigning the 95th percentile for the skewed normal weight distribution for male and females\n",
    "male95thSkewed = np.percentile(maleWeightSkewedDist, 95)\n",
    "female95thSkewed = np.percentile(femaleWeightSkewedDist, 95)\n",
    "\n",
    "\n",
    "print(f\"The 5th percentile for the skewed normal distribution for males is: {male5thSkewed} (real is: {male5th})\")\n",
    "print(f\"The 95th percentile for the skewed normal distribution for males is: {male95thSkewed} (real is: {male95th})\")\n",
    "\n",
    "print(f\"The 5th percentile for the skewed normal distribution for females is: {female5thSkewed} (real is: {female5th})\")\n",
    "print(f\"The 95th percentile for the skewed normal distribution for females is: {female95thSkewed} (real is: {female95th})\")"
   ]
  },
  {
   "cell_type": "code",
   "execution_count": 12,
   "metadata": {},
   "outputs": [
    {
     "data": {
      "text/plain": [
       "(array([   2.,   14.,   52.,  136.,  233.,  241.,  212.,   81.,   23.,    6.]),\n",
       " array([  25.51419615,   34.75661513,   43.99903411,   53.24145309,\n",
       "          62.48387207,   71.72629105,   80.96871003,   90.21112902,\n",
       "          99.453548  ,  108.69596698,  117.93838596]),\n",
       " <a list of 10 Patch objects>)"
      ]
     },
     "execution_count": 12,
     "metadata": {},
     "output_type": "execute_result"
    },
    {
     "data": {
      "image/png": "[encoded data removed]",
      "text/plain": [
       "<matplotlib.figure.Figure at 0x173b2ec2be0>"
      ]
     },
     "metadata": {
      "needs_background": "light"
     },
     "output_type": "display_data"
    }
   ],
   "source": [
    "# Plotting the skewed normal male and female weight distributions\n",
    "\n",
    "plt.subplot(121)\n",
    "plt.hist(maleWeightSkewedDist)\n",
    "\n",
    "plt.subplot(122)\n",
    "plt.hist(femaleWeightSkewedDist)"
   ]
  },
  {
   "cell_type": "markdown",
   "metadata": {},
   "source": [
    "### Height\n",
    "\n",
    "Human height is normally distributed (Ref - https://www.johndcook.com/blog/2008/07/20/why-heights-are-normally-distributed/). The reason for this is that there are many genetic and envirnomental factors that are involved in height which leads to the large variation (Ref https://www.johndcook.com/blog/2008/07/20/why-heights-are-normally-distributed/).\n",
    "\n",
    "Mean adult (18 to 64 years old) male height is 1.77 m with a standard deviation of 0.07 m. (Ref - https://irp-cdn.multiscreensite.com/46a7ad27/files/uploaded/The%20National%20Adult%20Nutrition%20Survey%20%282008-2010%29.pdf)\n",
    "Mean adult (18 to 64 years old) female height is 1.63 m with a standard deviation of 0.06 m. (Ref - https://irp-cdn.multiscreensite.com/46a7ad27/files/uploaded/The%20National%20Adult%20Nutrition%20Survey%20%282008-2010%29.pdf)"
   ]
  },
  {
   "cell_type": "code",
   "execution_count": 13,
   "metadata": {},
   "outputs": [],
   "source": [
    "# Setting height variables\n",
    "maleHeight, femaleHeight = 1.77, 1.63\n",
    "maleHeightSD, femaleHeightSD = 0.07, 0.06"
   ]
  },
  {
   "cell_type": "code",
   "execution_count": 14,
   "metadata": {},
   "outputs": [
    {
     "data": {
      "text/plain": [
       "(array([   4.,   12.,   41.,  155.,  283.,  263.,  164.,   67.,    9.,    2.]),\n",
       " array([ 1.41123624,  1.4545741 ,  1.49791196,  1.54124982,  1.58458768,\n",
       "         1.62792554,  1.6712634 ,  1.71460126,  1.75793912,  1.80127698,\n",
       "         1.84461484]),\n",
       " <a list of 10 Patch objects>)"
      ]
     },
     "execution_count": 14,
     "metadata": {},
     "output_type": "execute_result"
    },
    {
     "data": {
      "image/png": "[encoded data removed]",
      "text/plain": [
       "<matplotlib.figure.Figure at 0x173b4f2f4a8>"
      ]
     },
     "metadata": {
      "needs_background": "light"
     },
     "output_type": "display_data"
    }
   ],
   "source": [
    "# Creating height distributions\n",
    "maleHeightDist = np.random.normal(maleHeight, maleHeightSD, 1000)\n",
    "femaleHeightDist = np.random.normal(femaleHeight, femaleHeightSD, 1000)\n",
    "\n",
    "# Plotting distributions on a histogram\n",
    "plt.subplot(121)\n",
    "plt.hist(maleHeightDist)\n",
    "\n",
    "plt.subplot(122)\n",
    "plt.hist(femaleHeightDist)"
   ]
  },
  {
   "cell_type": "markdown",
   "metadata": {},
   "source": [
    "### BMI\n",
    "\n",
    "BMI is calculated using the following formula weight(kg)/height(m)^2 (Ref - https://journals.lww.com/nutritiontodayonline/Fulltext/2015/05000/Body_Mass_Index__Obesity,_BMI,_and_Health_A.5.aspx) (Expand on this - Why is height squared ??????)\n",
    "\n",
    "(include limitations of BMI - https://en.wikipedia.org/wiki/Body_mass_index)\n",
    "\n"
   ]
  },
  {
   "cell_type": "code",
   "execution_count": 15,
   "metadata": {},
   "outputs": [],
   "source": [
    "# Creating BMI variable for males from weight and height distributions\n",
    "maleBMI = maleWeightSkewedDist/maleHeightDist**2\n",
    "\n",
    "# Creating BMI variable for females from weight and height distributions\n",
    "femaleBMI = femaleWeightSkewedDist/femaleHeightDist**2"
   ]
  },
  {
   "cell_type": "markdown",
   "metadata": {},
   "source": [
    "### BMI Categories\n",
    "\n",
    "There are 11 different BMI categories ( Ref - https://en.wikipedia.org/wiki/Body_mass_index.)\n",
    "\n",
    "For this data set we will only look at 6:\n",
    "* Underweight (BMI of <18.5)\n",
    "* Normal (BMI of 18.5-<25.0)\n",
    "* Overweight (BMI of 25.0-<30.0)\n",
    "* Obese 1 (BMI of 30.0-<35.0)\n",
    "* Obese 2 (BMI of 35.0-<40.0)\n",
    "* Obese 3 (BMI of >/=40.0)"
   ]
  },
  {
   "cell_type": "code",
   "execution_count": 32,
   "metadata": {},
   "outputs": [
    {
     "data": {
      "text/plain": [
       "(0         Obese 1\n",
       " 1      Overweight\n",
       " 2      Overweight\n",
       " 3         Obese 2\n",
       " 4      Overweight\n",
       " 5         Obese 3\n",
       " 6         Obese 1\n",
       " 7         Obese 1\n",
       " 8          Normal\n",
       " 9      Overweight\n",
       " 10     Overweight\n",
       " 11         Normal\n",
       " 12         Normal\n",
       " 13     Overweight\n",
       " 14        Obese 1\n",
       " 15         Normal\n",
       " 16        Obese 1\n",
       " 17         Normal\n",
       " 18        Obese 1\n",
       " 19         Normal\n",
       " 20        Obese 1\n",
       " 21     Overweight\n",
       " 22        Obese 1\n",
       " 23     Overweight\n",
       " 24        Obese 2\n",
       " 25         Normal\n",
       " 26     Overweight\n",
       " 27        Obese 1\n",
       " 28     Overweight\n",
       " 29     Overweight\n",
       "           ...    \n",
       " 970        Normal\n",
       " 971    Overweight\n",
       " 972        Normal\n",
       " 973    Overweight\n",
       " 974       Obese 1\n",
       " 975       Obese 1\n",
       " 976       Obese 1\n",
       " 977        Normal\n",
       " 978        Normal\n",
       " 979    Overweight\n",
       " 980        Normal\n",
       " 981        Normal\n",
       " 982       Obese 2\n",
       " 983       Obese 1\n",
       " 984    Overweight\n",
       " 985       Obese 2\n",
       " 986        Normal\n",
       " 987    Overweight\n",
       " 988    Overweight\n",
       " 989       Obese 1\n",
       " 990    Overweight\n",
       " 991    Overweight\n",
       " 992    Overweight\n",
       " 993    Overweight\n",
       " 994        Normal\n",
       " 995       Obese 1\n",
       " 996    Overweight\n",
       " 997    Overweight\n",
       " 998        Normal\n",
       " 999    Overweight\n",
       " Name: BMI, Length: 1000, dtype: category\n",
       " Categories (6, object): [Underweight < Normal < Overweight < Obese 1 < Obese 2 < Obese 3],\n",
       " array([    0. ,    18.5,    25. ,    30. ,    35. ,    40. ,  1000. ]))"
      ]
     },
     "execution_count": 32,
     "metadata": {},
     "output_type": "execute_result"
    }
   ],
   "source": [
    "# Creating categorical array from a continuous array\n",
    "# Adapted from https://pandas.pydata.org/pandas-docs/stable/generated/pandas.cut.html#pandas.cut\n",
    "# and from https://pandas.pydata.org/pandas-docs/stable/categorical.html\n",
    "\n",
    "df = pd.DataFrame({'BMI': maleBMI})\n",
    "\n",
    "BMICategories = [\"Underweight\", \"Normal\", \"Overweight\", \"Obese 1\", \"Obese 2\", \"Obese 3\"]\n",
    "\n",
    "BMIArray = pd.cut(df.BMI, [0.0, 18.5, 25.0, 30.0, 35.0, 40.0, 1000.0], labels=BMICategories, retbins=True, right=False)\n",
    "\n",
    "BMIArray"
   ]
  },
  {
   "cell_type": "code",
   "execution_count": 27,
   "metadata": {},
   "outputs": [
    {
     "data": {
      "text/plain": [
       "array([ 31.7269011 ,  25.53321944,  28.27251212,  37.80672351,\n",
       "        26.53297644,  45.66997496,  30.07943072,  33.69486451,\n",
       "        23.95360172,  27.09427118,  27.48115214,  23.88165682,\n",
       "        24.45321713,  27.986487  ,  31.3745128 ,  21.86847229,\n",
       "        33.00564459,  20.42750678,  30.03688811,  24.66655962,\n",
       "        34.87845113,  29.77049455,  33.80852899,  29.35352793,\n",
       "        35.39956916,  22.45451687,  25.03358391,  32.8685489 ,\n",
       "        26.35385799,  25.41683251,  28.14373413,  27.76403379,\n",
       "        35.79236239,  24.66680265,  26.87849684,  39.11534742,\n",
       "        31.64948028,  19.04208425,  27.55081589,  21.47682359,\n",
       "        31.1809553 ,  24.35410372,  38.53628377,  33.51983606,\n",
       "        27.42331226,  24.23039069,  27.46532312,  27.38598313,\n",
       "        20.51887375,  28.88526073,  36.40001154,  23.18221704,\n",
       "        39.30101173,  19.13405391,  27.01315087,  28.87395651,\n",
       "        31.7630164 ,  28.48215342,  28.08842618,  22.20603747,\n",
       "        29.54420686,  23.52070863,  27.63157865,  28.86916189,\n",
       "        28.40501653,  27.65451234,  28.1229239 ,  23.27930623,\n",
       "        26.56965299,  31.49002329,  31.13722005,  30.54418023,\n",
       "        24.84957737,  26.92286507,  38.44722056,  26.11913351,\n",
       "        21.66468298,  29.44543115,  21.67631504,  18.31232219,\n",
       "        27.63525065,  24.03121073,  34.33178787,  30.22145391,\n",
       "        19.7783353 ,  20.93951428,  25.1639895 ,  39.6382148 ,\n",
       "        32.02540427,  20.99385001,  38.79437084,  27.83933795,\n",
       "        28.50802652,  27.8617202 ,  26.69733511,  27.63289635,\n",
       "        34.46663259,  30.51017844,  31.48812083,  26.33851234,\n",
       "        29.32496784,  34.51367605,  23.34300502,  32.20872008,\n",
       "        24.71935525,  28.40202246,  27.28319014,  34.03525902,\n",
       "        23.31625542,  30.60144099,  27.44162373,  23.96689284,\n",
       "        28.62351326,  28.87475977,  20.74905353,  32.0978863 ,\n",
       "        31.88691875,  30.76181929,  27.04306708,  34.89407513,\n",
       "        21.16019215,  20.99117442,  31.77662612,  27.83659725,\n",
       "        42.25213886,  23.11999264,  33.53993531,  32.83646415,\n",
       "        32.51819889,  21.31825314,  23.15911792,  27.87026674,\n",
       "        29.36415505,  20.88749526,  30.07324294,  24.81728387,\n",
       "        31.84550295,  27.48426879,  22.72164351,  29.56793139,\n",
       "        27.74075188,  35.83348541,  35.98279357,  30.96654612,\n",
       "        31.51736478,  19.57817488,  32.63600866,  26.98318131,\n",
       "        37.10423381,  32.38533237,  30.34796716,  40.50355054,\n",
       "        22.74335291,  29.46087199,  32.65032535,  27.44146002,\n",
       "        31.12388179,  27.38025244,  23.30073208,  27.43396688,\n",
       "        25.82295773,  27.21476202,  29.30951452,  26.24764034,\n",
       "        30.61809472,  22.29174922,  28.69719119,  27.28785154,\n",
       "        23.84837375,  26.25969654,  34.11479613,  27.38847579,\n",
       "        32.66833739,  31.9578819 ,  30.40598199,  26.26636404,\n",
       "        30.58564507,  28.34197089,  41.12817777,  19.32427331,\n",
       "        31.16916307,  30.42623274,  26.42607101,  29.24504969,\n",
       "        36.72666254,  18.53835751,  36.36477055,  17.69023749,\n",
       "        29.65370158,  30.90630035,  27.29240275,  24.41271127,\n",
       "        24.69763568,  28.50259098,  34.71338186,  21.06882283,\n",
       "        28.64719741,  24.80512723,  30.16742289,  35.63642865,\n",
       "        26.51019054,  23.76687911,  26.10152495,  28.04010708,\n",
       "        29.96417174,  27.86064134,  23.93170782,  30.51580223,\n",
       "        25.66640674,  33.90178695,  30.28109035,  33.63104919,\n",
       "        28.30277536,  27.61636759,  27.65570209,  24.07198726,\n",
       "        31.24918309,  26.06099225,  24.88506035,  28.00213709,\n",
       "        37.04608215,  33.4484467 ,  32.75492545,  40.47640337,\n",
       "        24.73222086,  20.48294534,  15.80172239,  25.70260868,\n",
       "        21.92069674,  22.58097161,  33.33574223,  24.01664325,\n",
       "        26.52870427,  32.38356203,  31.33347937,  22.53983419,\n",
       "        42.00105483,  39.82003023,  27.90831708,  30.8859005 ,\n",
       "        29.60709572,  25.99954161,  24.80271553,  29.17878981,\n",
       "        22.65256646,  28.85627772,  27.84322927,  28.87737355,\n",
       "        23.19884965,  26.92640456,  30.47910696,  33.25827919,\n",
       "        43.89646772,  26.00892743,  21.69655536,  19.62715598,\n",
       "        22.8627942 ,  30.72919421,  29.55980754,  30.49746892,\n",
       "        21.56647856,  27.87094531,  29.86628393,  26.39954833,\n",
       "        28.52668108,  33.3626868 ,  33.41113484,  38.21381843,\n",
       "        25.3272256 ,  22.82390121,  26.75730196,  34.84906652,\n",
       "        33.66761468,  34.01262193,  30.53226657,  24.41396347,\n",
       "        25.30929129,  26.24320354,  25.67034806,  24.34874823,\n",
       "        27.66485476,  37.32550251,  25.19441715,  32.67363722,\n",
       "        34.77094068,  26.88183877,  31.78328867,  32.81070253,\n",
       "        23.99905984,  24.11235791,  23.83955043,  26.37958169,\n",
       "        24.95643004,  20.82638066,  31.66602252,  30.13210072,\n",
       "        18.29874486,  21.36687659,  28.24618678,  34.98358344,\n",
       "        26.02034271,  28.61386622,  26.28570639,  24.93186764,\n",
       "        26.85901328,  23.20938823,  27.31318107,  21.34090056,\n",
       "        22.86014448,  32.84169687,  29.39027902,  23.60525849,\n",
       "        30.20834843,  24.54288352,  23.64989703,  22.7654962 ,\n",
       "        29.75945612,  21.37991703,  26.51387013,  36.35828839,\n",
       "        29.19122835,  27.54247604,  38.3106096 ,  21.17494035,\n",
       "        23.78736719,  40.08937551,  28.80774007,  19.02354956,\n",
       "        28.42682212,  22.65943734,  36.66503958,  35.85733201,\n",
       "        28.50103058,  34.63730046,  20.89206436,  25.809966  ,\n",
       "        30.73239589,  33.38079548,  20.94571684,  29.95974915,\n",
       "        26.79160668,  28.06257151,  26.67615078,  24.08210152,\n",
       "        15.46291218,  22.70660511,  30.02074772,  26.22722393,\n",
       "        31.65825851,  27.88007988,  24.29868917,  31.57649876,\n",
       "        27.95042047,  22.70796724,  36.56785091,  34.43882061,\n",
       "        22.84771612,  29.64608938,  33.51914598,  32.77404495,\n",
       "        20.26960455,  22.18479418,  34.13267336,  38.26783987,\n",
       "        20.54136666,  25.58966628,  29.63583233,  25.96410843,\n",
       "        22.61625265,  32.96374369,  35.86591001,  30.39936235,\n",
       "        31.2315478 ,  26.98953086,  39.90403618,  33.93256473,\n",
       "        26.3261116 ,  18.57142151,  27.44091516,  22.57737824,\n",
       "        22.88030144,  33.95184714,  25.70089901,  27.48214864,\n",
       "        30.06282555,  21.76420175,  29.87920241,  28.58260388,\n",
       "        26.8638285 ,  25.60771427,  32.52458023,  31.0072703 ,\n",
       "        33.91057156,  29.65337485,  23.73980789,  20.99154076,\n",
       "        25.03985062,  36.08570606,  30.80271303,  19.89479498,\n",
       "        39.03010967,  22.78240347,  24.77027215,  26.62503349,\n",
       "        25.20066279,  30.47542635,  19.7884958 ,  39.48385307,\n",
       "        22.88041886,  31.249688  ,  28.90376285,  23.51549031,\n",
       "        31.66608288,  17.78660546,  40.88208615,  26.84880141,\n",
       "        22.47385975,  21.00820764,  28.59993357,  37.11099857,\n",
       "        23.55402713,  31.78969137,  35.01518471,  32.8804777 ,\n",
       "        32.47433924,  29.30221561,  27.65625035,  32.6881951 ,\n",
       "        32.51817686,  28.14165725,  35.80544609,  23.3458493 ,\n",
       "        29.41805734,  25.88536266,  23.2858866 ,  19.44364196,\n",
       "        26.88146314,  18.30405563,  29.73612699,  28.87604907,\n",
       "        23.20148639,  33.05857536,  27.25623961,  26.88352679,\n",
       "        42.56454785,  30.4717085 ,  30.10089282,  25.91897004,\n",
       "        28.32051978,  29.49178085,  27.19037164,  24.26832202,\n",
       "        26.70467097,  31.05730442,  23.2502772 ,  16.03832925,\n",
       "        33.12550791,  25.47176069,  40.3089487 ,  29.66787853,\n",
       "        29.15552129,  26.6726278 ,  21.09684146,  26.37851821,\n",
       "        28.2743076 ,  18.75502713,  26.87377718,  24.87638184,\n",
       "        28.95473972,  30.42637621,  22.61962155,  29.06789497,\n",
       "        27.84115494,  34.99694433,  26.41415489,  37.76371817,\n",
       "        27.54465631,  26.08757517,  29.41903521,  25.08914583,\n",
       "        27.07559553,  27.50472296,  19.32401232,  31.93348308,\n",
       "        32.98968691,  33.36573911,  23.72435079,  35.48145955,\n",
       "        30.29618802,  24.71210885,  28.08571813,  27.55590075,\n",
       "        27.67031973,  32.15699642,  25.8093819 ,  27.26871888,\n",
       "        23.40126597,  30.57816691,  30.44904645,  29.738643  ,\n",
       "        38.03189364,  25.91226991,  25.25869426,  18.32569985,\n",
       "        29.6314305 ,  23.0554702 ,  22.92181715,  27.71458541,\n",
       "        26.32558608,  32.03685622,  34.56654337,  22.15694641,\n",
       "        21.07451309,  21.89236915,  28.63713186,  21.17724361,\n",
       "        28.50457439,  32.04615465,  25.42624296,  21.35021062,\n",
       "        32.58447726,  26.48374636,  26.94307755,  23.93350052,\n",
       "        27.52398754,  30.46327834,  25.6805058 ,  28.59144673,\n",
       "        31.89371992,  27.89222519,  29.08510939,  28.89342156,\n",
       "        28.73086622,  23.05304241,  31.45952155,  38.82219666,\n",
       "        19.61779764,  28.79953023,  33.36051895,  28.65339519,\n",
       "        33.52199139,  17.51529899,  35.43719059,  20.74590098,\n",
       "        15.5401754 ,  25.93603705,  22.60726269,  40.16220269,\n",
       "        32.2962088 ,  31.05679533,  28.52033464,  28.25695867,\n",
       "        22.49232247,  29.06405539,  29.76197523,  20.08428717,\n",
       "        27.39913904,  27.81659821,  20.75915239,  30.93421133,\n",
       "        23.74323979,  32.0272146 ,  25.7906148 ,  28.17865458,\n",
       "        25.48510286,  23.95368339,  23.82835096,  26.78149464,\n",
       "        24.39994312,  27.98503112,  29.88324361,  32.53365988,\n",
       "        34.76386363,  26.94689804,  25.78534168,  36.14250557,\n",
       "        19.96183409,  22.66055156,  27.90454562,  29.27974183,\n",
       "        24.00893086,  30.18645979,  25.12919184,  26.61759142,\n",
       "        29.76830651,  37.52385622,  25.60261946,  24.7514679 ,\n",
       "        26.47798568,  26.42413063,  28.72391749,  33.47615055,\n",
       "        22.37888851,  15.38160815,  24.18709289,  36.24260114,\n",
       "        22.43197358,  24.58517027,  26.22878924,  23.8449039 ,\n",
       "        26.05884991,  32.63681974,  28.55737946,  28.65979795,\n",
       "        24.10465523,  26.10574267,  18.23997089,  27.68204003,\n",
       "        29.32091656,  16.58086796,  27.76601296,  29.51738821,\n",
       "        36.79873036,  19.07847354,  28.23359363,  22.18091546,\n",
       "        31.69567038,  32.21813653,  20.70633025,  30.05565669,\n",
       "        20.72247139,  36.06970866,  27.94289876,  28.51611267,\n",
       "        22.02692709,  32.21216176,  32.63035673,  18.6926417 ,\n",
       "        23.68243567,  23.60413895,  25.06845081,  26.49814111,\n",
       "        33.88753231,  40.90320654,  27.87607504,  32.75544034,\n",
       "        27.02708316,  33.73539266,  27.97484558,  36.2410374 ,\n",
       "        24.93796034,  26.16106269,  44.39996611,  22.97272077,\n",
       "        31.72760879,  36.82077849,  28.2780141 ,  34.6682396 ,\n",
       "        26.92894963,  36.48250462,  28.73400757,  24.38604117,\n",
       "        31.73778455,  34.8798279 ,  22.28703776,  30.76486875,\n",
       "        17.5828694 ,  29.44193205,  35.35810928,  30.18642303,\n",
       "        25.8012279 ,  29.62457423,  24.05672002,  27.07683741,\n",
       "        25.55603697,  23.8464177 ,  23.98901169,  29.89188575,\n",
       "        26.85309954,  28.17958279,  30.42495877,  33.32014285,\n",
       "        22.19231641,  19.44912467,  29.22611993,  25.09835069,\n",
       "        30.5429853 ,  34.91878005,  22.91787448,  17.51386409,\n",
       "        30.8143361 ,  26.87464355,  26.71482236,  21.09062816,\n",
       "        42.96579389,  24.41693535,  24.06614663,  27.93845312,\n",
       "        33.91721382,  31.29381103,  24.74105712,  20.92582729,\n",
       "        32.37775977,  28.36279756,  27.38761193,  32.54273437,\n",
       "        35.15391557,  30.56785566,  15.82411932,  29.07281017,\n",
       "        22.20297416,  21.85633425,  28.95596284,  21.15213264,\n",
       "        24.04065785,  27.75898396,  38.16077239,  21.81520797,\n",
       "        33.68295492,  30.27279089,  25.32930641,  19.65545074,\n",
       "        30.27425027,  25.93937604,  27.9462112 ,  26.70158544,\n",
       "        23.32166285,  40.80978445,  23.45078014,  34.20261164,\n",
       "        33.49962714,  23.88417623,  22.65976092,  27.51720857,\n",
       "        24.24219051,  21.75462666,  32.91211871,  35.3245931 ,\n",
       "        30.77999914,  29.03061397,  20.17283342,  20.08430134,\n",
       "        31.59367606,  25.61731572,  28.78763256,  31.41757175,\n",
       "        29.11008898,  19.67656439,  32.66288184,  36.3999228 ,\n",
       "        30.3332419 ,  39.04310188,  26.68531848,  29.08989307,\n",
       "        29.76791997,  28.67252584,  21.4816157 ,  23.37131561,\n",
       "        27.42108198,  29.55525675,  19.51436597,  24.77462808,\n",
       "        22.96774693,  25.24913487,  34.72487975,  35.24049236,\n",
       "        31.03471449,  28.94346768,  19.97664144,  27.02176677,\n",
       "        25.81895017,  33.44822972,  31.14518917,  24.3062642 ,\n",
       "        25.76608389,  26.37927105,  25.91990354,  25.95524143,\n",
       "        22.43595474,  23.68429221,  26.69460094,  22.48587207,\n",
       "        26.75902535,  36.56094363,  34.15458102,  28.2495065 ,\n",
       "        27.08244846,  30.11007274,  35.50417536,  34.38704912,\n",
       "        34.25045687,  32.84137937,  32.69856639,  27.97616122,\n",
       "        30.26148985,  25.80996907,  29.32773064,  25.75000217,\n",
       "        31.41002466,  36.65064603,  29.94415957,  36.33746526,\n",
       "        32.76301066,  29.02655522,  32.0177788 ,  43.96775564,\n",
       "        31.75239322,  22.73977619,  34.13609617,  30.49612267,\n",
       "        29.49277513,  32.07356994,  25.50298704,  18.54035456,\n",
       "        13.60899721,  24.96070894,  27.11112774,  23.01905615,\n",
       "        30.05871853,  31.31724022,  18.83869335,  17.10895245,\n",
       "        26.56571356,  26.3181003 ,  25.21706808,  38.73056378,\n",
       "        26.80797093,  34.11623042,  36.40431451,  27.90199116,\n",
       "        35.93852723,  29.49540365,  34.96285768,  21.62816183,\n",
       "        25.43397598,  29.00379537,  28.04627546,  22.03207546,\n",
       "        22.44455137,  24.80468694,  28.92862315,  26.32396884,\n",
       "        30.10193788,  38.24326883,  25.57356266,  22.85516489,\n",
       "        29.0823976 ,  23.34173526,  21.96864414,  15.70121611,\n",
       "        24.58967213,  22.36645618,  27.99943245,  27.37521322,\n",
       "        25.94161694,  30.3588131 ,  27.47499152,  23.47008567,\n",
       "        31.33800286,  17.63092318,  33.83209796,  27.38265009,\n",
       "        24.96238754,  30.11550079,  29.72253667,  27.75995353,\n",
       "        18.10465202,  22.91038751,  19.82291037,  24.14334996,\n",
       "        35.23592623,  36.63825564,  28.45496977,  34.81745045,\n",
       "        28.13605664,  22.43312164,  27.104663  ,  32.43040056,\n",
       "        36.3309243 ,  28.11409072,  21.24992594,  27.44279121,\n",
       "        28.51071704,  31.20883444,  27.55693474,  40.19696432,\n",
       "        28.81472401,  33.26685253,  33.18519673,  30.322322  ,\n",
       "        26.31090626,  32.30628538,  26.33812222,  43.46006179,\n",
       "        23.77422353,  21.79953642,  29.87627251,  29.71671525,\n",
       "        30.81742062,  24.5704102 ,  34.66772509,  26.57445198,\n",
       "        31.48956979,  20.63675688,  34.64475855,  24.54392552,\n",
       "        38.44641932,  21.16732718,  35.35514042,  28.07390822,\n",
       "        20.63221643,  37.71332053,  26.89872582,  22.91528021,\n",
       "        25.340618  ,  28.23916556,  29.6478975 ,  24.67286355,\n",
       "        20.34987799,  28.71429752,  24.33650778,  33.99188842,\n",
       "        28.56166284,  27.64026366,  20.81760155,  40.28234838,\n",
       "        29.33356036,  24.78146658,  29.28557864,  27.70443581,\n",
       "        33.14498344,  21.45692952,  26.37557161,  27.59526904,\n",
       "        26.85495435,  21.83719022,  23.71807453,  32.78435956,\n",
       "        23.94008849,  24.42373913,  29.38381251,  25.62001444,\n",
       "        34.5172207 ,  32.82116336,  33.53532608,  31.91006752,\n",
       "        22.86463578,  31.30503801,  27.86736982,  30.81731426,\n",
       "        32.71796883,  20.60557757,  25.24719199,  31.06667467,\n",
       "        24.87737489,  24.47277062,  19.08126153,  23.60874775,\n",
       "        34.98236961,  30.12121774,  22.77444428,  29.01072638,\n",
       "        20.88693765,  26.61845146,  32.64095961,  25.77635967,\n",
       "        30.02309672,  26.00992941,  27.97472083,  34.28975948,\n",
       "        29.10099936,  21.30084779,  30.26576375,  22.06747126,\n",
       "        29.63731375,  29.32623784,  26.7351856 ,  32.29029497,\n",
       "        22.58080182,  26.44042409,  18.61115732,  26.80360671,\n",
       "        24.94948054,  28.07805409,  32.57711517,  33.7022278 ,\n",
       "        31.92298027,  23.86012051,  22.58264799,  26.60208897,\n",
       "        22.98049201,  21.16521927,  39.63307566,  31.5286565 ,\n",
       "        25.0854143 ,  35.79006465,  19.7416387 ,  29.26425691,\n",
       "        25.01846077,  31.31316575,  27.88294392,  29.48833569,\n",
       "        29.61724056,  25.34839904,  21.44682184,  31.5446088 ,\n",
       "        28.0226256 ,  25.89180485,  23.89227194,  29.45795398])"
      ]
     },
     "execution_count": 27,
     "metadata": {},
     "output_type": "execute_result"
    }
   ],
   "source": [
    "maleBMI"
   ]
  },
  {
   "cell_type": "markdown",
   "metadata": {},
   "source": [
    "Percentage in ireland with obesity\n",
    "\n",
    "https://www.safefood.eu/SafeFood/media/SafeFoodLibrary/Documents/Professional/Nutrition/Adult-and-children-obesity-trends-ROI.pdf\n",
    "\n"
   ]
  },
  {
   "cell_type": "markdown",
   "metadata": {},
   "source": [
    "## Simulating the Dataset"
   ]
  },
  {
   "cell_type": "markdown",
   "metadata": {},
   "source": [
    "## Conclusion"
   ]
  },
  {
   "cell_type": "code",
   "execution_count": null,
   "metadata": {},
   "outputs": [],
   "source": []
  }
 ],
 "metadata": {
  "kernelspec": {
   "display_name": "Python 3",
   "language": "python",
   "name": "python3"
  },
  "language_info": {
   "codemirror_mode": {
    "name": "ipython",
    "version": 3
   },
   "file_extension": ".py",
   "mimetype": "text/x-python",
   "name": "python",
   "nbconvert_exporter": "python",
   "pygments_lexer": "ipython3",
   "version": "3.6.7"
  }
 },
 "nbformat": 4,
 "nbformat_minor": 2
}
