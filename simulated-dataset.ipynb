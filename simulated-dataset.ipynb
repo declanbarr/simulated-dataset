{
 "cells": [
  {
   "cell_type": "markdown",
   "metadata": {},
   "source": [
    "# A Simulated Dataset of a Real-World Phenomenom"
   ]
  },
  {
   "cell_type": "markdown",
   "metadata": {},
   "source": [
    "## Introduction\n",
    "\n",
    "The real-world phenomenom that I will be looking at is the relationship between obesity and increased mortaility. Obesity grades 2 and 3 (BMI >/= 35) is associated with an aproximate 30% increase in all-cause mortality https://www.ncbi.nlm.nih.gov/pmc/articles/PMC4855514/. \n",
    "\n",
    "This dataset can be used to predict the number of people in a population that will suffer from obesity and therefore an increase in all-cause mortality.\n",
    "\n"
   ]
  },
  {
   "cell_type": "markdown",
   "metadata": {},
   "source": [
    "## Investigation\n",
    "Variables to look at:\n",
    "Sex (What is the proportion of males to females?)\n",
    "Weight (Average weight by sex and the standard deviation)\n",
    "Height (Average height and standard deviation)\n",
    "BMI \n",
    "BMI Category \n",
    "Risk of all-cause mortality\n",
    "\n",
    "For sex, there are different average weights and heights for males and females."
   ]
  },
  {
   "cell_type": "markdown",
   "metadata": {},
   "source": [
    "We'll start by importing some libraries"
   ]
  },
  {
   "cell_type": "code",
   "execution_count": 1,
   "metadata": {},
   "outputs": [],
   "source": [
    "import numpy as np\n",
    "import pandas as pd\n",
    "import matplotlib.pyplot as plt"
   ]
  },
  {
   "cell_type": "markdown",
   "metadata": {},
   "source": [
    "### Sex ratio\n",
    "\n",
    "The ratio of males to females in Ireland are:\n",
    "Aged 15 to 24: 301,114 males and 292,055 females (1.03 m/f)\n",
    "Aged 25 to 54: 1,087,587 males and 1,077,383 females (1.01 m/f)\n",
    "Aged 55 to 64: 261,650 males and 260,737 females (1 m/f)\n",
    "\n",
    "(Reference - https://www.indexmundi.com/ireland/demographics_profile.html)"
   ]
  },
  {
   "cell_type": "code",
   "execution_count": 2,
   "metadata": {},
   "outputs": [
    {
     "name": "stdout",
     "output_type": "stream",
     "text": [
      "The number of males aged 15 to 64 in Ireland is 1650351\n",
      "The number of females aged 15 to 64 in Ireland is 1630175\n",
      "The total number of males and females aged 15 to 64 in Ireland is 3280526\n"
     ]
    }
   ],
   "source": [
    "# Number of males and females in Ireland aged 15 to 64 years old\n",
    "males = 301114 + 1087587 + 261650\n",
    "females = 292055 + 1077383 + 260737\n",
    "\n",
    "# Total number of adults in Ireland aged 15 to 64 years old\n",
    "total = males + females\n",
    "\n",
    "print(f\"The number of males aged 15 to 64 in Ireland is {males}\")\n",
    "print(f\"The number of females aged 15 to 64 in Ireland is {females}\")\n",
    "print(f\"The total number of males and females aged 15 to 64 in Ireland is {total}\")\n",
    "      "
   ]
  },
  {
   "cell_type": "code",
   "execution_count": 3,
   "metadata": {},
   "outputs": [
    {
     "name": "stdout",
     "output_type": "stream",
     "text": [
      "0.5030751166123969\n",
      "0.4969248833876031\n"
     ]
    }
   ],
   "source": [
    "# Ratio of males to females in Ireland aged 15 to 64\n",
    "\n",
    "ratioOfMales = males/ total\n",
    "ratioOfFemales = females/ total\n",
    "\n",
    "print(ratioOfMales)\n",
    "print(ratioOfFemales)"
   ]
  },
  {
   "cell_type": "markdown",
   "metadata": {},
   "source": [
    "The figures below for weight and height are for 18 to 64 year olds. Here an assumption will be made that the ratio for males to females in Ireland aged 18 to 64 year olds will be the same as 15 to 64 year olds. However, as can be seen from the ratios above, the number of males to females decreases as age increases (1.03 for 15 to 24 year olds, 1.01 for 25 to 54 and 1.00 55 to 64 years).\n",
    "\n",
    "We can now create a random sample of 1000 people which will have the same ratio of males to females as was found above"
   ]
  },
  {
   "cell_type": "code",
   "execution_count": 4,
   "metadata": {},
   "outputs": [
    {
     "data": {
      "text/plain": [
       "(array(['female', 'male'],\n",
       "       dtype='<U6'), array([512, 488], dtype=int64))"
      ]
     },
     "execution_count": 4,
     "metadata": {},
     "output_type": "execute_result"
    }
   ],
   "source": [
    "# Creating a 1D array with male and female as the elements\n",
    "\n",
    "sex =[\"male\", \"female\"]\n",
    "\n",
    "sampleSize = 1000\n",
    "\n",
    "sexArray = np.random.choice(sex, sampleSize, p=[ratioOfMales, ratioOfFemales])\n",
    "\n",
    "np.unique(sexArray, return_counts=True)"
   ]
  },
  {
   "cell_type": "markdown",
   "metadata": {},
   "source": [
    "### Weight\n",
    "\n",
    "Mean adult (18 to 64 years old) male body weight is 86.2 kg with a standard deviation of 15.0 kg. (Reference - https://irp-cdn.multiscreensite.com/46a7ad27/files/uploaded/The%20National%20Adult%20Nutrition%20Survey%20%282008-2010%29.pdf)\n",
    "\n",
    "Mean adult (18 to 64 years old) female bodyweight is 70.0 kg with a standard deviation of 13.7 kg. (Reference - https://irp-cdn.multiscreensite.com/46a7ad27/files/uploaded/The%20National%20Adult%20Nutrition%20Survey%20%282008-2010%29.pdf)"
   ]
  },
  {
   "cell_type": "code",
   "execution_count": 5,
   "metadata": {},
   "outputs": [],
   "source": [
    "# Assigning variables for weight\n",
    "\n",
    "meanMaleWeight, maleWeightSD = 86.2, 15.0\n",
    "meanFemaleWeight, femaleWeightSD = 70.0, 13.7"
   ]
  },
  {
   "cell_type": "markdown",
   "metadata": {},
   "source": [
    "The median values for males and females are 85.1 kg and 67.5 kg respectively. The distributions for weight for males and females are therefore are both positively skewed. We can also see this by examining the 5th and 95th percentiles. For males these are 64.0 kg and 112.6 kg, respectively(Reference - https://irp-cdn.multiscreensite.com/46a7ad27/files/uploaded/The%20National%20Adult%20Nutrition%20Survey%20%282008-2010%29.pdf). For females, these are 52.2 kg and 96.3 kg respectively(Reference - https://irp-cdn.multiscreensite.com/46a7ad27/files/uploaded/The%20National%20Adult%20Nutrition%20Survey%20%282008-2010%29.pdf). \n",
    "\n",
    "The differences between these and their respective medians can be calculated as follows:"
   ]
  },
  {
   "cell_type": "code",
   "execution_count": 6,
   "metadata": {},
   "outputs": [
    {
     "name": "stdout",
     "output_type": "stream",
     "text": [
      "The difference between the median body weight for males and the 5th and 95th percentiles are:\n",
      "5th percentile: 21.099999999999994\n",
      "95th percentile: 27.5\n",
      "The difference between the median body weight for females and the 5th and 95th percentiles are:\n",
      "5th percentile: 15.299999999999997\n",
      "95th percentile: 28.799999999999997\n"
     ]
    }
   ],
   "source": [
    "# Assigning median, 5th perentile and 95th percentiles\n",
    "\n",
    "maleMedian, male5th, male95th = 85.1, 64.0, 112.6\n",
    "femaleMedian, female5th, female95th = 67.5, 52.2, 96.3\n",
    "\n",
    "# Calculating difference between medians and 5th and 95th percentiles\n",
    "male5thdiff = maleMedian - male5th\n",
    "male95thdiff = male95th - maleMedian\n",
    "\n",
    "female5thdiff = femaleMedian - female5th\n",
    "female95thdiff = female95th - femaleMedian\n",
    "\n",
    "print(f\"The difference between the median body weight for males and the 5th and 95th percentiles are:\")\n",
    "print(f\"5th percentile: {male5thdiff}\")\n",
    "print(f\"95th percentile: {male95thdiff}\")\n",
    "\n",
    "print(f\"The difference between the median body weight for females and the 5th and 95th percentiles are:\")\n",
    "print(f\"5th percentile: {female5thdiff}\")\n",
    "print(f\"95th percentile: {female95thdiff}\")"
   ]
  },
  {
   "cell_type": "markdown",
   "metadata": {},
   "source": [
    "This also shows that body weight is not normally distributed but is instead positively skewed.\n",
    "\n",
    "A study of German, Norwegian and Austrian conscripts also found that body weight is not normally distributed. \n",
    "\n",
    "(Reference - https://www.ncbi.nlm.nih.gov/pubmed/11673780)\n",
    "\n",
    "There may be a diproportionately larger number of obese people than underweight (therefore leading to the positive skewness) due to the fact that the more a person weighs the easier it then is for them to gain even more weight. (Reference - https://www.researchgate.net/publication/7006581_The_Changing_Shape_of_the_Body_Mass_Index_Distribution_Curve_in_the_Population_Implications_for_Public_Health_Policy_to_Reduce_the_Prevalence_of_Adult_Obesity)\n",
    "\n",
    "Firstly we will create a normal distribution for male and female weights"
   ]
  },
  {
   "cell_type": "code",
   "execution_count": 7,
   "metadata": {},
   "outputs": [
    {
     "data": {
      "text/plain": [
       "(array([   2.,    5.,   38.,   92.,  212.,  261.,  228.,  114.,   42.,    6.]),\n",
       " array([  27.45871614,   37.94073142,   48.4227467 ,   58.90476198,\n",
       "          69.38677727,   79.86879255,   90.35080783,  100.83282311,\n",
       "         111.3148384 ,  121.79685368,  132.27886896]),\n",
       " <a list of 10 Patch objects>)"
      ]
     },
     "execution_count": 7,
     "metadata": {},
     "output_type": "execute_result"
    },
    {
     "data": {
      "image/png": "[encoded data removed]",
      "text/plain": [
       "<matplotlib.figure.Figure at 0x20395ea4908>"
      ]
     },
     "metadata": {
      "needs_background": "light"
     },
     "output_type": "display_data"
    }
   ],
   "source": [
    "# Creating a random Normally distributed array for male weight\n",
    "maleWeightDist = np.random.normal(meanMaleWeight, maleWeightSD, 1000)\n",
    "\n",
    "# Displaying the male weights on a histogram\n",
    "plt.hist(maleWeightDist)"
   ]
  },
  {
   "cell_type": "markdown",
   "metadata": {},
   "source": [
    "From above in the https://irp-cdn.multiscreensite.com/46a7ad27/files/uploaded/The%20National%20Adult%20Nutrition%20Survey%20%282008-2010%29.pdf it was found that the male 5th and 95th percentiles were 64.0 and 112.6 respectively. We can view what these values are for the normally distributed male weight distribution:"
   ]
  },
  {
   "cell_type": "code",
   "execution_count": 8,
   "metadata": {},
   "outputs": [
    {
     "name": "stdout",
     "output_type": "stream",
     "text": [
      "The 5th percentile is: 60.2773066835351\n",
      "The 95th percentile is: 111.05525943820402\n"
     ]
    }
   ],
   "source": [
    "# Assigning the 5th percentile for normally distributed male weight\n",
    "five = np.percentile(maleWeightDist, 5)\n",
    "\n",
    "# Assigning the 95th percentile for normally distributed male weight\n",
    "ninetyFive = np.percentile(maleWeightDist, 95)\n",
    "\n",
    "# Printing the 5th and 95th percentiles for normally distributed male weight\n",
    "print(f\"The 5th percentile is: {five}\")\n",
    "print(f\"The 95th percentile is: {ninetyFive}\")"
   ]
  },
  {
   "cell_type": "markdown",
   "metadata": {},
   "source": [
    "As would be expected, the results are lower than the positively skewed real values. \n",
    "\n",
    "We can create a positively skewed distribution using the following code:"
   ]
  },
  {
   "cell_type": "code",
   "execution_count": 9,
   "metadata": {},
   "outputs": [
    {
     "data": {
      "text/plain": [
       "(array([   2.,    6.,   31.,  123.,  197.,  297.,  198.,   95.,   42.,    9.]),\n",
       " array([  18.85953306,   28.3755479 ,   37.89156274,   47.40757758,\n",
       "          56.92359242,   66.43960726,   75.9556221 ,   85.47163694,\n",
       "          94.98765178,  104.50366662,  114.01968146]),\n",
       " <a list of 10 Patch objects>)"
      ]
     },
     "execution_count": 9,
     "metadata": {},
     "output_type": "execute_result"
    },
    {
     "data": {
      "image/png": "[encoded data removed]",
      "text/plain": [
       "<matplotlib.figure.Figure at 0x20395db9c18>"
      ]
     },
     "metadata": {
      "needs_background": "light"
     },
     "output_type": "display_data"
    }
   ],
   "source": [
    "# Creating a random Normally distributed array for female weight\n",
    "femaleWeightDist = np.random.normal(meanFemaleWeight, femaleWeightSD, 1000)\n",
    "\n",
    "# Displaying the male weights on a histogram\n",
    "plt.hist(femaleWeightDist)"
   ]
  },
  {
   "cell_type": "code",
   "execution_count": 10,
   "metadata": {},
   "outputs": [
    {
     "name": "stdout",
     "output_type": "stream",
     "text": [
      "The 5th percentile is: 63.72594580042047\n",
      "The 95th percentile is: 110.48562574177934\n"
     ]
    }
   ],
   "source": [
    "# Importing the skewnorm function from scipy.stats \n",
    "# From https://docs.scipy.org/doc/scipy/reference/generated/scipy.stats.skewnorm.html#scipy.stats.skewnorm \n",
    "from scipy.stats import skewnorm\n",
    "\n",
    "# Creating a skewed normal distribution for male weight with a skewness factor of 0.1\n",
    "maleWeightSkewedDist = skewnorm.rvs(0.1, loc=meanMaleWeight, scale=maleWeightSD, size=1000)\n",
    "\n",
    "# Assigning the 5th percentile for normally distributed male weight with a skewness parameter of 0.1\n",
    "five = np.percentile(maleWeightSkewedDist, 5)\n",
    "# Assigning the 95th percentile for normally distributed male weight with a skewness parameter of 0.1\n",
    "ninetyFive = np.percentile(maleWeightSkewedDist, 95)\n",
    "\n",
    "print(f\"The 5th percentile is: {five}\")\n",
    "print(f\"The 95th percentile is: {ninetyFive}\")"
   ]
  },
  {
   "cell_type": "code",
   "execution_count": 11,
   "metadata": {},
   "outputs": [
    {
     "data": {
      "text/plain": [
       "(array([   6.,   25.,   48.,  135.,  242.,  241.,  180.,   90.,   27.,    6.]),\n",
       " array([  40.30836688,   49.42492411,   58.54148134,   67.65803857,\n",
       "          76.7745958 ,   85.89115303,   95.00771025,  104.12426748,\n",
       "         113.24082471,  122.35738194,  131.47393917]),\n",
       " <a list of 10 Patch objects>)"
      ]
     },
     "execution_count": 11,
     "metadata": {},
     "output_type": "execute_result"
    },
    {
     "data": {
      "image/png": "[encoded data removed]",
      "text/plain": [
       "<matplotlib.figure.Figure at 0x20395e11d68>"
      ]
     },
     "metadata": {
      "needs_background": "light"
     },
     "output_type": "display_data"
    }
   ],
   "source": [
    "plt.hist(maleWeightSkewedDist)"
   ]
  },
  {
   "cell_type": "markdown",
   "metadata": {},
   "source": [
    "### Height\n",
    "\n",
    "Like human bodyweight, height is also roughly bell-shaped (http://www.usablestats.com/lessons/normal)\n",
    "\n",
    "From ( https://jech.bmj.com/content/jech/40/4/319.full.pdf ) the average male height is 174.1 cm with a standard deviation of 7.0 cm and the average female height is 160.7 cm with a standard deviation of 6.6 cm.\n",
    "\n",
    "The average male height in Ireland is 177 cm and 163 cm for males and females respectively (this however is for 20 to 49 year olds)\n",
    "\n",
    "\n",
    "Limitation - the aveage height for Irish adults is given for 20 to 49 year olds whereas in the Canadian study it was for 20 to 69 year olds. Adults lose height as they get older. Up to 1 cm can be lost for every decade after 40 years of age (https://medlineplus.gov/ency/article/003998.htm )\n",
    "\n",
    "No information could be found on the standard deviation for heights for Irish adults.\n",
    "\n",
    "I'll make the assumption that Irish heights for Adults from 20 to 69 years of age are similar to those found in the Canadian study and that the distribution and therefore standard deviations are the same.\n",
    "\n"
   ]
  },
  {
   "cell_type": "code",
   "execution_count": 12,
   "metadata": {},
   "outputs": [],
   "source": [
    "# Setting height variables\n",
    "\n",
    "maleHeight, femaleHeight = 174.1, 160.7\n",
    "\n",
    "maleHeightSD, femaleHeightSD = 7.0, 6.6"
   ]
  },
  {
   "cell_type": "markdown",
   "metadata": {},
   "source": [
    "Percentage in ireland with obesity\n",
    "\n",
    "https://www.safefood.eu/SafeFood/media/SafeFoodLibrary/Documents/Professional/Nutrition/Adult-and-children-obesity-trends-ROI.pdf\n",
    "\n"
   ]
  },
  {
   "cell_type": "markdown",
   "metadata": {},
   "source": [
    "## Simulating the Dataset"
   ]
  },
  {
   "cell_type": "markdown",
   "metadata": {},
   "source": [
    "## Conclusion"
   ]
  }
 ],
 "metadata": {
  "kernelspec": {
   "display_name": "Python 3",
   "language": "python",
   "name": "python3"
  },
  "language_info": {
   "codemirror_mode": {
    "name": "ipython",
    "version": 3
   },
   "file_extension": ".py",
   "mimetype": "text/x-python",
   "name": "python",
   "nbconvert_exporter": "python",
   "pygments_lexer": "ipython3",
   "version": "3.6.7"
  }
 },
 "nbformat": 4,
 "nbformat_minor": 2
}
