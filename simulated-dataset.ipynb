{
 "cells": [
  {
   "cell_type": "markdown",
   "metadata": {},
   "source": [
    "# A Simulated Dataset of a Real-World Phenomenom"
   ]
  },
  {
   "cell_type": "markdown",
   "metadata": {},
   "source": [
    "## Introduction\n",
    "\n",
    "The real-world phenomenom that I will be looking at is the relationship between obesity and increased mortaility. Obesity grades 2 and 3 (BMI >/= 35) is associated with an aproximate 30% increase in all-cause mortality https://www.ncbi.nlm.nih.gov/pmc/articles/PMC4855514/. \n",
    "\n",
    "This dataset can be used to predict the number of people in a population that will suffer from obesity and therefore an increase in all-cause mortality.\n",
    "\n"
   ]
  },
  {
   "cell_type": "markdown",
   "metadata": {},
   "source": [
    "## Investigation\n",
    "Variables to look at:\n",
    "Sex (What is the proportion of males to females?)\n",
    "Weight (Average weight by sex and the standard deviation)\n",
    "Height (Average height and standard deviation)\n",
    "BMI \n",
    "BMI Category \n",
    "Risk of all-cause mortality\n",
    "\n",
    "For sex, there are different average weights and heights for males and females."
   ]
  },
  {
   "cell_type": "markdown",
   "metadata": {},
   "source": [
    "We'll start by importing some libraries"
   ]
  },
  {
   "cell_type": "code",
   "execution_count": 1,
   "metadata": {},
   "outputs": [],
   "source": [
    "import numpy as np\n",
    "import pandas as pd\n",
    "import matplotlib.pyplot as plt"
   ]
  },
  {
   "cell_type": "markdown",
   "metadata": {},
   "source": [
    "### Age"
   ]
  },
  {
   "cell_type": "code",
   "execution_count": 2,
   "metadata": {},
   "outputs": [
    {
     "data": {
      "text/plain": [
       "3102575"
      ]
     },
     "execution_count": 2,
     "metadata": {},
     "output_type": "execute_result"
    }
   ],
   "source": [
    "adults15to24 = 301114 + 292055\n",
    "adults25to54 = 1087587 + 1077383 \n",
    "adults55to64 = 261650 + 260737\n",
    "\n",
    "adults18to24 = int(adults15to24 * 0.7)\n",
    "\n",
    "totalAdults18to64 = adults18to24 + adults25to54 + adults55to64 \n",
    "\n",
    "totalAdults18to64"
   ]
  },
  {
   "cell_type": "code",
   "execution_count": 3,
   "metadata": {},
   "outputs": [
    {
     "name": "stdout",
     "output_type": "stream",
     "text": [
      "Proportion of adults aged 15 to 24: 0.13383012497683375\n",
      "Proportion of adults aged 25 to 54: 0.6977977969912089\n",
      "Proportion of adults aged 55 to 64: 0.16837207803195733\n"
     ]
    }
   ],
   "source": [
    "proportion18to24 = adults18to24/totalAdults18to64\n",
    "proportion25to54 = adults25to54/totalAdults18to64\n",
    "proportion55to64 = adults55to64/totalAdults18to64\n",
    "\n",
    "print(f\"Proportion of adults aged 15 to 24: {proportion18to24}\")\n",
    "print(f\"Proportion of adults aged 25 to 54: {proportion25to54}\")\n",
    "print(f\"Proportion of adults aged 55 to 64: {proportion55to64}\")"
   ]
  },
  {
   "cell_type": "markdown",
   "metadata": {},
   "source": [
    "### Sex ratio\n",
    "\n",
    "The ratio of males to females in Ireland are:\n",
    "Aged 15 to 24: 301,114 males and 292,055 females (1.03 m/f)\n",
    "Aged 25 to 54: 1,087,587 males and 1,077,383 females (1.01 m/f)\n",
    "Aged 55 to 64: 261,650 males and 260,737 females (1 m/f)\n",
    "\n",
    "(Reference - https://www.indexmundi.com/ireland/demographics_profile.html)"
   ]
  },
  {
   "cell_type": "code",
   "execution_count": 4,
   "metadata": {},
   "outputs": [
    {
     "name": "stdout",
     "output_type": "stream",
     "text": [
      "The number of males aged 15 to 64 in Ireland is 1650351\n",
      "The number of females aged 15 to 64 in Ireland is 1630175\n",
      "The total number of males and females aged 15 to 64 in Ireland is 3280526\n"
     ]
    }
   ],
   "source": [
    "# Number of males and females in Ireland aged 15 to 64 years old\n",
    "males = 301114 + 1087587 + 261650\n",
    "females = 292055 + 1077383 + 260737\n",
    "\n",
    "# Total number of adults in Ireland aged 15 to 64 years old\n",
    "total = males + females\n",
    "\n",
    "print(f\"The number of males aged 15 to 64 in Ireland is {males}\")\n",
    "print(f\"The number of females aged 15 to 64 in Ireland is {females}\")\n",
    "print(f\"The total number of males and females aged 15 to 64 in Ireland is {total}\")\n",
    "      "
   ]
  },
  {
   "cell_type": "code",
   "execution_count": 5,
   "metadata": {},
   "outputs": [
    {
     "name": "stdout",
     "output_type": "stream",
     "text": [
      "0.5030751166123969\n",
      "0.4969248833876031\n"
     ]
    }
   ],
   "source": [
    "# Ratio of males to females in Ireland aged 15 to 64\n",
    "\n",
    "ratioOfMales = males/ total\n",
    "ratioOfFemales = females/ total\n",
    "\n",
    "print(ratioOfMales)\n",
    "print(ratioOfFemales)"
   ]
  },
  {
   "cell_type": "markdown",
   "metadata": {},
   "source": [
    "The figures below for weight and height are for 18 to 64 year olds. Here an assumption will be made that the ratio for males to females in Ireland aged 18 to 64 year olds will be the same as 15 to 64 year olds. However, as can be seen from the ratios above, the number of males to females decreases as age increases (1.03 for 15 to 24 year olds, 1.01 for 25 to 54 and 1.00 55 to 64 years).\n",
    "\n",
    "We can now create a random sample of 1000 people which will have the same ratio of males to females as was found above"
   ]
  },
  {
   "cell_type": "code",
   "execution_count": 6,
   "metadata": {},
   "outputs": [
    {
     "data": {
      "text/plain": [
       "(array(['female', 'male'],\n",
       "       dtype='<U6'), array([479, 521], dtype=int64))"
      ]
     },
     "execution_count": 6,
     "metadata": {},
     "output_type": "execute_result"
    }
   ],
   "source": [
    "# Creating a 1D array with male and female as the elements\n",
    "\n",
    "sex =[\"male\", \"female\"]\n",
    "\n",
    "sampleSize = 1000\n",
    "\n",
    "sexArray = np.random.choice(sex, sampleSize, p=[ratioOfMales, ratioOfFemales])\n",
    "\n",
    "np.unique(sexArray, return_counts=True)"
   ]
  },
  {
   "cell_type": "markdown",
   "metadata": {},
   "source": [
    "### Weight\n",
    "\n",
    "Mean adult (18 to 64 years old) male body weight is 86.2 kg with a standard deviation of 15.0 kg. (Reference - https://irp-cdn.multiscreensite.com/46a7ad27/files/uploaded/The%20National%20Adult%20Nutrition%20Survey%20%282008-2010%29.pdf)\n",
    "\n",
    "Mean adult (18 to 64 years old) female bodyweight is 70.0 kg with a standard deviation of 13.7 kg. (Reference - https://irp-cdn.multiscreensite.com/46a7ad27/files/uploaded/The%20National%20Adult%20Nutrition%20Survey%20%282008-2010%29.pdf)"
   ]
  },
  {
   "cell_type": "code",
   "execution_count": 7,
   "metadata": {},
   "outputs": [],
   "source": [
    "# Assigning variables for weight\n",
    "\n",
    "meanMaleWeight, maleWeightSD = 86.2, 15.0\n",
    "meanFemaleWeight, femaleWeightSD = 70.0, 13.7"
   ]
  },
  {
   "cell_type": "markdown",
   "metadata": {},
   "source": [
    "The median values for males and females are 85.1 kg and 67.5 kg respectively. The distributions for weight for males and females are therefore are both positively skewed. We can also see this by examining the 5th and 95th percentiles. For males these are 64.0 kg and 112.6 kg, respectively(Reference - https://irp-cdn.multiscreensite.com/46a7ad27/files/uploaded/The%20National%20Adult%20Nutrition%20Survey%20%282008-2010%29.pdf). For females, these are 52.2 kg and 96.3 kg respectively(Reference - https://irp-cdn.multiscreensite.com/46a7ad27/files/uploaded/The%20National%20Adult%20Nutrition%20Survey%20%282008-2010%29.pdf). \n",
    "\n",
    "The differences between these and their respective medians can be calculated as follows:"
   ]
  },
  {
   "cell_type": "code",
   "execution_count": 8,
   "metadata": {},
   "outputs": [
    {
     "name": "stdout",
     "output_type": "stream",
     "text": [
      "The difference between the median body weight for males and the 5th and 95th percentiles are:\n",
      "5th percentile: 21.099999999999994\n",
      "95th percentile: 27.5\n",
      "The difference between the median body weight for females and the 5th and 95th percentiles are:\n",
      "5th percentile: 15.299999999999997\n",
      "95th percentile: 28.799999999999997\n"
     ]
    }
   ],
   "source": [
    "# Assigning median, 5th perentile and 95th percentiles\n",
    "\n",
    "maleMedian, male5th, male95th = 85.1, 64.0, 112.6\n",
    "femaleMedian, female5th, female95th = 67.5, 52.2, 96.3\n",
    "\n",
    "# Calculating difference between medians and 5th and 95th percentiles\n",
    "male5thdiff = maleMedian - male5th\n",
    "male95thdiff = male95th - maleMedian\n",
    "\n",
    "female5thdiff = femaleMedian - female5th\n",
    "female95thdiff = female95th - femaleMedian\n",
    "\n",
    "print(f\"The difference between the median body weight for males and the 5th and 95th percentiles are:\")\n",
    "print(f\"5th percentile: {male5thdiff}\")\n",
    "print(f\"95th percentile: {male95thdiff}\")\n",
    "\n",
    "print(f\"The difference between the median body weight for females and the 5th and 95th percentiles are:\")\n",
    "print(f\"5th percentile: {female5thdiff}\")\n",
    "print(f\"95th percentile: {female95thdiff}\")"
   ]
  },
  {
   "cell_type": "markdown",
   "metadata": {},
   "source": [
    "This also shows that body weight is not normally distributed but is instead positively skewed.\n",
    "\n",
    "A study of German, Norwegian and Austrian conscripts also found that body weight is not normally distributed. \n",
    "\n",
    "(Reference - https://www.ncbi.nlm.nih.gov/pubmed/11673780)\n",
    "\n",
    "There may be a diproportionately larger number of obese people than underweight (therefore leading to the positive skewness) due to the fact that the more a person weighs the easier it then is for them to gain even more weight. (Reference - https://www.researchgate.net/publication/7006581_The_Changing_Shape_of_the_Body_Mass_Index_Distribution_Curve_in_the_Population_Implications_for_Public_Health_Policy_to_Reduce_the_Prevalence_of_Adult_Obesity)\n",
    "\n",
    "Firstly we will create a normal distribution for male and female weights"
   ]
  },
  {
   "cell_type": "code",
   "execution_count": 9,
   "metadata": {},
   "outputs": [
    {
     "data": {
      "text/plain": [
       "(array([   5.,   17.,   95.,  239.,  286.,  210.,  107.,   35.,    4.,    2.]),\n",
       " array([  23.64810126,   33.94348615,   44.23887103,   54.53425592,\n",
       "          64.8296408 ,   75.12502568,   85.42041057,   95.71579545,\n",
       "         106.01118034,  116.30656522,  126.6019501 ]),\n",
       " <a list of 10 Patch objects>)"
      ]
     },
     "execution_count": 9,
     "metadata": {},
     "output_type": "execute_result"
    },
    {
     "data": {
      "image/png": "[encoded data removed]",
      "text/plain": [
       "<matplotlib.figure.Figure at 0x2a2281bd5c0>"
      ]
     },
     "metadata": {
      "needs_background": "light"
     },
     "output_type": "display_data"
    }
   ],
   "source": [
    "# Creating a random Normally distributed array for male and female weight\n",
    "maleWeightDist = np.random.normal(meanMaleWeight, maleWeightSD, 1000)\n",
    "femaleWeightDist = np.random.normal(meanFemaleWeight, femaleWeightSD, 1000)\n",
    "\n",
    "\n",
    "# Displaying the male and female weights on a histogram\n",
    "plt.subplot(121)\n",
    "plt.hist(maleWeightDist)\n",
    "\n",
    "plt.subplot(122)\n",
    "plt.hist(femaleWeightDist)"
   ]
  },
  {
   "cell_type": "markdown",
   "metadata": {},
   "source": [
    "From above in the https://irp-cdn.multiscreensite.com/46a7ad27/files/uploaded/The%20National%20Adult%20Nutrition%20Survey%20%282008-2010%29.pdf it was found that the male 5th and 95th percentiles were 64.0 and 112.6 respectively. We can view what these values are for the normally distributed male weight distribution:"
   ]
  },
  {
   "cell_type": "code",
   "execution_count": 10,
   "metadata": {},
   "outputs": [
    {
     "name": "stdout",
     "output_type": "stream",
     "text": [
      "The 5th percentile for normally distributed male weight is: 62.31955361894161 (difference from real value is: 1.6804463810583883)\n",
      "The 95th percentile for normally distributed male weight is: 110.49502436972794 (difference from real value is: 2.104975630272051)\n",
      "The 5th percentile for normally distributed female weight is: 48.59853686578553 (difference from real value is: 3.6014631342144696)\n",
      "The 95th percentile for normally distributed female weight is: 94.83674647986248 (difference from real value is: 1.4632535201375134)\n"
     ]
    }
   ],
   "source": [
    "# Assigning the 5th percentile for normally distributed male and female weight\n",
    "male5thNormal = np.percentile(maleWeightDist, 5)\n",
    "female5thNormal = np.percentile(femaleWeightDist, 5)\n",
    "\n",
    "# Assigning the 95th percentile for normally distributed male and female weight\n",
    "male95thNormal = np.percentile(maleWeightDist, 95)\n",
    "female95thNormal = np.percentile(femaleWeightDist, 95)\n",
    "\n",
    "# Printing the 5th and 95th percentiles for normally distributed male and female weight\n",
    "print(f\"The 5th percentile for normally distributed male weight is: {male5thNormal} (difference from real value is: {male5th-male5thNormal})\")\n",
    "print(f\"The 95th percentile for normally distributed male weight is: {male95thNormal} (difference from real value is: {male95th-male95thNormal})\")\n",
    "\n",
    "print(f\"The 5th percentile for normally distributed female weight is: {female5thNormal} (difference from real value is: {female5th-female5thNormal})\")\n",
    "print(f\"The 95th percentile for normally distributed female weight is: {female95thNormal} (difference from real value is: {female95th-female95thNormal})\")"
   ]
  },
  {
   "cell_type": "markdown",
   "metadata": {},
   "source": [
    "As would be expected, the results are lower than the positively skewed real values. Also the female values are more skewed than the male values."
   ]
  },
  {
   "cell_type": "markdown",
   "metadata": {},
   "source": [
    "We can create a positively skewed distribution using the following code:"
   ]
  },
  {
   "cell_type": "code",
   "execution_count": 11,
   "metadata": {},
   "outputs": [
    {
     "name": "stdout",
     "output_type": "stream",
     "text": [
      "The 5th percentile for the skewed normal distribution for males is: 63.359314269278165 (real is: 64.0)\n",
      "The 95th percentile for the skewed normal distribution for males is: 112.45967206002592 (real is: 112.6)\n",
      "The 5th percentile for the skewed normal distribution for females is: 51.15830300939926 (real is: 52.2)\n",
      "The 95th percentile for the skewed normal distribution for females is: 95.48685311320442 (real is: 96.3)\n"
     ]
    }
   ],
   "source": [
    "# Importing the skewnorm function from scipy.stats \n",
    "# From https://docs.scipy.org/doc/scipy/reference/generated/scipy.stats.skewnorm.html#scipy.stats.skewnorm \n",
    "from scipy.stats import skewnorm\n",
    "\n",
    "# Creating a skewed normal distribution for male weight with a skewness factor of 0.1\n",
    "maleWeightSkewedDist = skewnorm.rvs(0.1, loc=meanMaleWeight, scale=maleWeightSD, size=1000)\n",
    "\n",
    "# Creating a skewed normal distribution for female weight with a skewness factor of 0.4\n",
    "femaleWeightSkewedDist = skewnorm.rvs(0.4, loc=meanFemaleWeight, scale=femaleWeightSD, size=1000)\n",
    "\n",
    "# Assigning the 5th percentile for the skewed normal weight distribution for males and females\n",
    "male5thSkewed = np.percentile(maleWeightSkewedDist, 5)\n",
    "female5thSkewed = np.percentile(femaleWeightSkewedDist, 5)\n",
    "\n",
    "# Assigning the 95th percentile for the skewed normal weight distribution for male and females\n",
    "male95thSkewed = np.percentile(maleWeightSkewedDist, 95)\n",
    "female95thSkewed = np.percentile(femaleWeightSkewedDist, 95)\n",
    "\n",
    "\n",
    "print(f\"The 5th percentile for the skewed normal distribution for males is: {male5thSkewed} (real is: {male5th})\")\n",
    "print(f\"The 95th percentile for the skewed normal distribution for males is: {male95thSkewed} (real is: {male95th})\")\n",
    "\n",
    "print(f\"The 5th percentile for the skewed normal distribution for females is: {female5thSkewed} (real is: {female5th})\")\n",
    "print(f\"The 95th percentile for the skewed normal distribution for females is: {female95thSkewed} (real is: {female95th})\")"
   ]
  },
  {
   "cell_type": "code",
   "execution_count": 12,
   "metadata": {},
   "outputs": [
    {
     "data": {
      "text/plain": [
       "(array([  14.,   41.,  101.,  203.,  292.,  212.,   89.,   43.,    4.,    1.]),\n",
       " array([  33.74949331,   42.64646073,   51.54342815,   60.44039557,\n",
       "          69.33736299,   78.23433041,   87.13129783,   96.02826525,\n",
       "         104.92523267,  113.82220009,  122.71916751]),\n",
       " <a list of 10 Patch objects>)"
      ]
     },
     "execution_count": 12,
     "metadata": {},
     "output_type": "execute_result"
    },
    {
     "data": {
      "image/png": "[encoded data removed]",
      "text/plain": [
       "<matplotlib.figure.Figure at 0x2a228421f60>"
      ]
     },
     "metadata": {
      "needs_background": "light"
     },
     "output_type": "display_data"
    }
   ],
   "source": [
    "# Plotting the skewed normal male and female weight distributions\n",
    "\n",
    "plt.subplot(121)\n",
    "plt.hist(maleWeightSkewedDist)\n",
    "\n",
    "plt.subplot(122)\n",
    "plt.hist(femaleWeightSkewedDist)"
   ]
  },
  {
   "cell_type": "markdown",
   "metadata": {},
   "source": [
    "### Height\n",
    "\n",
    "Human height is normally distributed (Ref - https://www.johndcook.com/blog/2008/07/20/why-heights-are-normally-distributed/). The reason for this is that there are many genetic and envirnomental factors that are involved in height which leads to the large variation (Ref https://www.johndcook.com/blog/2008/07/20/why-heights-are-normally-distributed/).\n",
    "\n",
    "Mean adult (18 to 64 years old) male height is 1.77 m with a standard deviation of 0.07 m. (Ref - https://irp-cdn.multiscreensite.com/46a7ad27/files/uploaded/The%20National%20Adult%20Nutrition%20Survey%20%282008-2010%29.pdf)\n",
    "Mean adult (18 to 64 years old) female height is 1.63 m with a standard deviation of 0.06 m. (Ref - https://irp-cdn.multiscreensite.com/46a7ad27/files/uploaded/The%20National%20Adult%20Nutrition%20Survey%20%282008-2010%29.pdf)"
   ]
  },
  {
   "cell_type": "code",
   "execution_count": 13,
   "metadata": {},
   "outputs": [],
   "source": [
    "# Setting height variables\n",
    "maleHeight, femaleHeight = 1.77, 1.63\n",
    "maleHeightSD, femaleHeightSD = 0.07, 0.06"
   ]
  },
  {
   "cell_type": "code",
   "execution_count": 14,
   "metadata": {},
   "outputs": [
    {
     "data": {
      "text/plain": [
       "(array([   7.,   35.,  123.,  264.,  297.,  189.,   69.,   12.,    3.,    1.]),\n",
       " array([ 1.4308661 ,  1.47795673,  1.52504735,  1.57213797,  1.6192286 ,\n",
       "         1.66631922,  1.71340984,  1.76050046,  1.80759109,  1.85468171,\n",
       "         1.90177233]),\n",
       " <a list of 10 Patch objects>)"
      ]
     },
     "execution_count": 14,
     "metadata": {},
     "output_type": "execute_result"
    },
    {
     "data": {
      "image/png": "[encoded data removed]",
      "text/plain": [
       "<matplotlib.figure.Figure at 0x2a2281ef4e0>"
      ]
     },
     "metadata": {
      "needs_background": "light"
     },
     "output_type": "display_data"
    }
   ],
   "source": [
    "# Creating height distributions\n",
    "maleHeightDist = np.random.normal(maleHeight, maleHeightSD, 1000)\n",
    "femaleHeightDist = np.random.normal(femaleHeight, femaleHeightSD, 1000)\n",
    "\n",
    "# Plotting distributions on a histogram\n",
    "plt.subplot(121)\n",
    "plt.hist(maleHeightDist)\n",
    "\n",
    "plt.subplot(122)\n",
    "plt.hist(femaleHeightDist)"
   ]
  },
  {
   "cell_type": "markdown",
   "metadata": {},
   "source": [
    "### BMI\n",
    "\n",
    "BMI is calculated using the following formula weight(kg)/height(m)^2 (Ref - https://journals.lww.com/nutritiontodayonline/Fulltext/2015/05000/Body_Mass_Index__Obesity,_BMI,_and_Health_A.5.aspx) (Expand on this - Why is height squared ??????)\n",
    "\n"
   ]
  },
  {
   "cell_type": "code",
   "execution_count": 15,
   "metadata": {},
   "outputs": [
    {
     "data": {
      "text/plain": [
       "array([ 33.51965205,  25.10507151,  24.97012641,  30.52652728,\n",
       "        25.35613632,  30.14975649,  31.69149594,  33.97714526,\n",
       "        22.40234006,  19.40639904,  21.52631224,  30.95982702,\n",
       "        26.30047494,  22.05214393,  17.60081305,  19.64790703,\n",
       "        28.26147496,  26.56441905,  26.94715771,  18.45352793,\n",
       "        39.58034949,  25.32547296,  26.78470774,  21.58891349,\n",
       "        24.52745724,  26.05548164,  25.25895356,  28.05554471,\n",
       "        31.85151526,  23.74346299,  17.34002851,  21.68576044,\n",
       "        31.00184775,  26.70811225,  19.02635753,  27.63544892,\n",
       "        31.31152619,  27.7883745 ,  28.49729785,  34.6026772 ,\n",
       "        28.94080263,  29.86911616,  29.51626628,  22.23539975,\n",
       "        27.24204694,  35.87650907,  30.15870797,  20.0998051 ,\n",
       "        35.58744374,  32.33790946,  18.62047251,  37.21534914,\n",
       "        38.30754775,  19.20912485,  28.44277164,  28.2389963 ,\n",
       "        27.01064024,  20.69523043,  24.86166949,  23.4192773 ,\n",
       "        28.57539838,  22.34792765,  32.04182163,  22.12959253,\n",
       "        34.50496801,  24.4096185 ,  26.55143265,  27.85168823,\n",
       "        36.58704082,  31.2709889 ,  33.48051706,  25.24300843,\n",
       "        24.81460656,  26.2967151 ,  36.29547966,  28.64309724,\n",
       "        23.49681889,  23.51754992,  32.52305119,  35.36748085,\n",
       "        26.07452521,  27.0709183 ,  27.50222216,  30.55829773,\n",
       "        28.33324401,  23.83963336,  28.74230067,  37.07993059,\n",
       "        19.60839671,  41.27801884,  32.4827085 ,  23.11615194,\n",
       "        30.37381433,  32.85709505,  15.18568361,  38.0981332 ,\n",
       "        25.86316713,  27.00139608,  27.21347487,  26.71484917,\n",
       "        35.72356619,  25.2988091 ,  17.22969377,  31.65424353,\n",
       "        33.5628355 ,  43.03718944,  25.61533538,  21.79812546,\n",
       "        28.89234671,  22.41018486,  38.89289136,  31.31588821,\n",
       "        26.3027516 ,  36.87404592,  25.23671791,  26.92804015,\n",
       "        37.75970941,  34.48608349,  26.23307254,  22.20365602,\n",
       "        35.70983408,  36.69630802,  22.64756095,  20.15027962,\n",
       "        36.93851577,  32.10822634,  32.38714328,  31.25862569,\n",
       "        21.45192837,  30.92305315,  21.10953838,  22.66016959,\n",
       "        37.67743951,  29.17702005,  25.54273017,  25.32513854,\n",
       "        28.73984442,  28.82001191,  26.39701347,  26.76046669,\n",
       "        29.15679996,  26.51742573,  39.17470592,  27.5621657 ,\n",
       "        24.64830434,  17.0232222 ,  14.66371907,  30.63632093,\n",
       "        28.10469284,  32.43845592,  25.54282967,  26.02853637,\n",
       "        28.57142336,  23.78406676,  30.66775662,  31.55060953,\n",
       "        24.27092555,  26.99718769,  21.2416066 ,  29.01324961,\n",
       "        30.55782931,  21.7431542 ,  29.67054501,  35.87506885,\n",
       "        35.51237527,  30.20979132,  24.07385402,  24.21463082,\n",
       "        28.78273438,  29.9621606 ,  37.08346677,  34.25024771,\n",
       "        29.67896474,  29.08873309,  31.84633524,  26.14363991,\n",
       "        21.4107656 ,  19.61176604,  25.03370015,  21.90748546,\n",
       "        36.49829004,  27.07313556,  27.04074351,  36.77793506,\n",
       "        27.81880321,  36.48426686,  33.74289669,  23.42779037,\n",
       "        17.51305826,  38.68629851,  23.43544221,  23.78467441,\n",
       "        27.72759963,  32.65224286,  27.55439154,  25.05209857,\n",
       "        27.17173511,  32.83898149,  32.04396161,  28.59748091,\n",
       "        22.76255961,  26.31572566,  29.02655773,  31.74870419,\n",
       "        28.11915815,  20.89350409,  22.00034393,  26.46668171,\n",
       "        32.13593258,  26.48539938,  28.10123046,  22.80825282,\n",
       "        29.98488833,  24.2078778 ,  29.35808014,  23.77546775,\n",
       "        24.96163985,  25.76417326,  33.45410492,  27.19971281,\n",
       "        38.79189031,  27.73523587,  33.83759607,  18.09714926,\n",
       "        38.14134763,  15.25413123,  29.65600689,  31.3742918 ,\n",
       "        30.42798408,  19.41041264,  31.21096065,  36.85226396,\n",
       "        29.0366198 ,  22.78380505,  26.60363863,  36.46892089,\n",
       "        28.83177758,  30.6823962 ,  32.67868944,  35.74762341,\n",
       "        25.25462332,  24.78404629,  27.74459034,  26.90899879,\n",
       "        30.21531503,  24.15608646,  29.36121421,  24.56647495,\n",
       "        31.57392952,  33.98113726,  36.09613541,  25.49419381,\n",
       "        30.30946496,  25.54989143,  18.96655155,  29.58223196,\n",
       "        23.67386523,  30.13520567,  29.7130373 ,  17.22427078,\n",
       "        40.88321899,  31.74146285,  28.23171681,  30.50299262,\n",
       "        31.60420072,  27.6729533 ,  30.1891653 ,  21.94146098,\n",
       "        22.19935649,  20.92980096,  17.69021317,  27.29694833,\n",
       "        23.03911698,  20.41729422,  35.228945  ,  27.08448796,\n",
       "        38.88342839,  22.79153778,  27.18050274,  21.70862239,\n",
       "        24.2100231 ,  34.80498052,  30.71828239,  25.59096331,\n",
       "        38.125396  ,  33.11061778,  28.80508751,  34.23823865,\n",
       "        34.14243061,  27.37408881,  27.92817416,  33.2130655 ,\n",
       "        31.15868118,  24.8028528 ,  34.10010636,  26.79492064,\n",
       "        20.75734373,  18.10194835,  31.97786677,  34.18454279,\n",
       "        19.76856987,  29.92413448,  27.75993945,  30.17362291,\n",
       "        33.13041246,  34.45344969,  34.7645494 ,  21.50136243,\n",
       "        25.17712751,  23.68449118,  22.78950257,  23.44958749,\n",
       "        28.13959468,  32.62448863,  22.29458649,  34.02802723,\n",
       "        36.7569485 ,  22.82029006,  25.18797843,  21.80684304,\n",
       "        23.62371249,  36.16009067,  28.37572413,  26.9499375 ,\n",
       "        33.35205945,  26.37714074,  33.40585506,  33.61783358,\n",
       "        21.0172608 ,  30.87674265,  27.27475668,  29.2848039 ,\n",
       "        26.37924488,  27.33854849,  29.53733012,  19.54684969,\n",
       "        26.8584899 ,  28.14715196,  25.69462402,  19.73246648,\n",
       "        23.23506911,  28.37297461,  27.61483312,  27.96085608,\n",
       "        27.55533526,  36.92652833,  37.6525558 ,  37.19075117,\n",
       "        29.02415655,  22.52402217,  33.2061277 ,  29.57800772,\n",
       "        19.62111109,  24.06631051,  27.64124535,  39.95589174,\n",
       "        24.58291303,  24.69614621,  32.08886414,  36.46306305,\n",
       "        19.6708739 ,  25.43840612,  23.08966919,  25.78303006,\n",
       "        43.51618634,  28.56804253,  33.9127051 ,  20.00986423,\n",
       "        29.56192888,  23.99461439,  22.4196508 ,  26.61793748,\n",
       "        34.29901801,  30.77652291,  23.93308406,  26.26405938,\n",
       "        25.0290381 ,  31.48187745,  24.88279605,  31.23762851,\n",
       "        35.53877029,  30.53626025,  34.85486532,  21.47193371,\n",
       "        29.23578335,  27.90100049,  34.35587032,  32.523181  ,\n",
       "        23.95184027,  17.78097125,  33.54796084,  28.64002436,\n",
       "        23.68065493,  32.63890779,  22.61007405,  22.98275544,\n",
       "        32.6780455 ,  29.35627385,  24.5558227 ,  28.87407283,\n",
       "        36.52597204,  30.52871636,  26.2240539 ,  46.64706726,\n",
       "        19.60515834,  35.56817553,  28.32803616,  28.5354134 ,\n",
       "        28.36851325,  28.2835631 ,  22.36902095,  20.58015238,\n",
       "        24.27575525,  28.47155632,  27.71635066,  27.95176708,\n",
       "        19.80908136,  32.03595321,  26.11511853,  22.81151474,\n",
       "        23.61980519,  27.01237028,  27.70615368,  34.59402766,\n",
       "        38.12875431,  37.18353484,  29.41918229,  22.77685029,\n",
       "        25.4076538 ,  24.55651096,  30.19921531,  28.3175839 ,\n",
       "        20.33739197,  24.02850086,  26.80795351,  34.51225063,\n",
       "        27.67995487,  27.25739419,  23.03840978,  25.34658655,\n",
       "        19.88415061,  34.69936313,  36.95696975,  37.89261979,\n",
       "        21.04573451,  37.23911713,  30.09874425,  24.58379699,\n",
       "        25.59882624,  30.00673668,  28.84105483,  31.22918275,\n",
       "        24.34250621,  23.71638802,  28.60036019,  18.97556432,\n",
       "        22.87844911,  29.35947469,  37.85149147,  22.00204433,\n",
       "        36.80590046,  23.73583   ,  32.2028984 ,  34.73314731,\n",
       "        27.30576994,  27.87236013,  22.18288715,  33.1027916 ,\n",
       "        19.07462805,  27.59585499,  31.68111241,  27.24307605,\n",
       "        28.74574328,  26.99972206,  26.20621903,  35.00965084,\n",
       "        28.55354291,  33.02534015,  26.4556651 ,  26.268258  ,\n",
       "        18.9753462 ,  22.39337867,  22.09966463,  23.53190429,\n",
       "        23.04626502,  24.73268217,  24.60166005,  26.84187569,\n",
       "        27.6006541 ,  21.34586534,  27.82495934,  27.40920372,\n",
       "        27.04605863,  28.98335118,  19.03554001,  30.75546323,\n",
       "        22.44919377,  25.87900047,  28.35374698,  30.92909082,\n",
       "        29.34986803,  31.80665791,  28.43925592,  29.64989441,\n",
       "        22.95362984,  21.6310953 ,  30.9779097 ,  29.60931653,\n",
       "        20.07656013,  34.64531866,  30.76462588,  31.97448994,\n",
       "        31.92550455,  27.24743812,  28.2874823 ,  19.36634002,\n",
       "        40.0655593 ,  36.38196995,  22.00976005,  30.65100307,\n",
       "        30.75080876,  35.07488142,  27.14582222,  24.73440165,\n",
       "        32.78853195,  18.73917613,  36.54943797,  31.61016579,\n",
       "        27.62435686,  27.54076512,  32.04795165,  32.70534704,\n",
       "        28.06526431,  24.04294864,  17.31128274,  33.05813019,\n",
       "        35.88864251,  33.0619575 ,  27.13520228,  24.44574685,\n",
       "        27.18064917,  32.03693628,  27.32434365,  32.26578257,\n",
       "        32.00937889,  34.13646485,  19.1194463 ,  28.73137446,\n",
       "        31.20163904,  20.78415965,  25.16745516,  26.71854974,\n",
       "        25.08461267,  31.90144025,  25.78416996,  27.28902211,\n",
       "        27.04892934,  23.84342861,  22.95981116,  28.95494552,\n",
       "        23.24636979,  19.07776825,  36.598888  ,  31.30083933,\n",
       "        28.20096451,  19.19483052,  34.6638785 ,  33.00942886,\n",
       "        34.92707045,  24.75586815,  43.07954151,  33.36808887,\n",
       "        28.59318548,  32.70118251,  26.84243833,  37.07025508,\n",
       "        35.60460332,  23.18689124,  23.95486138,  29.65774027,\n",
       "        37.79745481,  19.8802027 ,  22.93700362,  29.42600272,\n",
       "        31.06919315,  26.86948361,  36.35565318,  26.53771784,\n",
       "        37.81576504,  33.52122755,  29.05100561,  27.96115331,\n",
       "        26.55265861,  29.32576909,  33.65067752,  29.51787658,\n",
       "        26.77739068,  19.48420486,  34.9428984 ,  31.80238959,\n",
       "        25.98586038,  26.31037887,  36.86853964,  35.2017472 ,\n",
       "        21.27545219,  33.47244404,  21.95052759,  24.36675628,\n",
       "        25.59142717,  30.69927081,  20.18293416,  42.46025674,\n",
       "        30.28481126,  18.91010798,  22.307601  ,  21.15281143,\n",
       "        20.52480178,  24.53307292,  23.09363305,  34.09379798,\n",
       "        25.85778679,  23.94484249,  24.31786322,  29.92908061,\n",
       "        26.61128116,  30.64284903,  32.01670913,  28.56680296,\n",
       "        39.85174274,  37.97887575,  35.67718274,  24.96512701,\n",
       "        20.55826817,  19.84913414,  24.14110594,  28.77193179,\n",
       "        21.90585372,  31.64061211,  22.50398035,  29.50592797,\n",
       "        29.80531514,  21.62480806,  20.28932556,  27.38621534,\n",
       "        23.41669196,  31.81303733,  24.885655  ,  26.58770388,\n",
       "        26.2712958 ,  36.50673114,  27.23230246,  31.04420154,\n",
       "        28.41632125,  34.34363299,  22.03171073,  28.43937136,\n",
       "        26.15046356,  25.73971337,  22.98044017,  29.88579579,\n",
       "        25.07893536,  36.84252615,  30.74709555,  29.65674409,\n",
       "        29.59736886,  19.29295118,  32.09192417,  21.99833679,\n",
       "        31.9919504 ,  32.74370208,  23.49075642,  18.68689446,\n",
       "        30.41557414,  32.9224095 ,  20.93153131,  23.73283039,\n",
       "        37.19333358,  28.79412648,  24.91827195,  33.11253697,\n",
       "        26.60509428,  25.27800688,  30.93409219,  20.78173975,\n",
       "        30.50203446,  25.13424682,  33.13421053,  25.28909583,\n",
       "        36.24636123,  33.25264784,  20.54791727,  34.45106534,\n",
       "        33.62860687,  25.49801462,  37.54595053,  27.55626365,\n",
       "        26.23391224,  34.62251083,  26.91002093,  31.82669936,\n",
       "        25.85775848,  28.79891961,  23.9026479 ,  37.46857823,\n",
       "        31.31872578,  21.24010147,  21.30800166,  29.00387137,\n",
       "        21.88275252,  21.93659016,  29.18160803,  23.07356275,\n",
       "        29.90474105,  21.41979861,  30.47407358,  20.85211503,\n",
       "        37.46826092,  46.1927809 ,  25.71127092,  37.1624678 ,\n",
       "        35.23176044,  28.63808833,  27.31658431,  21.42215111,\n",
       "        28.75796673,  29.853003  ,  29.15051087,  33.41268919,\n",
       "        21.11445483,  29.64886874,  22.98906172,  27.64591094,\n",
       "        18.98965573,  22.02684286,  33.82900121,  23.9876664 ,\n",
       "        26.77839585,  24.12939953,  29.73787897,  35.94611113,\n",
       "        20.66182266,  29.20635117,  26.9602703 ,  20.38162858,\n",
       "        30.36398561,  28.77546848,  25.83923525,  25.60221004,\n",
       "        22.23818098,  31.61226283,  32.58923433,  31.26319129,\n",
       "        30.21517376,  33.16227303,  25.5031569 ,  30.85693779,\n",
       "        30.2311149 ,  23.80275135,  32.41468176,  33.59819502,\n",
       "        24.60800142,  24.49779267,  19.43997739,  27.1353733 ,\n",
       "        36.17042091,  27.91201504,  23.40479769,  30.09025447,\n",
       "        27.62384885,  17.41872389,  26.91982241,  21.85900748,\n",
       "        26.63022374,  33.84508931,  32.18228073,  31.94712534,\n",
       "        25.63409319,  27.42295263,  23.81375587,  26.78735297,\n",
       "        29.2018146 ,  33.91657971,  28.76363401,  28.29774271,\n",
       "        22.67204131,  30.04072577,  21.67595938,  25.73173165,\n",
       "        25.15303378,  28.23123789,  32.74976556,  28.94923959,\n",
       "        17.17030419,  20.43583294,  35.95168376,  21.42784706,\n",
       "        30.10807646,  29.07902833,  28.7665296 ,  25.74563375,\n",
       "        27.28128541,  34.98839674,  30.70453462,  20.6773872 ,\n",
       "        20.78666394,  20.94509976,  22.48381893,  22.01382049,\n",
       "        26.02931396,  28.95409077,  27.1806615 ,  21.99576004,\n",
       "        27.2492555 ,  21.58406359,  23.51564273,  30.11965053,\n",
       "        27.66623493,  28.30484193,  21.95904987,  27.13495865,\n",
       "        26.09781324,  28.00672085,  27.80758438,  27.42794415,\n",
       "        28.2151908 ,  32.83624905,  23.63787171,  31.48596337,\n",
       "        24.03591109,  28.12758928,  21.26052687,  23.59329801,\n",
       "        20.32033319,  24.06903155,  21.45447605,  22.80575636,\n",
       "        29.81859433,  29.34554374,  25.3603681 ,  22.11528364,\n",
       "        25.0602601 ,  36.02621968,  28.13592019,  31.03233241,\n",
       "        32.40719163,  30.44903121,  23.85903061,  23.47477182,\n",
       "        33.82558048,  22.70843996,  22.87326042,  34.90363717,\n",
       "        28.19925771,  34.81253077,  31.7627542 ,  22.34173048,\n",
       "        34.35458787,  21.68692079,  22.23772748,  40.20955123,\n",
       "        22.07840751,  17.11082672,  33.21835302,  26.33423027,\n",
       "        19.90926947,  25.99519636,  28.8437433 ,  40.73495255,\n",
       "        22.69755932,  35.57451057,  24.42924083,  28.54073697,\n",
       "        18.03709413,  23.6504388 ,  27.15979974,  24.75899674,\n",
       "        21.66043474,  14.53973178,  31.4210684 ,  25.17845751,\n",
       "        29.67242483,  27.18132775,  29.39838035,  38.10017074,\n",
       "        32.66756636,  25.64633825,  35.95348337,  19.89339843,\n",
       "        24.78804268,  28.28882497,  27.90953372,  32.78532543,\n",
       "        29.37344981,  22.54542849,  35.24929213,  36.29096904,\n",
       "        32.55626744,  32.78461084,  33.61703921,  26.18888214,\n",
       "        31.55563922,  32.71766847,  28.45896082,  32.9456946 ,\n",
       "        27.02760607,  17.24267222,  28.00049015,  37.37087151,\n",
       "        28.83624778,  38.03023699,  35.08498696,  25.75075874,\n",
       "        21.07464754,  33.65480073,  36.74602256,  35.53653775,\n",
       "        32.7164039 ,  34.90034706,  25.08350979,  35.08708399,\n",
       "        32.24374964,  23.60694207,  28.27003762,  38.75793065,\n",
       "        29.8927001 ,  40.18861654,  26.51242854,  25.12954238,\n",
       "        26.50339338,  33.62676175,  28.70397727,  24.58417132,\n",
       "        29.81499817,  31.14112277,  35.30922402,  20.98815018,\n",
       "        25.96423299,  33.6987622 ,  27.66017204,  31.81297462,\n",
       "        30.35530249,  30.37271786,  35.92104671,  25.3145717 ,\n",
       "        28.61514198,  34.78748265,  33.45608271,  23.920353  ,\n",
       "        29.09595203,  21.77927953,  25.54602214,  27.20794131,\n",
       "        27.09681097,  31.12846231,  31.71135754,  21.13315949,\n",
       "        23.51680741,  31.89245271,  18.03618713,  30.44696837,\n",
       "        31.03076378,  29.13910085,  23.20313824,  29.93008601,\n",
       "        27.25731511,  30.67158815,  30.64429872,  28.44143872,\n",
       "        34.7540115 ,  30.60964785,  20.29508204,  28.68255846,\n",
       "        28.56309204,  32.91368779,  34.98258371,  32.41387048,\n",
       "        26.02340765,  23.71081248,  33.40111078,  23.82210201,\n",
       "        30.55745437,  28.26230846,  39.50659216,  26.23956826,\n",
       "        34.6580021 ,  25.8456192 ,  30.94596599,  24.10698142,\n",
       "        22.25054834,  35.14515309,  33.87551028,  39.00012763,\n",
       "        30.54963209,  29.22434692,  25.04673485,  27.2812219 ,\n",
       "        40.66161724,  28.9764435 ,  25.49570427,  24.2827825 ])"
      ]
     },
     "execution_count": 15,
     "metadata": {},
     "output_type": "execute_result"
    }
   ],
   "source": [
    "# Creating BMI variable for males from weight and height distributions\n",
    "maleBMI = maleWeightSkewedDist/maleHeightDist**2\n",
    "\n",
    "# Creating BMI variable for females from weight and height distributions\n",
    "femaleBMI = femaleWeightSkewedDist/femaleHeightDist**2"
   ]
  },
  {
   "cell_type": "markdown",
   "metadata": {},
   "source": [
    "Percentage in ireland with obesity\n",
    "\n",
    "https://www.safefood.eu/SafeFood/media/SafeFoodLibrary/Documents/Professional/Nutrition/Adult-and-children-obesity-trends-ROI.pdf\n",
    "\n"
   ]
  },
  {
   "cell_type": "markdown",
   "metadata": {},
   "source": [
    "## Simulating the Dataset"
   ]
  },
  {
   "cell_type": "markdown",
   "metadata": {},
   "source": [
    "## Conclusion"
   ]
  },
  {
   "cell_type": "code",
   "execution_count": null,
   "metadata": {},
   "outputs": [],
   "source": []
  }
 ],
 "metadata": {
  "kernelspec": {
   "display_name": "Python 3",
   "language": "python",
   "name": "python3"
  },
  "language_info": {
   "codemirror_mode": {
    "name": "ipython",
    "version": 3
   },
   "file_extension": ".py",
   "mimetype": "text/x-python",
   "name": "python",
   "nbconvert_exporter": "python",
   "pygments_lexer": "ipython3",
   "version": "3.6.7"
  }
 },
 "nbformat": 4,
 "nbformat_minor": 2
}
