{
 "cells": [
  {
   "cell_type": "markdown",
   "metadata": {},
   "source": [
    "# A Simulated Dataset of a Real-World Phenomenom"
   ]
  },
  {
   "cell_type": "markdown",
   "metadata": {},
   "source": [
    "## Introduction\n",
    "\n",
    "The real-world phenomenom that I will be looking at is the relationship between obesity and increased mortaility. Obesity grades 2 and 3 (BMI >/= 35) is associated with an aproximate 30% increase in all-cause mortality https://www.ncbi.nlm.nih.gov/pmc/articles/PMC4855514/. \n",
    "\n",
    "This dataset can be used to predict the number of people in a population that will suffer from obesity and therefore an increase in all-cause mortality.\n",
    "\n",
    "(include underweight as well - https://www.ncbi.nlm.nih.gov/pmc/articles/PMC4021191/)\n",
    "\n",
    "(Define all-cause mortality)\n"
   ]
  },
  {
   "cell_type": "markdown",
   "metadata": {},
   "source": [
    "## Investigation\n",
    "Variables to look at:\n",
    "Sex (What is the proportion of males to females?)\n",
    "Weight (Average weight by sex and the standard deviation)\n",
    "Height (Average height and standard deviation)\n",
    "BMI \n",
    "BMI Category \n",
    "Risk of all-cause mortality\n",
    "\n",
    "For sex, there are different average weights and heights for males and females.\n",
    "\n",
    "\n",
    "\n",
    "(What kind of variables are being used - discrete, continuous, categorical etc - https://www.statisticshowto.datasciencecentral.com/types-variables/)"
   ]
  },
  {
   "cell_type": "markdown",
   "metadata": {},
   "source": [
    "We'll start by importing some libraries"
   ]
  },
  {
   "cell_type": "code",
   "execution_count": 1,
   "metadata": {},
   "outputs": [],
   "source": [
    "import numpy as np\n",
    "import pandas as pd\n",
    "import matplotlib.pyplot as plt"
   ]
  },
  {
   "cell_type": "markdown",
   "metadata": {},
   "source": [
    "### Age"
   ]
  },
  {
   "cell_type": "code",
   "execution_count": 2,
   "metadata": {},
   "outputs": [
    {
     "data": {
      "text/plain": [
       "3102575"
      ]
     },
     "execution_count": 2,
     "metadata": {},
     "output_type": "execute_result"
    }
   ],
   "source": [
    "adults15to24 = 301114 + 292055\n",
    "adults25to54 = 1087587 + 1077383 \n",
    "adults55to64 = 261650 + 260737\n",
    "\n",
    "adults18to24 = int(adults15to24 * 0.7)\n",
    "\n",
    "totalAdults18to64 = adults18to24 + adults25to54 + adults55to64 \n",
    "\n",
    "totalAdults18to64"
   ]
  },
  {
   "cell_type": "code",
   "execution_count": 3,
   "metadata": {},
   "outputs": [
    {
     "name": "stdout",
     "output_type": "stream",
     "text": [
      "Proportion of adults aged 15 to 24: 0.13383012497683375\n",
      "Proportion of adults aged 25 to 54: 0.6977977969912089\n",
      "Proportion of adults aged 55 to 64: 0.16837207803195733\n"
     ]
    }
   ],
   "source": [
    "proportion18to24 = adults18to24/totalAdults18to64\n",
    "proportion25to54 = adults25to54/totalAdults18to64\n",
    "proportion55to64 = adults55to64/totalAdults18to64\n",
    "\n",
    "print(f\"Proportion of adults aged 15 to 24: {proportion18to24}\")\n",
    "print(f\"Proportion of adults aged 25 to 54: {proportion25to54}\")\n",
    "print(f\"Proportion of adults aged 55 to 64: {proportion55to64}\")"
   ]
  },
  {
   "cell_type": "markdown",
   "metadata": {},
   "source": [
    "### Sex ratio\n",
    "\n",
    "The ratio of males to females in Ireland are:\n",
    "Aged 15 to 24: 301,114 males and 292,055 females (1.03 m/f)\n",
    "Aged 25 to 54: 1,087,587 males and 1,077,383 females (1.01 m/f)\n",
    "Aged 55 to 64: 261,650 males and 260,737 females (1 m/f)\n",
    "\n",
    "(Reference - https://www.indexmundi.com/ireland/demographics_profile.html)"
   ]
  },
  {
   "cell_type": "code",
   "execution_count": 4,
   "metadata": {},
   "outputs": [
    {
     "name": "stdout",
     "output_type": "stream",
     "text": [
      "The number of males aged 15 to 64 in Ireland is 1650351\n",
      "The number of females aged 15 to 64 in Ireland is 1630175\n",
      "The total number of males and females aged 15 to 64 in Ireland is 3280526\n"
     ]
    }
   ],
   "source": [
    "# Number of males and females in Ireland aged 15 to 64 years old\n",
    "males = 301114 + 1087587 + 261650\n",
    "females = 292055 + 1077383 + 260737\n",
    "\n",
    "# Total number of adults in Ireland aged 15 to 64 years old\n",
    "total = males + females\n",
    "\n",
    "print(f\"The number of males aged 15 to 64 in Ireland is {males}\")\n",
    "print(f\"The number of females aged 15 to 64 in Ireland is {females}\")\n",
    "print(f\"The total number of males and females aged 15 to 64 in Ireland is {total}\")\n",
    "      "
   ]
  },
  {
   "cell_type": "code",
   "execution_count": 5,
   "metadata": {},
   "outputs": [
    {
     "name": "stdout",
     "output_type": "stream",
     "text": [
      "0.5030751166123969\n",
      "0.4969248833876031\n"
     ]
    }
   ],
   "source": [
    "# Ratio of males to females in Ireland aged 15 to 64\n",
    "\n",
    "ratioOfMales = males/ total\n",
    "ratioOfFemales = females/ total\n",
    "\n",
    "print(ratioOfMales)\n",
    "print(ratioOfFemales)"
   ]
  },
  {
   "cell_type": "markdown",
   "metadata": {},
   "source": [
    "The figures below for weight and height are for 18 to 64 year olds. Here an assumption will be made that the ratio for males to females in Ireland aged 18 to 64 year olds will be the same as 15 to 64 year olds. However, as can be seen from the ratios above, the number of males to females decreases as age increases (1.03 for 15 to 24 year olds, 1.01 for 25 to 54 and 1.00 55 to 64 years).\n",
    "\n",
    "We can now create a random sample of 1000 people which will have the same ratio of males to females as was found above"
   ]
  },
  {
   "cell_type": "code",
   "execution_count": 6,
   "metadata": {},
   "outputs": [
    {
     "data": {
      "text/plain": [
       "(array(['female', 'male'],\n",
       "       dtype='<U6'), array([488, 512], dtype=int64))"
      ]
     },
     "execution_count": 6,
     "metadata": {},
     "output_type": "execute_result"
    }
   ],
   "source": [
    "# Creating a 1D array with male and female as the elements\n",
    "\n",
    "sex =[\"male\", \"female\"]\n",
    "\n",
    "sampleSize = 1000\n",
    "\n",
    "sexArray = np.random.choice(sex, sampleSize, p=[ratioOfMales, ratioOfFemales])\n",
    "\n",
    "np.unique(sexArray, return_counts=True)"
   ]
  },
  {
   "cell_type": "markdown",
   "metadata": {},
   "source": [
    "### Weight\n",
    "\n",
    "Mean adult (18 to 64 years old) male body weight is 86.2 kg with a standard deviation of 15.0 kg. (Reference - https://irp-cdn.multiscreensite.com/46a7ad27/files/uploaded/The%20National%20Adult%20Nutrition%20Survey%20%282008-2010%29.pdf)\n",
    "\n",
    "Mean adult (18 to 64 years old) female bodyweight is 70.0 kg with a standard deviation of 13.7 kg. (Reference - https://irp-cdn.multiscreensite.com/46a7ad27/files/uploaded/The%20National%20Adult%20Nutrition%20Survey%20%282008-2010%29.pdf)"
   ]
  },
  {
   "cell_type": "code",
   "execution_count": 7,
   "metadata": {},
   "outputs": [],
   "source": [
    "# Assigning variables for weight\n",
    "\n",
    "meanMaleWeight, maleWeightSD = 86.2, 15.0\n",
    "meanFemaleWeight, femaleWeightSD = 70.0, 13.7"
   ]
  },
  {
   "cell_type": "markdown",
   "metadata": {},
   "source": [
    "The median values for males and females are 85.1 kg and 67.5 kg respectively. The distributions for weight for males and females are therefore are both positively skewed. We can also see this by examining the 5th and 95th percentiles. For males these are 64.0 kg and 112.6 kg, respectively(Reference - https://irp-cdn.multiscreensite.com/46a7ad27/files/uploaded/The%20National%20Adult%20Nutrition%20Survey%20%282008-2010%29.pdf). For females, these are 52.2 kg and 96.3 kg respectively(Reference - https://irp-cdn.multiscreensite.com/46a7ad27/files/uploaded/The%20National%20Adult%20Nutrition%20Survey%20%282008-2010%29.pdf). \n",
    "\n",
    "The differences between these and their respective medians can be calculated as follows:"
   ]
  },
  {
   "cell_type": "code",
   "execution_count": 8,
   "metadata": {},
   "outputs": [
    {
     "name": "stdout",
     "output_type": "stream",
     "text": [
      "The difference between the median body weight for males and the 5th and 95th percentiles are:\n",
      "5th percentile: 21.099999999999994\n",
      "95th percentile: 27.5\n",
      "The difference between the median body weight for females and the 5th and 95th percentiles are:\n",
      "5th percentile: 15.299999999999997\n",
      "95th percentile: 28.799999999999997\n"
     ]
    }
   ],
   "source": [
    "# Assigning median, 5th perentile and 95th percentiles\n",
    "\n",
    "maleMedian, male5th, male95th = 85.1, 64.0, 112.6\n",
    "femaleMedian, female5th, female95th = 67.5, 52.2, 96.3\n",
    "\n",
    "# Calculating difference between medians and 5th and 95th percentiles\n",
    "male5thdiff = maleMedian - male5th\n",
    "male95thdiff = male95th - maleMedian\n",
    "\n",
    "female5thdiff = femaleMedian - female5th\n",
    "female95thdiff = female95th - femaleMedian\n",
    "\n",
    "print(f\"The difference between the median body weight for males and the 5th and 95th percentiles are:\")\n",
    "print(f\"5th percentile: {male5thdiff}\")\n",
    "print(f\"95th percentile: {male95thdiff}\")\n",
    "\n",
    "print(f\"The difference between the median body weight for females and the 5th and 95th percentiles are:\")\n",
    "print(f\"5th percentile: {female5thdiff}\")\n",
    "print(f\"95th percentile: {female95thdiff}\")"
   ]
  },
  {
   "cell_type": "markdown",
   "metadata": {},
   "source": [
    "This also shows that body weight is not normally distributed but is instead positively skewed.\n",
    "\n",
    "A study of German, Norwegian and Austrian conscripts also found that body weight is not normally distributed. \n",
    "\n",
    "(Reference - https://www.ncbi.nlm.nih.gov/pubmed/11673780)\n",
    "\n",
    "There may be a diproportionately larger number of obese people than underweight (therefore leading to the positive skewness) due to the fact that the more a person weighs the easier it then is for them to gain even more weight. (Reference - https://www.researchgate.net/publication/7006581_The_Changing_Shape_of_the_Body_Mass_Index_Distribution_Curve_in_the_Population_Implications_for_Public_Health_Policy_to_Reduce_the_Prevalence_of_Adult_Obesity)\n",
    "\n",
    "Firstly we will create a normal distribution for male and female weights"
   ]
  },
  {
   "cell_type": "code",
   "execution_count": 9,
   "metadata": {},
   "outputs": [
    {
     "data": {
      "text/plain": [
       "(array([   6.,   27.,   84.,  162.,  214.,  243.,  153.,   68.,   34.,    9.]),\n",
       " array([  27.68752567,   36.13164731,   44.57576895,   53.01989059,\n",
       "          61.46401223,   69.90813387,   78.35225551,   86.79637715,\n",
       "          95.2404988 ,  103.68462044,  112.12874208]),\n",
       " <a list of 10 Patch objects>)"
      ]
     },
     "execution_count": 9,
     "metadata": {},
     "output_type": "execute_result"
    },
    {
     "data": {
      "image/png": "[encoded data removed]",
      "text/plain": [
       "<matplotlib.figure.Figure at 0x221d5ad06a0>"
      ]
     },
     "metadata": {
      "needs_background": "light"
     },
     "output_type": "display_data"
    }
   ],
   "source": [
    "# Creating a random Normally distributed array for male and female weight\n",
    "maleWeightDist = np.random.normal(meanMaleWeight, maleWeightSD, 1000)\n",
    "femaleWeightDist = np.random.normal(meanFemaleWeight, femaleWeightSD, 1000)\n",
    "\n",
    "\n",
    "# Displaying the male and female weights on a histogram\n",
    "plt.subplot(121)\n",
    "plt.hist(maleWeightDist)\n",
    "\n",
    "plt.subplot(122)\n",
    "plt.hist(femaleWeightDist)"
   ]
  },
  {
   "cell_type": "markdown",
   "metadata": {},
   "source": [
    "From above in the https://irp-cdn.multiscreensite.com/46a7ad27/files/uploaded/The%20National%20Adult%20Nutrition%20Survey%20%282008-2010%29.pdf it was found that the male 5th and 95th percentiles were 64.0 and 112.6 respectively. We can view what these values are for the normally distributed male weight distribution:"
   ]
  },
  {
   "cell_type": "code",
   "execution_count": 10,
   "metadata": {},
   "outputs": [
    {
     "name": "stdout",
     "output_type": "stream",
     "text": [
      "The 5th percentile for normally distributed male weight is: 61.10834386895352 (difference from real value is: 2.8916561310464814)\n",
      "The 95th percentile for normally distributed male weight is: 112.01141853543382 (difference from real value is: 0.5885814645661753)\n",
      "The 5th percentile for normally distributed female weight is: 47.50079026526896 (difference from real value is: 4.699209734731042)\n",
      "The 95th percentile for normally distributed female weight is: 93.15278134593403 (difference from real value is: 3.1472186540659663)\n"
     ]
    }
   ],
   "source": [
    "# Assigning the 5th percentile for normally distributed male and female weight\n",
    "male5thNormal = np.percentile(maleWeightDist, 5)\n",
    "female5thNormal = np.percentile(femaleWeightDist, 5)\n",
    "\n",
    "# Assigning the 95th percentile for normally distributed male and female weight\n",
    "male95thNormal = np.percentile(maleWeightDist, 95)\n",
    "female95thNormal = np.percentile(femaleWeightDist, 95)\n",
    "\n",
    "# Printing the 5th and 95th percentiles for normally distributed male and female weight\n",
    "print(f\"The 5th percentile for normally distributed male weight is: {male5thNormal} (difference from real value is: {male5th-male5thNormal})\")\n",
    "print(f\"The 95th percentile for normally distributed male weight is: {male95thNormal} (difference from real value is: {male95th-male95thNormal})\")\n",
    "\n",
    "print(f\"The 5th percentile for normally distributed female weight is: {female5thNormal} (difference from real value is: {female5th-female5thNormal})\")\n",
    "print(f\"The 95th percentile for normally distributed female weight is: {female95thNormal} (difference from real value is: {female95th-female95thNormal})\")"
   ]
  },
  {
   "cell_type": "markdown",
   "metadata": {},
   "source": [
    "As would be expected, the results are lower than the positively skewed real values. Also the female values are more skewed than the male values."
   ]
  },
  {
   "cell_type": "markdown",
   "metadata": {},
   "source": [
    "We can create a positively skewed distribution using the following code:"
   ]
  },
  {
   "cell_type": "code",
   "execution_count": 11,
   "metadata": {},
   "outputs": [
    {
     "name": "stdout",
     "output_type": "stream",
     "text": [
      "The 5th percentile for the skewed normal distribution for males is: 61.809856499375975 (real is: 64.0)\n",
      "The 95th percentile for the skewed normal distribution for males is: 112.07688191562391 (real is: 112.6)\n",
      "The 5th percentile for the skewed normal distribution for females is: 52.36859844085918 (real is: 52.2)\n",
      "The 95th percentile for the skewed normal distribution for females is: 95.47079919366048 (real is: 96.3)\n"
     ]
    }
   ],
   "source": [
    "# Importing the skewnorm function from scipy.stats \n",
    "# From https://docs.scipy.org/doc/scipy/reference/generated/scipy.stats.skewnorm.html#scipy.stats.skewnorm \n",
    "from scipy.stats import skewnorm\n",
    "\n",
    "# Creating a skewed normal distribution for male weight with a skewness factor of 0.1\n",
    "maleWeightSkewedDist = skewnorm.rvs(0.1, loc=meanMaleWeight, scale=maleWeightSD, size=1000)\n",
    "\n",
    "# Creating a skewed normal distribution for female weight with a skewness factor of 0.4\n",
    "femaleWeightSkewedDist = skewnorm.rvs(0.4, loc=meanFemaleWeight, scale=femaleWeightSD, size=1000)\n",
    "\n",
    "# Assigning the 5th percentile for the skewed normal weight distribution for males and females\n",
    "male5thSkewed = np.percentile(maleWeightSkewedDist, 5)\n",
    "female5thSkewed = np.percentile(femaleWeightSkewedDist, 5)\n",
    "\n",
    "# Assigning the 95th percentile for the skewed normal weight distribution for male and females\n",
    "male95thSkewed = np.percentile(maleWeightSkewedDist, 95)\n",
    "female95thSkewed = np.percentile(femaleWeightSkewedDist, 95)\n",
    "\n",
    "\n",
    "print(f\"The 5th percentile for the skewed normal distribution for males is: {male5thSkewed} (real is: {male5th})\")\n",
    "print(f\"The 95th percentile for the skewed normal distribution for males is: {male95thSkewed} (real is: {male95th})\")\n",
    "\n",
    "print(f\"The 5th percentile for the skewed normal distribution for females is: {female5thSkewed} (real is: {female5th})\")\n",
    "print(f\"The 95th percentile for the skewed normal distribution for females is: {female95thSkewed} (real is: {female95th})\")"
   ]
  },
  {
   "cell_type": "code",
   "execution_count": 12,
   "metadata": {},
   "outputs": [
    {
     "data": {
      "text/plain": [
       "(array([   2.,   16.,   57.,  128.,  235.,  228.,  186.,  105.,   35.,    8.]),\n",
       " array([  29.76111708,   38.04259543,   46.32407377,   54.60555211,\n",
       "          62.88703046,   71.1685088 ,   79.44998714,   87.73146549,\n",
       "          96.01294383,  104.29442218,  112.57590052]),\n",
       " <a list of 10 Patch objects>)"
      ]
     },
     "execution_count": 12,
     "metadata": {},
     "output_type": "execute_result"
    },
    {
     "data": {
      "image/png": "[encoded data removed]",
      "text/plain": [
       "<matplotlib.figure.Figure at 0x221d5532c88>"
      ]
     },
     "metadata": {
      "needs_background": "light"
     },
     "output_type": "display_data"
    }
   ],
   "source": [
    "# Plotting the skewed normal male and female weight distributions\n",
    "\n",
    "plt.subplot(121)\n",
    "plt.hist(maleWeightSkewedDist)\n",
    "\n",
    "plt.subplot(122)\n",
    "plt.hist(femaleWeightSkewedDist)"
   ]
  },
  {
   "cell_type": "markdown",
   "metadata": {},
   "source": [
    "### Height\n",
    "\n",
    "Human height is normally distributed (Ref - https://www.johndcook.com/blog/2008/07/20/why-heights-are-normally-distributed/). The reason for this is that there are many genetic and envirnomental factors that are involved in height which leads to the large variation (Ref https://www.johndcook.com/blog/2008/07/20/why-heights-are-normally-distributed/).\n",
    "\n",
    "Mean adult (18 to 64 years old) male height is 1.77 m with a standard deviation of 0.07 m. (Ref - https://irp-cdn.multiscreensite.com/46a7ad27/files/uploaded/The%20National%20Adult%20Nutrition%20Survey%20%282008-2010%29.pdf)\n",
    "Mean adult (18 to 64 years old) female height is 1.63 m with a standard deviation of 0.06 m. (Ref - https://irp-cdn.multiscreensite.com/46a7ad27/files/uploaded/The%20National%20Adult%20Nutrition%20Survey%20%282008-2010%29.pdf)"
   ]
  },
  {
   "cell_type": "code",
   "execution_count": 13,
   "metadata": {},
   "outputs": [],
   "source": [
    "# Setting height variables\n",
    "maleHeight, femaleHeight = 1.77, 1.63\n",
    "maleHeightSD, femaleHeightSD = 0.07, 0.06"
   ]
  },
  {
   "cell_type": "code",
   "execution_count": 14,
   "metadata": {},
   "outputs": [
    {
     "data": {
      "text/plain": [
       "(array([  12.,   26.,   85.,  162.,  238.,  222.,  149.,   80.,   20.,    6.]),\n",
       " array([ 1.45077786,  1.48732251,  1.52386716,  1.5604118 ,  1.59695645,\n",
       "         1.6335011 ,  1.67004575,  1.7065904 ,  1.74313505,  1.7796797 ,\n",
       "         1.81622435]),\n",
       " <a list of 10 Patch objects>)"
      ]
     },
     "execution_count": 14,
     "metadata": {},
     "output_type": "execute_result"
    },
    {
     "data": {
      "image/png": "[encoded data removed]",
      "text/plain": [
       "<matplotlib.figure.Figure at 0x221d5972780>"
      ]
     },
     "metadata": {
      "needs_background": "light"
     },
     "output_type": "display_data"
    }
   ],
   "source": [
    "# Creating height distributions\n",
    "maleHeightDist = np.random.normal(maleHeight, maleHeightSD, 1000)\n",
    "femaleHeightDist = np.random.normal(femaleHeight, femaleHeightSD, 1000)\n",
    "\n",
    "# Plotting distributions on a histogram\n",
    "plt.subplot(121)\n",
    "plt.hist(maleHeightDist)\n",
    "\n",
    "plt.subplot(122)\n",
    "plt.hist(femaleHeightDist)"
   ]
  },
  {
   "cell_type": "markdown",
   "metadata": {},
   "source": [
    "### BMI\n",
    "\n",
    "BMI is calculated using the following formula weight(kg)/height(m)^2 (Ref - https://journals.lww.com/nutritiontodayonline/Fulltext/2015/05000/Body_Mass_Index__Obesity,_BMI,_and_Health_A.5.aspx) (Expand on this - Why is height squared ??????)\n",
    "\n",
    "(include limitations of BMI - https://en.wikipedia.org/wiki/Body_mass_index)\n",
    "\n"
   ]
  },
  {
   "cell_type": "code",
   "execution_count": 15,
   "metadata": {},
   "outputs": [],
   "source": [
    "# Creating BMI variable for males from weight and height distributions\n",
    "maleBMI = maleWeightSkewedDist/maleHeightDist**2\n",
    "\n",
    "# Creating BMI variable for females from weight and height distributions\n",
    "femaleBMI = femaleWeightSkewedDist/femaleHeightDist**2"
   ]
  },
  {
   "cell_type": "markdown",
   "metadata": {},
   "source": [
    "### BMI Categories\n",
    "\n",
    "There are 11 different BMI categories ( Ref - https://en.wikipedia.org/wiki/Body_mass_index.)\n",
    "\n",
    "For this data set we will only look at 6:\n",
    "* Underweight (BMI of <18.5)\n",
    "* Normal (BMI of 18.5-<25.0)\n",
    "* Overweight (BMI of 25.0-<30.0)\n",
    "* Obese 1 (BMI of 30.0-<35.0)\n",
    "* Obese 2 (BMI of 35.0-<40.0)\n",
    "* Obese 3 (BMI of >/=40.0)"
   ]
  },
  {
   "cell_type": "code",
   "execution_count": 16,
   "metadata": {},
   "outputs": [
    {
     "data": {
      "text/plain": [
       "(0       Overweight\n",
       " 1          Obese 2\n",
       " 2       Overweight\n",
       " 3          Obese 1\n",
       " 4       Overweight\n",
       " 5          Obese 1\n",
       " 6           Normal\n",
       " 7          Obese 1\n",
       " 8           Normal\n",
       " 9          Obese 1\n",
       " 10          Normal\n",
       " 11          Normal\n",
       " 12         Obese 2\n",
       " 13      Overweight\n",
       " 14      Overweight\n",
       " 15          Normal\n",
       " 16         Obese 2\n",
       " 17      Overweight\n",
       " 18      Overweight\n",
       " 19      Overweight\n",
       " 20          Normal\n",
       " 21         Obese 2\n",
       " 22         Obese 1\n",
       " 23      Overweight\n",
       " 24      Overweight\n",
       " 25          Normal\n",
       " 26          Normal\n",
       " 27      Overweight\n",
       " 28         Obese 2\n",
       " 29      Overweight\n",
       "           ...     \n",
       " 970        Obese 1\n",
       " 971         Normal\n",
       " 972        Obese 1\n",
       " 973     Overweight\n",
       " 974         Normal\n",
       " 975        Obese 1\n",
       " 976     Overweight\n",
       " 977     Overweight\n",
       " 978    Underweight\n",
       " 979        Obese 1\n",
       " 980        Obese 1\n",
       " 981         Normal\n",
       " 982        Obese 3\n",
       " 983         Normal\n",
       " 984        Obese 2\n",
       " 985        Obese 3\n",
       " 986        Obese 1\n",
       " 987         Normal\n",
       " 988        Obese 2\n",
       " 989     Overweight\n",
       " 990        Obese 1\n",
       " 991        Obese 2\n",
       " 992        Obese 2\n",
       " 993         Normal\n",
       " 994         Normal\n",
       " 995     Overweight\n",
       " 996         Normal\n",
       " 997         Normal\n",
       " 998     Overweight\n",
       " 999         Normal\n",
       " Name: BMI, Length: 1000, dtype: category\n",
       " Categories (6, object): [Underweight < Normal < Overweight < Obese 1 < Obese 2 < Obese 3],\n",
       " array([    0. ,    18.5,    25. ,    30. ,    35. ,    40. ,  1000. ]))"
      ]
     },
     "execution_count": 16,
     "metadata": {},
     "output_type": "execute_result"
    }
   ],
   "source": [
    "# Creating categorical array from a continuous array\n",
    "# Adapted from https://pandas.pydata.org/pandas-docs/stable/generated/pandas.cut.html#pandas.cut\n",
    "# and from https://pandas.pydata.org/pandas-docs/stable/categorical.html\n",
    "\n",
    "df = pd.DataFrame({'BMI': maleBMI})\n",
    "\n",
    "BMICategories = [\"Underweight\", \"Normal\", \"Overweight\", \"Obese 1\", \"Obese 2\", \"Obese 3\"]\n",
    "\n",
    "BMIArray = pd.cut(df.BMI, [0.0, 18.5, 25.0, 30.0, 35.0, 40.0, 1000.0], labels=BMICategories, retbins=True, right=False)\n",
    "\n",
    "BMIArray"
   ]
  },
  {
   "cell_type": "code",
   "execution_count": 17,
   "metadata": {},
   "outputs": [
    {
     "data": {
      "text/plain": [
       "array([ 27.27805617,  35.78304996,  29.13420993,  33.32681288,\n",
       "        27.20079573,  32.68666814,  23.03183208,  30.38301188,\n",
       "        22.84550646,  31.69304017,  22.01072086,  24.16745667,\n",
       "        39.24769767,  26.38097862,  25.315752  ,  24.77395133,\n",
       "        38.25046498,  25.40297628,  29.81500079,  27.6258688 ,\n",
       "        22.33275798,  38.96318369,  30.44639014,  29.61437255,\n",
       "        28.19881083,  18.55030418,  23.46551308,  29.00492241,\n",
       "        36.17897901,  29.80994803,  30.32400501,  30.16677159,\n",
       "        31.45994593,  24.20556129,  21.50477449,  32.35503135,\n",
       "        23.10689182,  25.61088741,  32.14092426,  23.60117576,\n",
       "        30.39426309,  22.10778907,  14.84386147,  33.26442307,\n",
       "        29.49172443,  33.58675705,  26.80838926,  32.40684038,\n",
       "        28.10214922,  21.27059056,  28.89276894,  25.06639309,\n",
       "        29.00800398,  23.21284864,  30.07354933,  22.40717866,\n",
       "        32.40447282,  25.62437238,  26.73395599,  24.23559368,\n",
       "        32.8055402 ,  17.01952893,  29.47551592,  31.08432851,\n",
       "        27.99031378,  23.49608179,  18.56217859,  25.10839479,\n",
       "        26.50149187,  22.75002079,  24.14508201,  23.40688718,\n",
       "        28.22147577,  18.34618834,  24.92972619,  30.90744993,\n",
       "        23.11067352,  29.60648626,  25.32363146,  38.88406861,\n",
       "        20.49604959,  27.62437603,  21.16872276,  20.70449667,\n",
       "        26.15636271,  31.35839454,  27.80353937,  32.69762599,\n",
       "        27.05425576,  29.72976405,  40.55395743,  25.74297597,\n",
       "        27.67792912,  33.68890693,  30.53423276,  35.47716867,\n",
       "        22.27984693,  25.34498144,  30.25141571,  23.82870569,\n",
       "        22.28145321,  22.32636984,  24.13316284,  32.10920743,\n",
       "        28.86510406,  30.01818971,  27.96126827,  28.32068138,\n",
       "        36.78159632,  34.45272787,  19.04779964,  31.11494235,\n",
       "        34.64097969,  26.49486086,  23.46659318,  17.07544766,\n",
       "        29.62742628,  29.69203879,  30.91334949,  29.00373297,\n",
       "        25.95405954,  33.08567843,  32.52964044,  34.43695505,\n",
       "        31.7378253 ,  24.97353935,  30.42345945,  29.21034998,\n",
       "        30.01595378,  22.79939129,  29.79883891,  20.82445335,\n",
       "        26.90125232,  20.11812081,  29.17344342,  38.24398546,\n",
       "        17.74072607,  37.22037384,  21.59847247,  24.20242043,\n",
       "        29.5204509 ,  21.77052757,  28.05300258,  38.06856807,\n",
       "        24.18067334,  34.40836097,  26.5445843 ,  35.46430622,\n",
       "        31.73968579,  34.298252  ,  29.50699912,  23.18534374,\n",
       "        30.56538801,  30.54518747,  27.09136542,  23.63619695,\n",
       "        22.61156665,  36.70114789,  26.10780865,  29.50709531,\n",
       "        35.88177864,  34.97935132,  24.73858067,  23.48743979,\n",
       "        24.58439295,  32.11352705,  23.20265955,  36.923243  ,\n",
       "        29.92317758,  20.46311596,  19.69634471,  26.75560175,\n",
       "        24.47713739,  32.82373479,  27.63087639,  35.2843137 ,\n",
       "        30.0948018 ,  18.81855124,  18.38680894,  28.81974132,\n",
       "        27.75412807,  19.75812914,  26.54006822,  20.69456745,\n",
       "        33.75656855,  31.70300962,  22.77604991,  27.14622845,\n",
       "        24.33337379,  26.95572269,  23.37278696,  36.75312134,\n",
       "        25.30398507,  23.99524272,  28.17293667,  28.06672251,\n",
       "        32.6349975 ,  29.25241341,  44.80199906,  29.08325501,\n",
       "        24.66471551,  32.06298474,  34.19999338,  35.18032577,\n",
       "        35.41409825,  30.82092136,  38.31284284,  31.76992521,\n",
       "        31.09038039,  25.04383668,  36.63449397,  24.99940786,\n",
       "        24.96643052,  26.67144885,  16.56917089,  17.62086212,\n",
       "        25.56415063,  25.66819174,  23.65726318,  23.78954852,\n",
       "        31.43485023,  26.8192955 ,  42.04486629,  31.46590758,\n",
       "        21.3148301 ,  19.8835596 ,  23.9428251 ,  27.93503175,\n",
       "        27.20390388,  32.44613971,  22.81238114,  26.39229606,\n",
       "        27.67001042,  30.35748721,  27.85381082,  28.20277015,\n",
       "        24.08599691,  32.32736813,  33.33893483,  24.74656923,\n",
       "        31.65597994,  34.17110182,  28.36976363,  28.72854896,\n",
       "        31.24982853,  26.69541844,  21.01226975,  24.56617885,\n",
       "        25.51536297,  31.9571849 ,  29.99332726,  25.47418083,\n",
       "        24.89026296,  29.20096516,  23.18520819,  19.35685092,\n",
       "        17.00975467,  33.5751366 ,  28.61201635,  29.95401597,\n",
       "        26.76070732,  25.80730477,  29.59004446,  26.36910318,\n",
       "        42.3650137 ,  26.44873185,  27.67151697,  34.62988709,\n",
       "        26.11499802,  34.33560615,  30.29019609,  30.90236353,\n",
       "        26.88134172,  26.70039482,  25.90180963,  24.04906544,\n",
       "        27.60219218,  29.10951166,  26.51661216,  25.56824672,\n",
       "        29.49075196,  27.04088136,  27.82043307,  23.00819768,\n",
       "        26.73346998,  24.24306572,  24.4791755 ,  28.05452148,\n",
       "        35.15238364,  25.65921002,  23.10265862,  28.65049828,\n",
       "        28.23100783,  15.75446282,  21.72333706,  28.53922035,\n",
       "        32.55395583,  26.21565844,  28.52002068,  27.9451205 ,\n",
       "        20.20211957,  20.36687975,  29.22212365,  21.53010536,\n",
       "        25.56053896,  16.98398043,  31.88514722,  36.91196204,\n",
       "        13.85730599,  20.55041229,  26.3725214 ,  31.40149937,\n",
       "        28.97291292,  30.75509226,  21.77078495,  31.01958626,\n",
       "        30.65300154,  22.14818007,  24.33984865,  31.92460394,\n",
       "        25.27586245,  25.68220721,  30.22377555,  33.03243331,\n",
       "        17.9706976 ,  25.56821854,  30.62949306,  20.60486872,\n",
       "        24.99913503,  27.02406463,  26.86887943,  33.84514405,\n",
       "        24.96659643,  19.47302649,  36.61645659,  28.54618668,\n",
       "        20.94674194,  23.27889388,  23.99270187,  30.8300647 ,\n",
       "        36.4391104 ,  25.33771679,  36.3765072 ,  23.69133813,\n",
       "        32.81236536,  28.10058679,  28.93328235,  36.79420432,\n",
       "        26.20937149,  31.42409565,  28.61798448,  25.43747939,\n",
       "        30.67009875,  32.3433148 ,  23.53856547,  23.16605745,\n",
       "        29.17139751,  28.51432611,  27.32649366,  28.91628124,\n",
       "        34.84056673,  33.81329371,  26.57961749,  23.61117984,\n",
       "        20.91528789,  19.62344882,  28.97301498,  32.23062407,\n",
       "        19.00205908,  25.37139872,  30.70845543,  21.84814815,\n",
       "        22.58104013,  25.04717175,  41.11290965,  22.85543958,\n",
       "        22.21937762,  22.20034341,  17.13116001,  24.90268015,\n",
       "        36.02917894,  23.49240605,  26.9938218 ,  25.6736314 ,\n",
       "        26.57019325,  33.19046097,  17.41703144,  25.45038368,\n",
       "        30.79150607,  31.9589519 ,  18.72225139,  25.95192126,\n",
       "        30.44943487,  27.95248788,  26.55384755,  32.93532026,\n",
       "        32.58082467,  19.50911437,  38.33890118,  37.55186991,\n",
       "        28.19825081,  16.37909816,  32.95048982,  23.91171177,\n",
       "        29.98243363,  31.58094549,  31.71278624,  20.58855076,\n",
       "        28.84980149,  31.14710875,  28.32242032,  18.98098882,\n",
       "        23.26058709,  25.42092721,  25.95586861,  24.93060146,\n",
       "        27.76389676,  28.38633678,  29.81751695,  37.93708967,\n",
       "        24.611746  ,  37.38961998,  33.45867909,  20.47671059,\n",
       "        25.40409379,  19.78154764,  30.5401522 ,  32.96575419,\n",
       "        38.70706667,  37.58126355,  17.50686418,  22.30927   ,\n",
       "        27.76069766,  26.80544788,  23.60423427,  23.10911509,\n",
       "        28.94473599,  25.51802139,  31.02218493,  33.64130473,\n",
       "        15.87315716,  25.09386442,  24.18147868,  24.35025465,\n",
       "        41.61827084,  36.61195795,  27.4448281 ,  28.09637235,\n",
       "        26.12323258,  20.99771524,  33.54987987,  22.96426701,\n",
       "        27.18979309,  32.19830327,  29.59900002,  24.66899672,\n",
       "        33.82682207,  18.55015887,  27.97462843,  28.37822542,\n",
       "        24.84884543,  22.55154822,  33.82581403,  31.23271601,\n",
       "        30.83727707,  28.91450519,  26.35198125,  23.1590708 ,\n",
       "        26.96071002,  23.54473984,  28.85745171,  31.98130033,\n",
       "        34.04692937,  27.24271632,  31.88838986,  33.76831623,\n",
       "        22.06824521,  18.49996034,  14.47117076,  27.19992963,\n",
       "        32.2087264 ,  29.63272313,  27.28823885,  21.93615024,\n",
       "        23.27894745,  33.49072169,  22.42409712,  31.3271138 ,\n",
       "        33.18063093,  29.12193375,  28.81792133,  22.70312965,\n",
       "        41.67345221,  19.77729708,  25.63104759,  21.18012018,\n",
       "        25.6533523 ,  24.48374304,  30.67627387,  17.66519102,\n",
       "        24.38780679,  28.28770567,  15.83788548,  28.56381418,\n",
       "        23.15589262,  27.81691799,  27.87603682,  33.23038036,\n",
       "        29.21994573,  29.69531701,  40.71541124,  24.31936689,\n",
       "        36.7951881 ,  20.02449511,  39.37149117,  28.70016917,\n",
       "        32.87869943,  25.53340325,  24.5155412 ,  31.9922495 ,\n",
       "        29.72118408,  31.42169359,  29.6642279 ,  27.03954856,\n",
       "        26.97336544,  24.35065115,  14.39961863,  22.78008406,\n",
       "        32.93923056,  30.06445977,  24.34537268,  19.5526771 ,\n",
       "        26.92853366,  24.8936824 ,  17.55634169,  29.49173366,\n",
       "        25.94455509,  32.28228943,  23.41277315,  24.411892  ,\n",
       "        31.79635439,  34.57022339,  23.91511028,  27.0720088 ,\n",
       "        25.40966446,  29.51971773,  21.86534038,  28.76918211,\n",
       "        27.38522191,  24.66897429,  30.93004362,  38.86574286,\n",
       "        27.06369542,  36.62293369,  32.94889766,  27.61492593,\n",
       "        28.86172857,  31.7212045 ,  33.56179339,  18.44693205,\n",
       "        23.61633234,  33.35677978,  34.50480706,  36.25764725,\n",
       "        28.20749503,  27.59838133,  32.04520945,  21.89767325,\n",
       "        26.11097704,  33.72928068,  18.03920462,  36.75893067,\n",
       "        25.10022624,  32.25545299,  23.95798953,  27.65478708,\n",
       "        21.16261415,  37.11691829,  28.63532178,  34.85694076,\n",
       "        24.46823015,  29.29186865,  32.22233343,  26.16373373,\n",
       "        30.92026318,  24.50641306,  25.75934984,  31.97705665,\n",
       "        28.1324576 ,  28.91845534,  31.03435946,  24.31422473,\n",
       "        26.92580504,  30.42829191,  18.08298436,  34.57857149,\n",
       "        32.43687068,  36.25100498,  27.92092579,  34.59899547,\n",
       "        32.20068842,  28.94745635,  33.99424338,  27.42601362,\n",
       "        30.77867133,  21.9370846 ,  36.99607699,  26.72644785,\n",
       "        26.74960426,  38.86132279,  33.37487088,  27.54003086,\n",
       "        26.25674447,  24.44904627,  22.01410844,  27.09306264,\n",
       "        22.08214153,  31.17090617,  33.90476997,  43.48063436,\n",
       "        22.8815594 ,  26.93808571,  27.35462655,  21.13836022,\n",
       "        22.63175513,  25.70421605,  26.28005301,  17.78239293,\n",
       "        28.32542341,  34.68882404,  31.52025643,  30.85906965,\n",
       "        30.55833355,  19.90604654,  22.02365472,  30.33948062,\n",
       "        26.83846756,  31.2330125 ,  24.00434961,  21.99577325,\n",
       "        33.8513348 ,  29.31385275,  28.36391189,  33.42615476,\n",
       "        33.09272782,  32.19530985,  29.23017644,  30.11522279,\n",
       "        37.51569593,  27.80112085,  29.53474897,  24.15697575,\n",
       "        24.23648566,  28.99170824,  26.13772482,  21.22718425,\n",
       "        23.54977431,  23.21655177,  22.60230563,  16.48019723,\n",
       "        32.10925734,  27.68884726,  24.27931205,  23.1836617 ,\n",
       "        35.66316078,  21.04740365,  33.45734757,  20.47688187,\n",
       "        30.08190718,  23.28165586,  27.48815149,  29.43829219,\n",
       "        23.94524543,  23.17260522,  25.39826057,  23.222177  ,\n",
       "        22.990079  ,  22.52522321,  24.99297201,  25.43783322,\n",
       "        22.56170369,  28.91264421,  30.83763283,  21.32737513,\n",
       "        26.22913552,  33.07382851,  30.558449  ,  43.27336395,\n",
       "        14.19655094,  25.90419348,  24.29835826,  29.73768876,\n",
       "        37.7122561 ,  34.23294268,  27.08029762,  30.62270065,\n",
       "        31.69236879,  17.73832864,  22.84273462,  28.27033703,\n",
       "        28.62786487,  38.17439005,  33.55653548,  34.53904516,\n",
       "        28.30799932,  35.85263735,  35.5633143 ,  26.82359372,\n",
       "        24.42150159,  27.44881067,  19.90806998,  28.78949257,\n",
       "        30.51671849,  22.57206574,  23.25776495,  24.0835189 ,\n",
       "        30.32687543,  30.20769615,  24.53959792,  20.8192628 ,\n",
       "        42.2163817 ,  20.84543617,  21.20258161,  34.41208033,\n",
       "        21.58941817,  29.24155575,  27.22824587,  28.36143399,\n",
       "        27.81103173,  33.6159404 ,  36.29252461,  27.24758869,\n",
       "        33.62643767,  19.84997661,  23.59194326,  26.68625693,\n",
       "        26.61479984,  35.43688109,  39.44056401,  30.2139397 ,\n",
       "        28.3822923 ,  31.61160694,  29.30749327,  33.05130103,\n",
       "        30.85574251,  16.45571195,  22.97507935,  24.83720075,\n",
       "        30.48298543,  40.31471445,  24.86757422,  28.97023269,\n",
       "        23.87761986,  40.36731286,  23.11248256,  26.89104333,\n",
       "        25.010436  ,  35.58981278,  30.36518792,  28.67921813,\n",
       "        34.97617972,  22.07615084,  31.64796268,  31.79245285,\n",
       "        22.43025833,  26.4134413 ,  42.63319765,  23.75366829,\n",
       "        20.41446853,  26.40998964,  35.16609652,  29.79897991,\n",
       "        26.64382278,  32.57143918,  26.75280697,  28.83962785,\n",
       "        30.24667698,  36.77567587,  20.75639509,  36.16233542,\n",
       "        30.46568707,  29.72544131,  20.36144555,  26.18788452,\n",
       "        30.58697528,  30.04539631,  28.71651226,  32.41488906,\n",
       "        22.22183041,  22.12632247,  18.90074937,  24.39288348,\n",
       "        29.84985005,  24.54235699,  33.0245803 ,  33.75452842,\n",
       "        24.73997299,  32.25808793,  38.88820612,  22.90064874,\n",
       "        34.44391741,  34.22556343,  21.0964936 ,  28.41109083,\n",
       "        25.02798153,  26.38161526,  26.46489916,  24.52765778,\n",
       "        31.10167763,  25.09569867,  36.57192243,  28.24019201,\n",
       "        24.44852137,  25.69351474,  38.13414293,  33.23926228,\n",
       "        22.73287044,  27.84310913,  32.70921904,  25.45242854,\n",
       "        32.10398002,  27.43439403,  31.04625102,  25.83970815,\n",
       "        26.24055728,  34.14997421,  24.76826947,  25.69418587,\n",
       "        23.913704  ,  36.34792621,  35.87102692,  28.72292046,\n",
       "        26.23385796,  40.13878152,  34.96194163,  28.56126051,\n",
       "        31.0463053 ,  26.27054491,  30.17973466,  26.80349174,\n",
       "        24.66600008,  28.56552278,  30.82054155,  25.06982254,\n",
       "        36.60532582,  35.43448244,  22.34212662,  32.57568851,\n",
       "        33.80196597,  35.11760652,  31.26107664,  19.49260964,\n",
       "        36.75489752,  29.8206276 ,  27.97018291,  32.24211091,\n",
       "        26.0060089 ,  24.81422398,  24.56132866,  31.91270658,\n",
       "        26.05818322,  40.07918894,  30.71830001,  26.82021273,\n",
       "        24.63534156,  23.69626939,  27.13670653,  34.74107024,\n",
       "        21.70875438,  22.29230419,  19.03813334,  31.94684791,\n",
       "        32.21557291,  39.09423277,  40.01047145,  27.71468872,\n",
       "        22.86326753,  36.47032946,  25.02501175,  29.67560738,\n",
       "        29.28352984,  31.21063482,  30.41569522,  22.16173112,\n",
       "        25.940413  ,  34.17140004,  30.60096485,  24.5704008 ,\n",
       "        42.6012927 ,  26.01500594,  23.916483  ,  20.00536489,\n",
       "        29.29857564,  26.47577362,  20.50730457,  22.31089168,\n",
       "        35.74488869,  27.11590356,  24.78913608,  16.79562265,\n",
       "        32.59969539,  25.28367148,  23.43223647,  27.34409573,\n",
       "        22.31998333,  31.08884129,  21.65384536,  22.50859491,\n",
       "        28.24667818,  23.97155836,  18.03829832,  26.92048227,\n",
       "        32.10706417,  37.79019576,  27.71252027,  28.99952804,\n",
       "        24.08100934,  30.17042871,  25.49983684,  25.01265603,\n",
       "        37.04897214,  22.88637112,  19.96952188,  25.62010202,\n",
       "        30.0374629 ,  27.20794782,  23.10718024,  29.98497387,\n",
       "        26.77065214,  22.85632244,  30.08898236,  27.3541838 ,\n",
       "        37.84888043,  35.748649  ,  28.6518867 ,  22.50049811,\n",
       "        35.38032962,  27.94091708,  25.13591197,  33.28392687,\n",
       "        31.08450613,  29.21063905,  42.22011832,  30.67036497,\n",
       "        23.13820695,  34.45892395,  19.90214718,  26.39852845,\n",
       "        28.46974551,  22.7138533 ,  28.70067765,  33.06868177,\n",
       "        28.13021096,  29.32642894,  27.93507732,  24.586939  ,\n",
       "        23.68928651,  35.32796163,  32.04026661,  20.11262236,\n",
       "        27.96613383,  27.17155308,  23.39596723,  29.3751706 ,\n",
       "        30.59321112,  23.1779734 ,  31.57138557,  26.77984502,\n",
       "        31.25003094,  22.5814665 ,  33.84571256,  24.84403103,\n",
       "        31.56440388,  29.55075163,  22.34670842,  30.77143136,\n",
       "        26.06287105,  29.85786427,  17.92689943,  34.40909586,\n",
       "        31.21338049,  22.19831614,  41.67649157,  20.18319484,\n",
       "        38.92782211,  40.33237766,  32.42759457,  24.12989689,\n",
       "        36.61831787,  26.79843122,  30.14701975,  35.11707148,\n",
       "        37.7780361 ,  24.6933545 ,  22.98257937,  25.24189127,\n",
       "        23.20662714,  18.50691661,  25.13489754,  23.71262835])"
      ]
     },
     "execution_count": 17,
     "metadata": {},
     "output_type": "execute_result"
    }
   ],
   "source": [
    "maleBMI"
   ]
  },
  {
   "cell_type": "markdown",
   "metadata": {},
   "source": [
    "### All-Cause Mortality Hazard Ratios\n",
    "\n",
    "The hazard ratios for all-cause mortality have been studied for people who are overweight, obese and underweight. The hazard ratio for these weight categories are relative to normal weight (Ref - https://www.ncbi.nlm.nih.gov/pmc/articles/PMC4855514/ and https://www.ncbi.nlm.nih.gov/pmc/articles/PMC4021191/). The hazard ratios are as follows:\n",
    "Underweight = 1.37 (Ref - https://www.ncbi.nlm.nih.gov/pmc/articles/PMC4021191/)\n",
    "Normal = 1 (hazard ratios are relative to normal so this will have a HR of 1)\n",
    "Overweight = 0.94 (ref - https://www.ncbi.nlm.nih.gov/pmc/articles/PMC4855514/)\n",
    "Obese 1 = 0.95 (ref - https://www.ncbi.nlm.nih.gov/pmc/articles/PMC4855514/)\n",
    "Obese 2 and above = 1.29 (ref - https://www.ncbi.nlm.nih.gov/pmc/articles/PMC4855514/)\n",
    "\n",
    "For Obese 1 the value is below 1, therefore it might be assumed that this represents a reduction in all-cause mortality. However, this value is within the margin of error (ref - https://www.ncbi.nlm.nih.gov/pmc/articles/PMC4855514/).\n",
    "\n",
    "Surprisingly, being overweight was found to be significantly associated with a lower risk of all cause mortality relative to normal weight. (Ref - https://www.ncbi.nlm.nih.gov/pmc/articles/PMC4855514/)"
   ]
  },
  {
   "cell_type": "code",
   "execution_count": 18,
   "metadata": {},
   "outputs": [
    {
     "data": {
      "text/plain": [
       "([0.94, 1.29, 0.94, 0.95, 0.94, ..., 0.94, 1.00, 1.00, 0.94, 1.00]\n",
       " Length: 1000\n",
       " Categories (5, float64): [1.37 < 1.00 < 0.94 < 0.95 < 1.29],\n",
       " array([    0. ,    18.5,    25. ,    30. ,    35. ,  1000. ]))"
      ]
     },
     "execution_count": 18,
     "metadata": {},
     "output_type": "execute_result"
    }
   ],
   "source": [
    "# Creating categorical array from a continuous array\n",
    "# Adapted from https://pandas.pydata.org/pandas-docs/stable/generated/pandas.cut.html#pandas.cut\n",
    "# and from https://pandas.pydata.org/pandas-docs/stable/categorical.html\n",
    "\n",
    "HRCategories = [1.37, 1, 0.94, 0.95, 1.29]\n",
    "\n",
    "HRArray = pd.cut(maleBMI, [0.0, 18.5, 25.0, 30.0, 35.0, 1000.0], labels=HRCategories, retbins=True, right=False)\n",
    "\n",
    "HRArray"
   ]
  },
  {
   "cell_type": "markdown",
   "metadata": {},
   "source": [
    "Percentage in ireland with obesity\n",
    "\n",
    "https://www.safefood.eu/SafeFood/media/SafeFoodLibrary/Documents/Professional/Nutrition/Adult-and-children-obesity-trends-ROI.pdf\n",
    "\n"
   ]
  },
  {
   "cell_type": "markdown",
   "metadata": {},
   "source": [
    "## Simulating the Dataset"
   ]
  },
  {
   "cell_type": "markdown",
   "metadata": {},
   "source": [
    "## Conclusion"
   ]
  },
  {
   "cell_type": "code",
   "execution_count": null,
   "metadata": {},
   "outputs": [],
   "source": []
  }
 ],
 "metadata": {
  "kernelspec": {
   "display_name": "Python 3",
   "language": "python",
   "name": "python3"
  },
  "language_info": {
   "codemirror_mode": {
    "name": "ipython",
    "version": 3
   },
   "file_extension": ".py",
   "mimetype": "text/x-python",
   "name": "python",
   "nbconvert_exporter": "python",
   "pygments_lexer": "ipython3",
   "version": "3.6.7"
  }
 },
 "nbformat": 4,
 "nbformat_minor": 2
}
