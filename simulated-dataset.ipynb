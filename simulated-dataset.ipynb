{
 "cells": [
  {
   "cell_type": "markdown",
   "metadata": {},
   "source": [
    "# A Simulated Dataset of a Real-World Phenomenom"
   ]
  },
  {
   "cell_type": "markdown",
   "metadata": {},
   "source": [
    "## Introduction\n",
    "\n",
    "The real-world phenomenom that I will be looking at is the relationship between obesity and increased mortaility. Obesity grades 2 and 3 (BMI >/= 35) is associated with an aproximate 30% increase in all-cause mortality https://www.ncbi.nlm.nih.gov/pmc/articles/PMC4855514/. \n",
    "\n",
    "This dataset can be used to predict the number of people in a population that will suffer from obesity and therefore an increase in all-cause mortality.\n",
    "\n"
   ]
  },
  {
   "cell_type": "markdown",
   "metadata": {},
   "source": [
    "## Investigation\n",
    "Variables to look at:\n",
    "Sex (What is the proportion of males to females?)\n",
    "Weight (Average weight by sex and the standard deviation)\n",
    "Height (Average height and standard deviation)\n",
    "BMI \n",
    "BMI Category \n",
    "Risk of all-cause mortality\n",
    "\n",
    "For sex, there are different average weights and heights for males and females."
   ]
  },
  {
   "cell_type": "markdown",
   "metadata": {},
   "source": [
    "We'll start by importing some libraries"
   ]
  },
  {
   "cell_type": "code",
   "execution_count": 1,
   "metadata": {},
   "outputs": [],
   "source": [
    "import numpy as np\n",
    "import pandas as pd\n",
    "import matplotlib.pyplot as plt"
   ]
  },
  {
   "cell_type": "markdown",
   "metadata": {},
   "source": [
    "### Sex ratio\n",
    "\n",
    "Worldwide there are 102 males to 100 females (Reference: https://en.wikipedia.org/wiki/Human_sex_ratio)"
   ]
  },
  {
   "cell_type": "code",
   "execution_count": 23,
   "metadata": {},
   "outputs": [
    {
     "data": {
      "text/plain": [
       "(array(['female', 'male'],\n",
       "       dtype='<U6'), array([ 979, 1021], dtype=int64))"
      ]
     },
     "execution_count": 23,
     "metadata": {},
     "output_type": "execute_result"
    }
   ],
   "source": [
    "# Number of males and females.\n",
    "\n",
    "population = 2000\n",
    "\n",
    "sex =[\"male\", \"female\"]\n",
    "\n",
    "\n",
    "sexArray = np.random.choice(sex, population, p=[102/202, 100/202])\n",
    "\n",
    "np.unique(sexArray, return_counts=True)"
   ]
  },
  {
   "cell_type": "markdown",
   "metadata": {},
   "source": [
    "### Weight\n",
    "\n",
    "Human bodyweight is roughly bell-shaped (http://www.usablestats.com/lessons/normal)\n",
    "\n",
    "Average adult (20 to 69 years old) male weight is 76.7 kg with a standard deviation of 12.1 kg and average female weight is 61.5 kg with a standard deviation of 11.1 kg. https://jech.bmj.com/content/jech/40/4/319.full.pdf\n",
    "\n",
    "These figures were collected in 1981 in Canada. \n",
    "\n",
    "The weighted average adult weight for men and women therefore is:"
   ]
  },
  {
   "cell_type": "code",
   "execution_count": 7,
   "metadata": {},
   "outputs": [
    {
     "data": {
      "text/plain": [
       "9.702086049543675"
      ]
     },
     "execution_count": 7,
     "metadata": {},
     "output_type": "execute_result"
    }
   ],
   "source": [
    "12.1 /76.7 * 61.5\n"
   ]
  },
  {
   "cell_type": "code",
   "execution_count": 6,
   "metadata": {},
   "outputs": [
    {
     "name": "stdout",
     "output_type": "stream",
     "text": [
      "69.17524752475248\n"
     ]
    }
   ],
   "source": [
    "averageWeight = ((76.7 * 102)/202)+((61.5 * 100)/202)\n",
    "print(averageWeight)"
   ]
  },
  {
   "cell_type": "markdown",
   "metadata": {},
   "source": [
    "### Making some assumptions\n",
    "\n",
    "The average adult weight in Europe is 70.8 kg (Reference - https://en.wikipedia.org/wiki/Human_body_weight). As this is close to the weighted averaga weight from the the Candian study above, I'll assume that these figures will be similar to the real values for adult Europeans.\n",
    "\n",
    "As no figures could be found for the standard deviation of Male and Female weights in Europe I'll assume that the standard deviations will be similar to the Canadian study above.\n",
    "\n",
    "#### Limitations to these assumptions\n",
    "\n",
    "Increase in obesity and anorexia (need citation) \n",
    "\n",
    "Possible differences in weight distributions between different countries (give examples - use extremes)"
   ]
  },
  {
   "cell_type": "markdown",
   "metadata": {},
   "source": [
    "As the average european weight is slightly heavier that the weighted average weight found in the Canadian study above, a factor will be devised and then applied to the male and female weights and standard deviations."
   ]
  },
  {
   "cell_type": "code",
   "execution_count": 4,
   "metadata": {},
   "outputs": [
    {
     "data": {
      "text/plain": [
       "1.0234171725932348"
      ]
     },
     "execution_count": 4,
     "metadata": {},
     "output_type": "execute_result"
    }
   ],
   "source": [
    "70.8/69.18"
   ]
  },
  {
   "cell_type": "markdown",
   "metadata": {},
   "source": [
    "### Height\n",
    "\n",
    "Like human bodyweight, height is also roughly bell-shaped (http://www.usablestats.com/lessons/normal)\n",
    "\n",
    "male 70 inches 4 SD\n",
    "female 65 inces 3.5 SD\n",
    "\n"
   ]
  },
  {
   "cell_type": "markdown",
   "metadata": {},
   "source": [
    "## Simulating the Dataset"
   ]
  },
  {
   "cell_type": "markdown",
   "metadata": {},
   "source": [
    "## Conclusion"
   ]
  }
 ],
 "metadata": {
  "kernelspec": {
   "display_name": "Python 3",
   "language": "python",
   "name": "python3"
  },
  "language_info": {
   "codemirror_mode": {
    "name": "ipython",
    "version": 3
   },
   "file_extension": ".py",
   "mimetype": "text/x-python",
   "name": "python",
   "nbconvert_exporter": "python",
   "pygments_lexer": "ipython3",
   "version": "3.6.7"
  }
 },
 "nbformat": 4,
 "nbformat_minor": 2
}
